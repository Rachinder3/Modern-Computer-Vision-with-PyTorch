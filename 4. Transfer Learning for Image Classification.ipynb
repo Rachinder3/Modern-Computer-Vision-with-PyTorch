{
 "cells": [
  {
   "attachments": {},
   "cell_type": "markdown",
   "metadata": {},
   "source": [
    "# Loading Libraries"
   ]
  },
  {
   "cell_type": "code",
   "execution_count": 1,
   "metadata": {},
   "outputs": [],
   "source": [
    "import torch\n",
    "import torch.nn as nn\n",
    "from torchsummary import summary\n",
    "from torch.utils.data import DataLoader, Dataset, TensorDataset\n",
    "import numpy as np\n",
    "import pandas as pd\n",
    "import matplotlib.pyplot as plt\n",
    "from torchvision import transforms, models, datasets  ## models contains the pre trained models\n",
    "%matplotlib inline\n",
    "\n",
    "import seaborn as sns\n",
    "import torch.nn.functional as F\n"
   ]
  },
  {
   "cell_type": "code",
   "execution_count": 2,
   "metadata": {},
   "outputs": [],
   "source": [
    "device = \"cuda\" if torch.cuda.is_available() else \"cpu\""
   ]
  },
  {
   "cell_type": "code",
   "execution_count": 3,
   "metadata": {},
   "outputs": [],
   "source": [
    "from sklearn.model_selection import train_test_split"
   ]
  },
  {
   "cell_type": "code",
   "execution_count": 4,
   "metadata": {},
   "outputs": [],
   "source": [
    "import face_alignment"
   ]
  },
  {
   "cell_type": "code",
   "execution_count": 5,
   "metadata": {},
   "outputs": [],
   "source": [
    "import os\n",
    "from PIL import Image\n",
    "import cv2\n",
    "from glob import glob\n",
    "from copy import deepcopy\n",
    "\n"
   ]
  },
  {
   "cell_type": "code",
   "execution_count": 6,
   "metadata": {},
   "outputs": [],
   "source": [
    "from sklearn import cluster\n",
    "from mpl_toolkits.mplot3d import Axes3D\n",
    "root_dir = \"4\""
   ]
  },
  {
   "attachments": {},
   "cell_type": "markdown",
   "metadata": {},
   "source": [
    "# VGG : Visual Geometric Group. Takes imput as (224,224,3)"
   ]
  },
  {
   "cell_type": "code",
   "execution_count": 4,
   "metadata": {},
   "outputs": [
    {
     "name": "stderr",
     "output_type": "stream",
     "text": [
      "c:\\Users\\rachi\\anaconda3\\lib\\site-packages\\torchvision\\models\\_utils.py:223: UserWarning: Arguments other than a weight enum or `None` for 'weights' are deprecated since 0.13 and may be removed in the future. The current behavior is equivalent to passing `weights=VGG16_Weights.IMAGENET1K_V1`. You can also use `weights=VGG16_Weights.DEFAULT` to get the most up-to-date weights.\n",
      "  warnings.warn(msg)\n"
     ]
    }
   ],
   "source": [
    "model = models.vgg16(weights= True, progress=True)"
   ]
  },
  {
   "cell_type": "code",
   "execution_count": 5,
   "metadata": {},
   "outputs": [
    {
     "name": "stdout",
     "output_type": "stream",
     "text": [
      "==========================================================================================\n",
      "Layer (type:depth-idx)                   Output Shape              Param #\n",
      "==========================================================================================\n",
      "├─Sequential: 1-1                        [-1, 512, 7, 7]           --\n",
      "|    └─Conv2d: 2-1                       [-1, 64, 224, 224]        1,792\n",
      "|    └─ReLU: 2-2                         [-1, 64, 224, 224]        --\n",
      "|    └─Conv2d: 2-3                       [-1, 64, 224, 224]        36,928\n",
      "|    └─ReLU: 2-4                         [-1, 64, 224, 224]        --\n",
      "|    └─MaxPool2d: 2-5                    [-1, 64, 112, 112]        --\n",
      "|    └─Conv2d: 2-6                       [-1, 128, 112, 112]       73,856\n",
      "|    └─ReLU: 2-7                         [-1, 128, 112, 112]       --\n",
      "|    └─Conv2d: 2-8                       [-1, 128, 112, 112]       147,584\n",
      "|    └─ReLU: 2-9                         [-1, 128, 112, 112]       --\n",
      "|    └─MaxPool2d: 2-10                   [-1, 128, 56, 56]         --\n",
      "|    └─Conv2d: 2-11                      [-1, 256, 56, 56]         295,168\n",
      "|    └─ReLU: 2-12                        [-1, 256, 56, 56]         --\n",
      "|    └─Conv2d: 2-13                      [-1, 256, 56, 56]         590,080\n",
      "|    └─ReLU: 2-14                        [-1, 256, 56, 56]         --\n",
      "|    └─Conv2d: 2-15                      [-1, 256, 56, 56]         590,080\n",
      "|    └─ReLU: 2-16                        [-1, 256, 56, 56]         --\n",
      "|    └─MaxPool2d: 2-17                   [-1, 256, 28, 28]         --\n",
      "|    └─Conv2d: 2-18                      [-1, 512, 28, 28]         1,180,160\n",
      "|    └─ReLU: 2-19                        [-1, 512, 28, 28]         --\n",
      "|    └─Conv2d: 2-20                      [-1, 512, 28, 28]         2,359,808\n",
      "|    └─ReLU: 2-21                        [-1, 512, 28, 28]         --\n",
      "|    └─Conv2d: 2-22                      [-1, 512, 28, 28]         2,359,808\n",
      "|    └─ReLU: 2-23                        [-1, 512, 28, 28]         --\n",
      "|    └─MaxPool2d: 2-24                   [-1, 512, 14, 14]         --\n",
      "|    └─Conv2d: 2-25                      [-1, 512, 14, 14]         2,359,808\n",
      "|    └─ReLU: 2-26                        [-1, 512, 14, 14]         --\n",
      "|    └─Conv2d: 2-27                      [-1, 512, 14, 14]         2,359,808\n",
      "|    └─ReLU: 2-28                        [-1, 512, 14, 14]         --\n",
      "|    └─Conv2d: 2-29                      [-1, 512, 14, 14]         2,359,808\n",
      "|    └─ReLU: 2-30                        [-1, 512, 14, 14]         --\n",
      "|    └─MaxPool2d: 2-31                   [-1, 512, 7, 7]           --\n",
      "├─AdaptiveAvgPool2d: 1-2                 [-1, 512, 7, 7]           --\n",
      "├─Sequential: 1-3                        [-1, 1000]                --\n",
      "|    └─Linear: 2-32                      [-1, 4096]                102,764,544\n",
      "|    └─ReLU: 2-33                        [-1, 4096]                --\n",
      "|    └─Dropout: 2-34                     [-1, 4096]                --\n",
      "|    └─Linear: 2-35                      [-1, 4096]                16,781,312\n",
      "|    └─ReLU: 2-36                        [-1, 4096]                --\n",
      "|    └─Dropout: 2-37                     [-1, 4096]                --\n",
      "|    └─Linear: 2-38                      [-1, 1000]                4,097,000\n",
      "==========================================================================================\n",
      "Total params: 138,357,544\n",
      "Trainable params: 138,357,544\n",
      "Non-trainable params: 0\n",
      "Total mult-adds (G): 15.61\n",
      "==========================================================================================\n",
      "Input size (MB): 0.57\n",
      "Forward/backward pass size (MB): 103.43\n",
      "Params size (MB): 527.79\n",
      "Estimated Total Size (MB): 631.80\n",
      "==========================================================================================\n",
      "==========================================================================================\n",
      "Layer (type:depth-idx)                   Output Shape              Param #\n",
      "==========================================================================================\n",
      "├─Sequential: 1-1                        [-1, 512, 7, 7]           --\n",
      "|    └─Conv2d: 2-1                       [-1, 64, 224, 224]        1,792\n",
      "|    └─ReLU: 2-2                         [-1, 64, 224, 224]        --\n",
      "|    └─Conv2d: 2-3                       [-1, 64, 224, 224]        36,928\n",
      "|    └─ReLU: 2-4                         [-1, 64, 224, 224]        --\n",
      "|    └─MaxPool2d: 2-5                    [-1, 64, 112, 112]        --\n",
      "|    └─Conv2d: 2-6                       [-1, 128, 112, 112]       73,856\n",
      "|    └─ReLU: 2-7                         [-1, 128, 112, 112]       --\n",
      "|    └─Conv2d: 2-8                       [-1, 128, 112, 112]       147,584\n",
      "|    └─ReLU: 2-9                         [-1, 128, 112, 112]       --\n",
      "|    └─MaxPool2d: 2-10                   [-1, 128, 56, 56]         --\n",
      "|    └─Conv2d: 2-11                      [-1, 256, 56, 56]         295,168\n",
      "|    └─ReLU: 2-12                        [-1, 256, 56, 56]         --\n",
      "|    └─Conv2d: 2-13                      [-1, 256, 56, 56]         590,080\n",
      "|    └─ReLU: 2-14                        [-1, 256, 56, 56]         --\n",
      "|    └─Conv2d: 2-15                      [-1, 256, 56, 56]         590,080\n",
      "|    └─ReLU: 2-16                        [-1, 256, 56, 56]         --\n",
      "|    └─MaxPool2d: 2-17                   [-1, 256, 28, 28]         --\n",
      "|    └─Conv2d: 2-18                      [-1, 512, 28, 28]         1,180,160\n",
      "|    └─ReLU: 2-19                        [-1, 512, 28, 28]         --\n",
      "|    └─Conv2d: 2-20                      [-1, 512, 28, 28]         2,359,808\n",
      "|    └─ReLU: 2-21                        [-1, 512, 28, 28]         --\n",
      "|    └─Conv2d: 2-22                      [-1, 512, 28, 28]         2,359,808\n",
      "|    └─ReLU: 2-23                        [-1, 512, 28, 28]         --\n",
      "|    └─MaxPool2d: 2-24                   [-1, 512, 14, 14]         --\n",
      "|    └─Conv2d: 2-25                      [-1, 512, 14, 14]         2,359,808\n",
      "|    └─ReLU: 2-26                        [-1, 512, 14, 14]         --\n",
      "|    └─Conv2d: 2-27                      [-1, 512, 14, 14]         2,359,808\n",
      "|    └─ReLU: 2-28                        [-1, 512, 14, 14]         --\n",
      "|    └─Conv2d: 2-29                      [-1, 512, 14, 14]         2,359,808\n",
      "|    └─ReLU: 2-30                        [-1, 512, 14, 14]         --\n",
      "|    └─MaxPool2d: 2-31                   [-1, 512, 7, 7]           --\n",
      "├─AdaptiveAvgPool2d: 1-2                 [-1, 512, 7, 7]           --\n",
      "├─Sequential: 1-3                        [-1, 1000]                --\n",
      "|    └─Linear: 2-32                      [-1, 4096]                102,764,544\n",
      "|    └─ReLU: 2-33                        [-1, 4096]                --\n",
      "|    └─Dropout: 2-34                     [-1, 4096]                --\n",
      "|    └─Linear: 2-35                      [-1, 4096]                16,781,312\n",
      "|    └─ReLU: 2-36                        [-1, 4096]                --\n",
      "|    └─Dropout: 2-37                     [-1, 4096]                --\n",
      "|    └─Linear: 2-38                      [-1, 1000]                4,097,000\n",
      "==========================================================================================\n",
      "Total params: 138,357,544\n",
      "Trainable params: 138,357,544\n",
      "Non-trainable params: 0\n",
      "Total mult-adds (G): 15.61\n",
      "==========================================================================================\n",
      "Input size (MB): 0.57\n",
      "Forward/backward pass size (MB): 103.43\n",
      "Params size (MB): 527.79\n",
      "Estimated Total Size (MB): 631.80\n",
      "==========================================================================================\n"
     ]
    }
   ],
   "source": [
    "print(summary(model, torch.zeros((1,3,224,224))))"
   ]
  },
  {
   "attachments": {},
   "cell_type": "markdown",
   "metadata": {},
   "source": [
    "# VGG on cats and dogs"
   ]
  },
  {
   "cell_type": "code",
   "execution_count": 6,
   "metadata": {},
   "outputs": [],
   "source": [
    "train_dir = \"3\\\\catsanddogs\\\\PetImages\\\\training\"\n",
    "test_dir = \"3\\\\catsanddogs\\\\PetImages\\\\testing\""
   ]
  },
  {
   "cell_type": "code",
   "execution_count": 7,
   "metadata": {},
   "outputs": [],
   "source": [
    "#### cleaning the dataset\n",
    "cat_files_dir = os.path.join(train_dir, \"Cat\")\n",
    "cats_tr = glob(cat_files_dir+\"\\*.jpg\")\n",
    "        \n",
    "dog_files_dir = os.path.join(train_dir, \"Dog\")\n",
    "dogs_tr = glob(dog_files_dir+\"\\*.jpg\")\n",
    "\n",
    "\n",
    "cat_files_dir = os.path.join(test_dir, \"Cat\")\n",
    "cats_val = glob(cat_files_dir+\"\\*.jpg\")\n",
    "        \n",
    "dog_files_dir = os.path.join(test_dir, \"Dog\")\n",
    "dogs_val = glob(dog_files_dir+\"\\*.jpg\")\n"
   ]
  },
  {
   "cell_type": "code",
   "execution_count": 8,
   "metadata": {},
   "outputs": [],
   "source": [
    "#folders = [cats_tr, dogs_tr, cats_val, dogs_val]\n",
    "\n",
    "#for folder in folders:\n",
    "#    for path in folder:\n",
    "#        im = cv2.imread(path)\n",
    "#        if im is None:\n",
    "#            os.remove(path)\n",
    "#            print(f\"removed: {path}\")"
   ]
  },
  {
   "cell_type": "code",
   "execution_count": 9,
   "metadata": {},
   "outputs": [
    {
     "name": "stdout",
     "output_type": "stream",
     "text": [
      "\u001b[1;31mInit signature:\u001b[0m \u001b[0mtransforms\u001b[0m\u001b[1;33m.\u001b[0m\u001b[0mNormalize\u001b[0m\u001b[1;33m(\u001b[0m\u001b[0mmean\u001b[0m\u001b[1;33m,\u001b[0m \u001b[0mstd\u001b[0m\u001b[1;33m,\u001b[0m \u001b[0minplace\u001b[0m\u001b[1;33m=\u001b[0m\u001b[1;32mFalse\u001b[0m\u001b[1;33m)\u001b[0m\u001b[1;33m\u001b[0m\u001b[1;33m\u001b[0m\u001b[0m\n",
      "\u001b[1;31mDocstring:\u001b[0m     \n",
      "Normalize a tensor image with mean and standard deviation.\n",
      "This transform does not support PIL Image.\n",
      "Given mean: ``(mean[1],...,mean[n])`` and std: ``(std[1],..,std[n])`` for ``n``\n",
      "channels, this transform will normalize each channel of the input\n",
      "``torch.*Tensor`` i.e.,\n",
      "``output[channel] = (input[channel] - mean[channel]) / std[channel]``\n",
      "\n",
      ".. note::\n",
      "    This transform acts out of place, i.e., it does not mutate the input tensor.\n",
      "\n",
      "Args:\n",
      "    mean (sequence): Sequence of means for each channel.\n",
      "    std (sequence): Sequence of standard deviations for each channel.\n",
      "    inplace(bool,optional): Bool to make this operation in-place.\n",
      "\u001b[1;31mInit docstring:\u001b[0m Initializes internal Module state, shared by both nn.Module and ScriptModule.\n",
      "\u001b[1;31mFile:\u001b[0m           c:\\users\\rachi\\anaconda3\\lib\\site-packages\\torchvision\\transforms\\transforms.py\n",
      "\u001b[1;31mType:\u001b[0m           type\n",
      "\u001b[1;31mSubclasses:\u001b[0m     \n"
     ]
    }
   ],
   "source": [
    "transforms.Normalize?"
   ]
  },
  {
   "attachments": {},
   "cell_type": "markdown",
   "metadata": {},
   "source": [
    "##### While leveraging pre-trained models, it is mandatory to resize, permute and normalize, where images are scaled b.w 0 and 1 across 3 channels and then normalized to mean of [0.485,0.456,0.406] and standard deviations : [0.229,0.224, 0.225]"
   ]
  },
  {
   "cell_type": "code",
   "execution_count": 148,
   "metadata": {},
   "outputs": [],
   "source": [
    "class cats_dogs(Dataset):\n",
    "    \n",
    "    def __init__(self, root_dir):\n",
    "        cat_files_dir = os.path.join(root_dir, \"Cat\")\n",
    "        cats = glob(cat_files_dir+\"\\*.jpg\")\n",
    "        \n",
    "        dog_files_dir = os.path.join(root_dir, \"Dog\")\n",
    "        dogs = glob(dog_files_dir+\"\\*.jpg\")\n",
    "        \n",
    "        \n",
    "        ### combining all files\n",
    "        self.fpaths = dogs + cats\n",
    "        self.normalize = transforms.Normalize(mean=[0.485,0.456,0.406], std = [0.229,0.224, 0.225])\n",
    "        \n",
    "        #### shuffling all the files\n",
    "        from random import shuffle\n",
    "        shuffle(self.fpaths)\n",
    "        \n",
    "        \n",
    "        #### Creating target , Dog = 1, Cat = 0\n",
    "        self.targets = [int('Dog' in file) for file in self.fpaths]\n",
    "        \n",
    "        \n",
    "        \n",
    "    def __len__(self):\n",
    "        return len(self.fpaths)\n",
    "    \n",
    "    def __getitem__(self, index):\n",
    "        f = self.fpaths[index]\n",
    "        target = self.targets[index]\n",
    "        \n",
    "        ### Reading image and converting to rgb\n",
    "        #im = plt.imread(f)\n",
    "        im = cv2.imread(f)\n",
    "        im = cv2.cvtColor(im, cv2.COLOR_BGR2RGB)\n",
    "        im = cv2.resize(im, (224,224)) \n",
    "        #im = cv2.resize(im, (64,64))\n",
    "        im = torch.tensor(im/255).permute(2,0,1)\n",
    "        im = self.normalize(im)\n",
    "        \n",
    "        \n",
    "        \n",
    "        \n",
    "        \n",
    "        \n",
    "        \n",
    "        return im.float().to(device), torch.tensor([target]).float().to(device)\n",
    "    \n",
    "        \n",
    "    \n",
    "        \n",
    "    \n",
    "        \n",
    "        \n",
    "        \n",
    "        \n",
    "        \n",
    "        \n",
    "        "
   ]
  },
  {
   "cell_type": "code",
   "execution_count": 149,
   "metadata": {},
   "outputs": [],
   "source": [
    "trn_ds = cats_dogs(train_dir)\n",
    "val_ds = cats_dogs(test_dir)"
   ]
  },
  {
   "cell_type": "code",
   "execution_count": 150,
   "metadata": {},
   "outputs": [
    {
     "data": {
      "text/plain": [
       "8072"
      ]
     },
     "execution_count": 150,
     "metadata": {},
     "output_type": "execute_result"
    }
   ],
   "source": [
    "len(trn_ds)"
   ]
  },
  {
   "cell_type": "code",
   "execution_count": 157,
   "metadata": {},
   "outputs": [],
   "source": [
    "index = np.random.choice(len(trn_ds))"
   ]
  },
  {
   "cell_type": "code",
   "execution_count": 158,
   "metadata": {},
   "outputs": [],
   "source": [
    "im, label = trn_ds[index]"
   ]
  },
  {
   "cell_type": "code",
   "execution_count": 159,
   "metadata": {},
   "outputs": [
    {
     "data": {
      "text/plain": [
       "torch.Size([3, 224, 224])"
      ]
     },
     "execution_count": 159,
     "metadata": {},
     "output_type": "execute_result"
    }
   ],
   "source": [
    "im.shape "
   ]
  },
  {
   "cell_type": "code",
   "execution_count": 160,
   "metadata": {},
   "outputs": [
    {
     "data": {
      "text/plain": [
       "tensor([0.], device='cuda:0')"
      ]
     },
     "execution_count": 160,
     "metadata": {},
     "output_type": "execute_result"
    }
   ],
   "source": [
    "label"
   ]
  },
  {
   "cell_type": "code",
   "execution_count": 161,
   "metadata": {},
   "outputs": [
    {
     "name": "stderr",
     "output_type": "stream",
     "text": [
      "Clipping input data to the valid range for imshow with RGB data ([0..1] for floats or [0..255] for integers).\n"
     ]
    },
    {
     "data": {
      "image/png": "[encoded data removed]",
      "text/plain": [
       "<Figure size 432x288 with 1 Axes>"
      ]
     },
     "metadata": {
      "needs_background": "light"
     },
     "output_type": "display_data"
    }
   ],
   "source": [
    "### permuting so that shape is 224,224,3\n",
    "\n",
    "plt.imshow(im.permute(1,2,0).cpu())\n",
    "plt.title(f\"{'Dog' if label==1 else 'Cat'}\")\n",
    "\n",
    "plt.show()"
   ]
  },
  {
   "cell_type": "code",
   "execution_count": 162,
   "metadata": {},
   "outputs": [
    {
     "data": {
      "text/plain": [
       "<generator object Module.parameters at 0x000002AE49CDF0B0>"
      ]
     },
     "execution_count": 162,
     "metadata": {},
     "output_type": "execute_result"
    }
   ],
   "source": [
    "model.parameters()"
   ]
  },
  {
   "cell_type": "code",
   "execution_count": 163,
   "metadata": {},
   "outputs": [
    {
     "name": "stdout",
     "output_type": "stream",
     "text": [
      "False False False False False False False False False False False False False False False False False False False False False False False False False False True True True True True True "
     ]
    }
   ],
   "source": [
    "for param in model.parameters():\n",
    "    print(param.requires_grad, end = \" \") # set this to false for all the parameters"
   ]
  },
  {
   "cell_type": "code",
   "execution_count": 164,
   "metadata": {},
   "outputs": [
    {
     "name": "stdout",
     "output_type": "stream",
     "text": [
      "VGG(\n",
      "  (features): Sequential(\n",
      "    (0): Conv2d(3, 64, kernel_size=(3, 3), stride=(1, 1), padding=(1, 1))\n",
      "    (1): ReLU(inplace=True)\n",
      "    (2): Conv2d(64, 64, kernel_size=(3, 3), stride=(1, 1), padding=(1, 1))\n",
      "    (3): ReLU(inplace=True)\n",
      "    (4): MaxPool2d(kernel_size=2, stride=2, padding=0, dilation=1, ceil_mode=False)\n",
      "    (5): Conv2d(64, 128, kernel_size=(3, 3), stride=(1, 1), padding=(1, 1))\n",
      "    (6): ReLU(inplace=True)\n",
      "    (7): Conv2d(128, 128, kernel_size=(3, 3), stride=(1, 1), padding=(1, 1))\n",
      "    (8): ReLU(inplace=True)\n",
      "    (9): MaxPool2d(kernel_size=2, stride=2, padding=0, dilation=1, ceil_mode=False)\n",
      "    (10): Conv2d(128, 256, kernel_size=(3, 3), stride=(1, 1), padding=(1, 1))\n",
      "    (11): ReLU(inplace=True)\n",
      "    (12): Conv2d(256, 256, kernel_size=(3, 3), stride=(1, 1), padding=(1, 1))\n",
      "    (13): ReLU(inplace=True)\n",
      "    (14): Conv2d(256, 256, kernel_size=(3, 3), stride=(1, 1), padding=(1, 1))\n",
      "    (15): ReLU(inplace=True)\n",
      "    (16): MaxPool2d(kernel_size=2, stride=2, padding=0, dilation=1, ceil_mode=False)\n",
      "    (17): Conv2d(256, 512, kernel_size=(3, 3), stride=(1, 1), padding=(1, 1))\n",
      "    (18): ReLU(inplace=True)\n",
      "    (19): Conv2d(512, 512, kernel_size=(3, 3), stride=(1, 1), padding=(1, 1))\n",
      "    (20): ReLU(inplace=True)\n",
      "    (21): Conv2d(512, 512, kernel_size=(3, 3), stride=(1, 1), padding=(1, 1))\n",
      "    (22): ReLU(inplace=True)\n",
      "    (23): MaxPool2d(kernel_size=2, stride=2, padding=0, dilation=1, ceil_mode=False)\n",
      "    (24): Conv2d(512, 512, kernel_size=(3, 3), stride=(1, 1), padding=(1, 1))\n",
      "    (25): ReLU(inplace=True)\n",
      "    (26): Conv2d(512, 512, kernel_size=(3, 3), stride=(1, 1), padding=(1, 1))\n",
      "    (27): ReLU(inplace=True)\n",
      "    (28): Conv2d(512, 512, kernel_size=(3, 3), stride=(1, 1), padding=(1, 1))\n",
      "    (29): ReLU(inplace=True)\n",
      "    (30): MaxPool2d(kernel_size=2, stride=2, padding=0, dilation=1, ceil_mode=False)\n",
      "  )\n",
      "  (avgpool): AdaptiveAvgPool2d(output_size=(1, 1))\n",
      "  (classifier): Sequential(\n",
      "    (0): Flatten(start_dim=1, end_dim=-1)\n",
      "    (1): Linear(in_features=512, out_features=256, bias=True)\n",
      "    (2): ReLU()\n",
      "    (3): Linear(in_features=256, out_features=64, bias=True)\n",
      "    (4): ReLU()\n",
      "    (5): Linear(in_features=64, out_features=2, bias=True)\n",
      "    (6): Sigmoid()\n",
      "  )\n",
      ")\n"
     ]
    }
   ],
   "source": [
    "print(model) ## Will change classifier part of this model within the model class"
   ]
  },
  {
   "cell_type": "code",
   "execution_count": 165,
   "metadata": {},
   "outputs": [],
   "source": [
    "def get_model():\n",
    "    model = models.vgg16(weights=True, progress=True)\n",
    "    for param in model.parameters():\n",
    "        param.requires_grad = False\n",
    "    model.avgpool = nn.AdaptiveAvgPool2d(output_size=(1,1))  ### will return (512,1,1) instead of (512,7,7)\n",
    "    model.classifier = nn.Sequential(\n",
    "        nn.Flatten(),\n",
    "        nn.Linear(512,256),\n",
    "        nn.ReLU(),\n",
    "        nn.Linear(256,64),\n",
    "        nn.ReLU(),\n",
    "        nn.Linear(64,1),  #### Here, the last ouput should be 1 and not 2 as we are using BCEloss\n",
    "        nn.Sigmoid()\n",
    "    )\n",
    "    \n",
    "    loss_fn = nn.BCELoss()\n",
    "    \n",
    "    optimizer = torch.optim.Adam(model.parameters(), lr=1e-3)\n",
    "    \n",
    "    return model.to(device), loss_fn, optimizer\n",
    "    \n",
    "    "
   ]
  },
  {
   "cell_type": "code",
   "execution_count": 166,
   "metadata": {},
   "outputs": [
    {
     "name": "stderr",
     "output_type": "stream",
     "text": [
      "c:\\Users\\rachi\\anaconda3\\lib\\site-packages\\torchvision\\models\\_utils.py:223: UserWarning: Arguments other than a weight enum or `None` for 'weights' are deprecated since 0.13 and may be removed in the future. The current behavior is equivalent to passing `weights=VGG16_Weights.IMAGENET1K_V1`. You can also use `weights=VGG16_Weights.DEFAULT` to get the most up-to-date weights.\n",
      "  warnings.warn(msg)\n"
     ]
    }
   ],
   "source": [
    "model, loss_fn, optimizer = get_model()"
   ]
  },
  {
   "cell_type": "code",
   "execution_count": 167,
   "metadata": {},
   "outputs": [
    {
     "data": {
      "text/plain": [
       "BCELoss()"
      ]
     },
     "execution_count": 167,
     "metadata": {},
     "output_type": "execute_result"
    }
   ],
   "source": [
    "loss_fn"
   ]
  },
  {
   "cell_type": "code",
   "execution_count": 168,
   "metadata": {},
   "outputs": [
    {
     "name": "stdout",
     "output_type": "stream",
     "text": [
      "==========================================================================================\n",
      "Layer (type:depth-idx)                   Output Shape              Param #\n",
      "==========================================================================================\n",
      "├─Sequential: 1-1                        [-1, 512, 7, 7]           --\n",
      "|    └─Conv2d: 2-1                       [-1, 64, 224, 224]        (1,792)\n",
      "|    └─ReLU: 2-2                         [-1, 64, 224, 224]        --\n",
      "|    └─Conv2d: 2-3                       [-1, 64, 224, 224]        (36,928)\n",
      "|    └─ReLU: 2-4                         [-1, 64, 224, 224]        --\n",
      "|    └─MaxPool2d: 2-5                    [-1, 64, 112, 112]        --\n",
      "|    └─Conv2d: 2-6                       [-1, 128, 112, 112]       (73,856)\n",
      "|    └─ReLU: 2-7                         [-1, 128, 112, 112]       --\n",
      "|    └─Conv2d: 2-8                       [-1, 128, 112, 112]       (147,584)\n",
      "|    └─ReLU: 2-9                         [-1, 128, 112, 112]       --\n",
      "|    └─MaxPool2d: 2-10                   [-1, 128, 56, 56]         --\n",
      "|    └─Conv2d: 2-11                      [-1, 256, 56, 56]         (295,168)\n",
      "|    └─ReLU: 2-12                        [-1, 256, 56, 56]         --\n",
      "|    └─Conv2d: 2-13                      [-1, 256, 56, 56]         (590,080)\n",
      "|    └─ReLU: 2-14                        [-1, 256, 56, 56]         --\n",
      "|    └─Conv2d: 2-15                      [-1, 256, 56, 56]         (590,080)\n",
      "|    └─ReLU: 2-16                        [-1, 256, 56, 56]         --\n",
      "|    └─MaxPool2d: 2-17                   [-1, 256, 28, 28]         --\n",
      "|    └─Conv2d: 2-18                      [-1, 512, 28, 28]         (1,180,160)\n",
      "|    └─ReLU: 2-19                        [-1, 512, 28, 28]         --\n",
      "|    └─Conv2d: 2-20                      [-1, 512, 28, 28]         (2,359,808)\n",
      "|    └─ReLU: 2-21                        [-1, 512, 28, 28]         --\n",
      "|    └─Conv2d: 2-22                      [-1, 512, 28, 28]         (2,359,808)\n",
      "|    └─ReLU: 2-23                        [-1, 512, 28, 28]         --\n",
      "|    └─MaxPool2d: 2-24                   [-1, 512, 14, 14]         --\n",
      "|    └─Conv2d: 2-25                      [-1, 512, 14, 14]         (2,359,808)\n",
      "|    └─ReLU: 2-26                        [-1, 512, 14, 14]         --\n",
      "|    └─Conv2d: 2-27                      [-1, 512, 14, 14]         (2,359,808)\n",
      "|    └─ReLU: 2-28                        [-1, 512, 14, 14]         --\n",
      "|    └─Conv2d: 2-29                      [-1, 512, 14, 14]         (2,359,808)\n",
      "|    └─ReLU: 2-30                        [-1, 512, 14, 14]         --\n",
      "|    └─MaxPool2d: 2-31                   [-1, 512, 7, 7]           --\n",
      "├─AdaptiveAvgPool2d: 1-2                 [-1, 512, 1, 1]           --\n",
      "├─Sequential: 1-3                        [-1, 1]                   --\n",
      "|    └─Flatten: 2-32                     [-1, 512]                 --\n",
      "|    └─Linear: 2-33                      [-1, 256]                 131,328\n",
      "|    └─ReLU: 2-34                        [-1, 256]                 --\n",
      "|    └─Linear: 2-35                      [-1, 64]                  16,448\n",
      "|    └─ReLU: 2-36                        [-1, 64]                  --\n",
      "|    └─Linear: 2-37                      [-1, 1]                   65\n",
      "|    └─Sigmoid: 2-38                     [-1, 1]                   --\n",
      "==========================================================================================\n",
      "Total params: 14,862,529\n",
      "Trainable params: 147,841\n",
      "Non-trainable params: 14,714,688\n",
      "Total mult-adds (G): 15.36\n",
      "==========================================================================================\n",
      "Input size (MB): 0.57\n",
      "Forward/backward pass size (MB): 103.36\n",
      "Params size (MB): 56.70\n",
      "Estimated Total Size (MB): 160.63\n",
      "==========================================================================================\n",
      "==========================================================================================\n",
      "Layer (type:depth-idx)                   Output Shape              Param #\n",
      "==========================================================================================\n",
      "├─Sequential: 1-1                        [-1, 512, 7, 7]           --\n",
      "|    └─Conv2d: 2-1                       [-1, 64, 224, 224]        (1,792)\n",
      "|    └─ReLU: 2-2                         [-1, 64, 224, 224]        --\n",
      "|    └─Conv2d: 2-3                       [-1, 64, 224, 224]        (36,928)\n",
      "|    └─ReLU: 2-4                         [-1, 64, 224, 224]        --\n",
      "|    └─MaxPool2d: 2-5                    [-1, 64, 112, 112]        --\n",
      "|    └─Conv2d: 2-6                       [-1, 128, 112, 112]       (73,856)\n",
      "|    └─ReLU: 2-7                         [-1, 128, 112, 112]       --\n",
      "|    └─Conv2d: 2-8                       [-1, 128, 112, 112]       (147,584)\n",
      "|    └─ReLU: 2-9                         [-1, 128, 112, 112]       --\n",
      "|    └─MaxPool2d: 2-10                   [-1, 128, 56, 56]         --\n",
      "|    └─Conv2d: 2-11                      [-1, 256, 56, 56]         (295,168)\n",
      "|    └─ReLU: 2-12                        [-1, 256, 56, 56]         --\n",
      "|    └─Conv2d: 2-13                      [-1, 256, 56, 56]         (590,080)\n",
      "|    └─ReLU: 2-14                        [-1, 256, 56, 56]         --\n",
      "|    └─Conv2d: 2-15                      [-1, 256, 56, 56]         (590,080)\n",
      "|    └─ReLU: 2-16                        [-1, 256, 56, 56]         --\n",
      "|    └─MaxPool2d: 2-17                   [-1, 256, 28, 28]         --\n",
      "|    └─Conv2d: 2-18                      [-1, 512, 28, 28]         (1,180,160)\n",
      "|    └─ReLU: 2-19                        [-1, 512, 28, 28]         --\n",
      "|    └─Conv2d: 2-20                      [-1, 512, 28, 28]         (2,359,808)\n",
      "|    └─ReLU: 2-21                        [-1, 512, 28, 28]         --\n",
      "|    └─Conv2d: 2-22                      [-1, 512, 28, 28]         (2,359,808)\n",
      "|    └─ReLU: 2-23                        [-1, 512, 28, 28]         --\n",
      "|    └─MaxPool2d: 2-24                   [-1, 512, 14, 14]         --\n",
      "|    └─Conv2d: 2-25                      [-1, 512, 14, 14]         (2,359,808)\n",
      "|    └─ReLU: 2-26                        [-1, 512, 14, 14]         --\n",
      "|    └─Conv2d: 2-27                      [-1, 512, 14, 14]         (2,359,808)\n",
      "|    └─ReLU: 2-28                        [-1, 512, 14, 14]         --\n",
      "|    └─Conv2d: 2-29                      [-1, 512, 14, 14]         (2,359,808)\n",
      "|    └─ReLU: 2-30                        [-1, 512, 14, 14]         --\n",
      "|    └─MaxPool2d: 2-31                   [-1, 512, 7, 7]           --\n",
      "├─AdaptiveAvgPool2d: 1-2                 [-1, 512, 1, 1]           --\n",
      "├─Sequential: 1-3                        [-1, 1]                   --\n",
      "|    └─Flatten: 2-32                     [-1, 512]                 --\n",
      "|    └─Linear: 2-33                      [-1, 256]                 131,328\n",
      "|    └─ReLU: 2-34                        [-1, 256]                 --\n",
      "|    └─Linear: 2-35                      [-1, 64]                  16,448\n",
      "|    └─ReLU: 2-36                        [-1, 64]                  --\n",
      "|    └─Linear: 2-37                      [-1, 1]                   65\n",
      "|    └─Sigmoid: 2-38                     [-1, 1]                   --\n",
      "==========================================================================================\n",
      "Total params: 14,862,529\n",
      "Trainable params: 147,841\n",
      "Non-trainable params: 14,714,688\n",
      "Total mult-adds (G): 15.36\n",
      "==========================================================================================\n",
      "Input size (MB): 0.57\n",
      "Forward/backward pass size (MB): 103.36\n",
      "Params size (MB): 56.70\n",
      "Estimated Total Size (MB): 160.63\n",
      "==========================================================================================\n"
     ]
    }
   ],
   "source": [
    "print(summary(model, torch.zeros(1,3,224,224)))"
   ]
  },
  {
   "cell_type": "code",
   "execution_count": 169,
   "metadata": {},
   "outputs": [],
   "source": [
    "def train_batch(x,y,model,optimizer,loss_fn):\n",
    "    model.train()\n",
    "    _y = model(x)\n",
    "    \n",
    "    #print(y)\n",
    "    batch_loss = loss_fn(_y,y)\n",
    "    batch_loss.backward()\n",
    "    optimizer.step()\n",
    "    optimizer.zero_grad()\n",
    "    \n",
    "    return batch_loss.item()\n"
   ]
  },
  {
   "cell_type": "code",
   "execution_count": 170,
   "metadata": {},
   "outputs": [],
   "source": [
    "@torch.no_grad()\n",
    "def accuracy(x,y,model):\n",
    "    model.eval()\n",
    "    prediction = model(x)\n",
    "    is_correct = (prediction>0.5) == y\n",
    "    return is_correct.cpu().numpy().tolist()"
   ]
  },
  {
   "cell_type": "code",
   "execution_count": 171,
   "metadata": {},
   "outputs": [],
   "source": [
    "def get_data():\n",
    "    train = cats_dogs(train_dir)\n",
    "    trn_dl = DataLoader(train, batch_size=32, shuffle=True, drop_last=True)\n",
    "    \n",
    "    val = cats_dogs(test_dir)\n",
    "    val_dl = DataLoader(val, batch_size=32, drop_last=True)\n",
    "    return trn_dl, val_dl"
   ]
  },
  {
   "cell_type": "code",
   "execution_count": 172,
   "metadata": {},
   "outputs": [],
   "source": [
    "trn_dl, val_dl = get_data()"
   ]
  },
  {
   "cell_type": "code",
   "execution_count": 173,
   "metadata": {},
   "outputs": [],
   "source": [
    "@torch.no_grad()\n",
    "def val_loss(x,y,model):\n",
    "    prediction = model(x)\n",
    "    \n",
    "    val_loss = loss_fn(prediction, y)\n",
    "    return val_loss.item()"
   ]
  },
  {
   "cell_type": "code",
   "execution_count": 174,
   "metadata": {},
   "outputs": [
    {
     "name": "stdout",
     "output_type": "stream",
     "text": [
      "epoch: 0\n",
      "training\n",
      "epoch: 0 - batch: 0, loss: 0.6812968254089355\n",
      "epoch: 0 - batch: 50, loss: 0.017034661024808884\n",
      "epoch: 0 - batch: 100, loss: 0.020700762048363686\n",
      "epoch: 0 - batch: 150, loss: 0.011421536095440388\n",
      "epoch: 0 - batch: 200, loss: 0.05292525142431259\n",
      "epoch: 0 - batch: 250, loss: 0.0201371181756258\n",
      "========================================\n",
      "Getting Accuracy on Training data\n",
      "========================================\n",
      "Getting Accuracy on validation data:\n",
      "========================================\n",
      "Current loss: 0.06557639513283946\n",
      "Current accuracy: 0.9862351190476191\n",
      "Current validation loss: 0.06959030032157898\n",
      "Current validation accuracy: 0.96875\n",
      "epoch: 1\n",
      "training\n",
      "epoch: 1 - batch: 0, loss: 0.004324772395193577\n",
      "epoch: 1 - batch: 50, loss: 0.026066143065690994\n",
      "epoch: 1 - batch: 100, loss: 0.10692200809717178\n",
      "epoch: 1 - batch: 150, loss: 0.021368075162172318\n",
      "epoch: 1 - batch: 200, loss: 0.004574773833155632\n",
      "epoch: 1 - batch: 250, loss: 0.0180243868380785\n",
      "========================================\n",
      "Getting Accuracy on Training data\n",
      "========================================\n",
      "Getting Accuracy on validation data:\n",
      "========================================\n",
      "Current loss: 0.03382087520800442\n",
      "Current accuracy: 0.9887152777777778\n",
      "Current validation loss: 0.03974882885813713\n",
      "Current validation accuracy: 0.96875\n"
     ]
    }
   ],
   "source": [
    "train_losses, train_accuracies = [], []\n",
    "val_losses, val_accuracies = [], []\n",
    "\n",
    "for epoch in range(2):\n",
    "    print(f\"epoch: {epoch}\")\n",
    "    \n",
    "    train_epoch_losses, train_epoch_accuracies = [], []\n",
    "    \n",
    "    print(\"training\")\n",
    "    for ix, batch in enumerate(iter(trn_dl)):\n",
    "        \n",
    "        x, y = batch\n",
    "        \n",
    "   \n",
    "        batch_loss = train_batch(x,y,model, optimizer,loss_fn)\n",
    "        if ix % 50 == 0:\n",
    "            print(f\"epoch: {epoch} - batch: {ix}, loss: {batch_loss}\")\n",
    "\n",
    "        train_epoch_losses.append(batch_loss)\n",
    "    \n",
    "    print(\"========================================\")\n",
    "        \n",
    "    train_epoch_loss = np.array(train_epoch_losses).mean()\n",
    "    \n",
    "    print(\"Getting Accuracy on Training data\")\n",
    "    for ix, batch in enumerate(iter(trn_dl)):\n",
    "        x, y = batch\n",
    "        is_correct = accuracy(x,y, model)\n",
    "        \n",
    "        \n",
    "        train_epoch_accuracies.extend(is_correct)\n",
    "    print(\"========================================\")\n",
    "    train_epoch_accuracy = np.mean(train_epoch_accuracies)\n",
    "    \n",
    "    \n",
    "    print(\"Getting Accuracy on validation data:\")\n",
    "    for ix, batch in enumerate(iter(val_dl)):\n",
    "        x, y = batch\n",
    "        val_is_correct = accuracy(x,y, model)\n",
    "        validation_loss =  val_loss(x,y,model)\n",
    "    print(\"========================================\")\n",
    "    \n",
    "    \n",
    "    \n",
    "    val_epoch_accuracy = np.mean(val_is_correct)\n",
    "    train_losses.append(train_epoch_loss)\n",
    "    train_accuracies.append(train_epoch_accuracy)\n",
    "    val_losses.append(validation_loss)\n",
    "    val_accuracies.append(val_epoch_accuracy)\n",
    "    \n",
    "    \n",
    "    print(f\"Current loss: {train_epoch_loss}\" )\n",
    "    print(f\"Current accuracy: {train_epoch_accuracy}\")\n",
    "    print(f\"Current validation loss: {validation_loss}\")\n",
    "    print(f\"Current validation accuracy: {val_epoch_accuracy}\")"
   ]
  },
  {
   "cell_type": "code",
   "execution_count": 175,
   "metadata": {},
   "outputs": [],
   "source": [
    "ix = np.random.choice(len(val_ds))"
   ]
  },
  {
   "cell_type": "code",
   "execution_count": 176,
   "metadata": {},
   "outputs": [],
   "source": [
    "img, label = val_ds[ix]"
   ]
  },
  {
   "cell_type": "code",
   "execution_count": 177,
   "metadata": {},
   "outputs": [
    {
     "data": {
      "text/plain": [
       "tensor([0.], device='cuda:0')"
      ]
     },
     "execution_count": 177,
     "metadata": {},
     "output_type": "execute_result"
    }
   ],
   "source": [
    "label"
   ]
  },
  {
   "cell_type": "code",
   "execution_count": 178,
   "metadata": {},
   "outputs": [],
   "source": [
    "pred = model.to(\"cpu\")(img.unsqueeze(0).cpu().detach())"
   ]
  },
  {
   "cell_type": "code",
   "execution_count": 179,
   "metadata": {},
   "outputs": [
    {
     "data": {
      "text/plain": [
       "tensor([[0.0002]], grad_fn=<SigmoidBackward0>)"
      ]
     },
     "execution_count": 179,
     "metadata": {},
     "output_type": "execute_result"
    }
   ],
   "source": [
    "pred"
   ]
  },
  {
   "cell_type": "code",
   "execution_count": 180,
   "metadata": {},
   "outputs": [],
   "source": [
    "threshold = 0.5\n",
    "prediction = 0 if pred<threshold else 1"
   ]
  },
  {
   "cell_type": "code",
   "execution_count": 181,
   "metadata": {},
   "outputs": [
    {
     "data": {
      "text/plain": [
       "0"
      ]
     },
     "execution_count": 181,
     "metadata": {},
     "output_type": "execute_result"
    }
   ],
   "source": [
    "prediction"
   ]
  },
  {
   "cell_type": "code",
   "execution_count": 182,
   "metadata": {},
   "outputs": [
    {
     "name": "stderr",
     "output_type": "stream",
     "text": [
      "Clipping input data to the valid range for imshow with RGB data ([0..1] for floats or [0..255] for integers).\n"
     ]
    },
    {
     "data": {
      "image/png": "[encoded data removed]",
      "text/plain": [
       "<Figure size 432x288 with 1 Axes>"
      ]
     },
     "metadata": {
      "needs_background": "light"
     },
     "output_type": "display_data"
    }
   ],
   "source": [
    "plt.imshow(img.cpu().permute(1,2,0))\n",
    "plt.title(f\"actual -- {'Dog' if label == 1 else 'Cat'}  prediction ---- {'Dog' if prediction==1 else 'Cat'}\")\n",
    "plt.axis(\"off\")\n",
    "plt.show()"
   ]
  },
  {
   "cell_type": "code",
   "execution_count": 183,
   "metadata": {},
   "outputs": [],
   "source": [
    "cat_path = \"2\\Felis_catus-cat_on_snow.jpg\""
   ]
  },
  {
   "cell_type": "code",
   "execution_count": 184,
   "metadata": {},
   "outputs": [],
   "source": [
    "img = plt.imread(cat_path)"
   ]
  },
  {
   "cell_type": "code",
   "execution_count": null,
   "metadata": {},
   "outputs": [],
   "source": []
  },
  {
   "cell_type": "code",
   "execution_count": 185,
   "metadata": {},
   "outputs": [],
   "source": [
    "img = cv2.resize(img, (224,224))"
   ]
  },
  {
   "cell_type": "code",
   "execution_count": 186,
   "metadata": {},
   "outputs": [
    {
     "data": {
      "text/plain": [
       "<matplotlib.image.AxesImage at 0x2ae524561f0>"
      ]
     },
     "execution_count": 186,
     "metadata": {},
     "output_type": "execute_result"
    },
    {
     "data": {
      "image/png": "[encoded data removed]",
      "text/plain": [
       "<Figure size 432x288 with 1 Axes>"
      ]
     },
     "metadata": {
      "needs_background": "light"
     },
     "output_type": "display_data"
    }
   ],
   "source": [
    "plt.imshow(img)"
   ]
  },
  {
   "cell_type": "code",
   "execution_count": 187,
   "metadata": {},
   "outputs": [],
   "source": [
    "img_tensor = torch.tensor(img, dtype=torch.float32)"
   ]
  },
  {
   "cell_type": "code",
   "execution_count": 188,
   "metadata": {},
   "outputs": [],
   "source": [
    "img_tensor = img_tensor/255"
   ]
  },
  {
   "cell_type": "code",
   "execution_count": 189,
   "metadata": {},
   "outputs": [
    {
     "data": {
      "text/plain": [
       "torch.Size([224, 224, 3])"
      ]
     },
     "execution_count": 189,
     "metadata": {},
     "output_type": "execute_result"
    }
   ],
   "source": [
    "img_tensor.shape"
   ]
  },
  {
   "cell_type": "code",
   "execution_count": 190,
   "metadata": {},
   "outputs": [],
   "source": [
    "img_tensor = img_tensor.permute(2,0,1)"
   ]
  },
  {
   "cell_type": "code",
   "execution_count": 191,
   "metadata": {},
   "outputs": [
    {
     "data": {
      "text/plain": [
       "torch.Size([3, 224, 224])"
      ]
     },
     "execution_count": 191,
     "metadata": {},
     "output_type": "execute_result"
    }
   ],
   "source": [
    "img_tensor.shape"
   ]
  },
  {
   "cell_type": "code",
   "execution_count": 192,
   "metadata": {},
   "outputs": [],
   "source": [
    "img_tensor = img_tensor.unsqueeze(0)"
   ]
  },
  {
   "cell_type": "code",
   "execution_count": 193,
   "metadata": {},
   "outputs": [
    {
     "data": {
      "text/plain": [
       "torch.float32"
      ]
     },
     "execution_count": 193,
     "metadata": {},
     "output_type": "execute_result"
    }
   ],
   "source": [
    "img_tensor.dtype"
   ]
  },
  {
   "cell_type": "code",
   "execution_count": 194,
   "metadata": {},
   "outputs": [
    {
     "data": {
      "text/plain": [
       "tensor([[0.4267]], grad_fn=<SigmoidBackward0>)"
      ]
     },
     "execution_count": 194,
     "metadata": {},
     "output_type": "execute_result"
    }
   ],
   "source": [
    "model(img_tensor)"
   ]
  },
  {
   "attachments": {},
   "cell_type": "markdown",
   "metadata": {},
   "source": [
    "# RESNET\n",
    "\n",
    "\n",
    "Problems with deeper CNNs:\n",
    "\n",
    "1. The information from initial layers doesn't reach later layers. Basicaly the info abt initial layers gets lost before reaching final layers.\n",
    "\n",
    "2. Vanishing Gradients Problem: The initial layer weights are not updated that much because gradients for initial layers nearly become 0\n",
    "\n",
    "\n",
    "RESNET helps here, info from initial layer is fed to latyer layer in addition to the conv layer output"
   ]
  },
  {
   "attachments": {},
   "cell_type": "markdown",
   "metadata": {},
   "source": [
    "##### RESNET block"
   ]
  },
  {
   "cell_type": "code",
   "execution_count": 4,
   "metadata": {},
   "outputs": [],
   "source": [
    "class ResLayer(nn.Module):\n",
    "    def __init__(self, ni, no, kernel_size, stride = 1):\n",
    "        super(ResLayer,self).__init__()\n",
    "        padding = kernel_size - 2 ### adding this padding so that input shape and outer shape remain same\n",
    "        \n",
    "        self.conv = nn.Sequential(\n",
    "            nn.Conv2d(ni,no,kernel_size, stride, padding),\n",
    "            nn.ReLU()\n",
    "        )\n",
    "    \n",
    "    def forward(self,x):\n",
    "        return self.conv(x) + x\n",
    "        "
   ]
  },
  {
   "attachments": {},
   "cell_type": "markdown",
   "metadata": {},
   "source": [
    "##### cats and dogs with Resnet18"
   ]
  },
  {
   "cell_type": "code",
   "execution_count": 5,
   "metadata": {},
   "outputs": [],
   "source": [
    "train_dir = \"3\\\\catsanddogs\\\\PetImages\\\\training\"\n",
    "test_dir = \"3\\\\catsanddogs\\\\PetImages\\\\testing\""
   ]
  },
  {
   "cell_type": "code",
   "execution_count": 6,
   "metadata": {},
   "outputs": [],
   "source": [
    "#### cleaning the dataset\n",
    "cat_files_dir = os.path.join(train_dir, \"Cat\")\n",
    "cats_tr = glob(cat_files_dir+\"\\*.jpg\")\n",
    "        \n",
    "dog_files_dir = os.path.join(train_dir, \"Dog\")\n",
    "dogs_tr = glob(dog_files_dir+\"\\*.jpg\")\n",
    "\n",
    "\n",
    "cat_files_dir = os.path.join(test_dir, \"Cat\")\n",
    "cats_val = glob(cat_files_dir+\"\\*.jpg\")\n",
    "        \n",
    "dog_files_dir = os.path.join(test_dir, \"Dog\")\n",
    "dogs_val = glob(dog_files_dir+\"\\*.jpg\")\n"
   ]
  },
  {
   "cell_type": "code",
   "execution_count": 7,
   "metadata": {},
   "outputs": [],
   "source": [
    "#folders = [cats_tr, dogs_tr, cats_val, dogs_val]\n",
    "\n",
    "#for folder in folders:\n",
    "#    for path in folder:\n",
    "#        im = cv2.imread(path)\n",
    "#        if im is None:\n",
    "#            os.remove(path)\n",
    "#            print(f\"removed: {path}\")"
   ]
  },
  {
   "cell_type": "code",
   "execution_count": 8,
   "metadata": {},
   "outputs": [],
   "source": [
    "class cats_dogs(Dataset):\n",
    "    \n",
    "    def __init__(self, root_dir):\n",
    "        cat_files_dir = os.path.join(root_dir, \"Cat\")\n",
    "        cats = glob(cat_files_dir+\"\\*.jpg\")\n",
    "        \n",
    "        dog_files_dir = os.path.join(root_dir, \"Dog\")\n",
    "        dogs = glob(dog_files_dir+\"\\*.jpg\")\n",
    "        \n",
    "        \n",
    "        ### combining all files\n",
    "        self.fpaths = dogs + cats\n",
    "        self.normalize = transforms.Normalize(mean=[0.485,0.456,0.406], std = [0.229,0.224, 0.225])\n",
    "        \n",
    "        #### shuffling all the files\n",
    "        from random import shuffle\n",
    "        shuffle(self.fpaths)\n",
    "        \n",
    "        \n",
    "        #### Creating target , Dog = 1, Cat = 0\n",
    "        self.targets = [int('Dog' in file) for file in self.fpaths]\n",
    "        \n",
    "        \n",
    "        \n",
    "    def __len__(self):\n",
    "        return len(self.fpaths)\n",
    "    \n",
    "    def __getitem__(self, index):\n",
    "        f = self.fpaths[index]\n",
    "        target = self.targets[index]\n",
    "        \n",
    "        ### Reading image and converting to rgb\n",
    "        #im = plt.imread(f)\n",
    "        im = cv2.imread(f)\n",
    "        im = cv2.cvtColor(im, cv2.COLOR_BGR2RGB)\n",
    "        im = cv2.resize(im, (224,224)) \n",
    "        #im = cv2.resize(im, (64,64))\n",
    "        im = torch.tensor(im/255).permute(2,0,1)\n",
    "        im = self.normalize(im)\n",
    "        \n",
    "        \n",
    "        \n",
    "        \n",
    "        \n",
    "        \n",
    "        \n",
    "        return im.float().to(device), torch.tensor([target]).float().to(device)\n",
    "    \n",
    "        \n",
    "    \n",
    "        \n",
    "    \n",
    "        \n",
    "        \n",
    "        \n",
    "        \n",
    "        \n",
    "        \n",
    "        "
   ]
  },
  {
   "cell_type": "code",
   "execution_count": 9,
   "metadata": {},
   "outputs": [],
   "source": [
    "trn_ds = cats_dogs(train_dir)\n",
    "val_ds = cats_dogs(test_dir)"
   ]
  },
  {
   "cell_type": "code",
   "execution_count": 10,
   "metadata": {},
   "outputs": [
    {
     "data": {
      "text/plain": [
       "8072"
      ]
     },
     "execution_count": 10,
     "metadata": {},
     "output_type": "execute_result"
    }
   ],
   "source": [
    "len(trn_ds)"
   ]
  },
  {
   "cell_type": "code",
   "execution_count": 11,
   "metadata": {},
   "outputs": [],
   "source": [
    "index = np.random.choice(len(trn_ds))"
   ]
  },
  {
   "cell_type": "code",
   "execution_count": 12,
   "metadata": {},
   "outputs": [],
   "source": [
    "im, label = trn_ds[index]"
   ]
  },
  {
   "cell_type": "code",
   "execution_count": 13,
   "metadata": {},
   "outputs": [
    {
     "name": "stderr",
     "output_type": "stream",
     "text": [
      "Clipping input data to the valid range for imshow with RGB data ([0..1] for floats or [0..255] for integers).\n"
     ]
    },
    {
     "data": {
      "image/png": "[encoded data removed]",
      "text/plain": [
       "<Figure size 432x288 with 1 Axes>"
      ]
     },
     "metadata": {
      "needs_background": "light"
     },
     "output_type": "display_data"
    }
   ],
   "source": [
    "### permuting so that shape is 224,224,3\n",
    "\n",
    "plt.imshow(im.permute(1,2,0).cpu())\n",
    "plt.title(f\"{'Dog' if label==1 else 'Cat'}\")\n",
    "\n",
    "plt.show()"
   ]
  },
  {
   "cell_type": "code",
   "execution_count": 62,
   "metadata": {},
   "outputs": [],
   "source": [
    "def get_model():\n",
    "    model = models.resnet18(weights=True, progress=True)\n",
    "    for param in model.parameters():\n",
    "        param.requires_grad = False\n",
    "    model.avgpool = nn.AdaptiveAvgPool2d(output_size=(1,1))  ### will return (512,1,1) instead of (512,7,7)\n",
    "    model.fc = nn.Sequential(\n",
    "        nn.Flatten(),\n",
    "        nn.Linear(512,256),\n",
    "        nn.ReLU(),\n",
    "        nn.Dropout(0.2),\n",
    "        nn.Linear(256,64),\n",
    "        nn.ReLU(),\n",
    "        nn.Linear(64,1),  #### Here, the last ouput should be 1 and not 2 as we are using BCEloss\n",
    "        nn.Sigmoid()\n",
    "    )\n",
    "    \n",
    "    loss_fn = nn.BCELoss()\n",
    "    \n",
    "    optimizer = torch.optim.Adam(model.parameters(), lr=1e-3)\n",
    "    \n",
    "    return model.to(device), loss_fn, optimizer\n",
    "    \n",
    "    "
   ]
  },
  {
   "cell_type": "code",
   "execution_count": 63,
   "metadata": {},
   "outputs": [
    {
     "name": "stderr",
     "output_type": "stream",
     "text": [
      "c:\\Users\\rachi\\anaconda3\\lib\\site-packages\\torchvision\\models\\_utils.py:223: UserWarning: Arguments other than a weight enum or `None` for 'weights' are deprecated since 0.13 and may be removed in the future. The current behavior is equivalent to passing `weights=ResNet18_Weights.IMAGENET1K_V1`. You can also use `weights=ResNet18_Weights.DEFAULT` to get the most up-to-date weights.\n",
      "  warnings.warn(msg)\n"
     ]
    }
   ],
   "source": [
    "model, loss_fn, optimizer = get_model()"
   ]
  },
  {
   "cell_type": "code",
   "execution_count": 64,
   "metadata": {},
   "outputs": [
    {
     "name": "stdout",
     "output_type": "stream",
     "text": [
      "==========================================================================================\n",
      "Layer (type:depth-idx)                   Output Shape              Param #\n",
      "==========================================================================================\n",
      "├─Conv2d: 1-1                            [-1, 64, 112, 112]        (9,408)\n",
      "├─BatchNorm2d: 1-2                       [-1, 64, 112, 112]        (128)\n",
      "├─ReLU: 1-3                              [-1, 64, 112, 112]        --\n",
      "├─MaxPool2d: 1-4                         [-1, 64, 56, 56]          --\n",
      "├─Sequential: 1-5                        [-1, 64, 56, 56]          --\n",
      "|    └─BasicBlock: 2-1                   [-1, 64, 56, 56]          --\n",
      "|    |    └─Conv2d: 3-1                  [-1, 64, 56, 56]          (36,864)\n",
      "|    |    └─BatchNorm2d: 3-2             [-1, 64, 56, 56]          (128)\n",
      "|    |    └─ReLU: 3-3                    [-1, 64, 56, 56]          --\n",
      "|    |    └─Conv2d: 3-4                  [-1, 64, 56, 56]          (36,864)\n",
      "|    |    └─BatchNorm2d: 3-5             [-1, 64, 56, 56]          (128)\n",
      "|    |    └─ReLU: 3-6                    [-1, 64, 56, 56]          --\n",
      "|    └─BasicBlock: 2-2                   [-1, 64, 56, 56]          --\n",
      "|    |    └─Conv2d: 3-7                  [-1, 64, 56, 56]          (36,864)\n",
      "|    |    └─BatchNorm2d: 3-8             [-1, 64, 56, 56]          (128)\n",
      "|    |    └─ReLU: 3-9                    [-1, 64, 56, 56]          --\n",
      "|    |    └─Conv2d: 3-10                 [-1, 64, 56, 56]          (36,864)\n",
      "|    |    └─BatchNorm2d: 3-11            [-1, 64, 56, 56]          (128)\n",
      "|    |    └─ReLU: 3-12                   [-1, 64, 56, 56]          --\n",
      "├─Sequential: 1-6                        [-1, 128, 28, 28]         --\n",
      "|    └─BasicBlock: 2-3                   [-1, 128, 28, 28]         --\n",
      "|    |    └─Conv2d: 3-13                 [-1, 128, 28, 28]         (73,728)\n",
      "|    |    └─BatchNorm2d: 3-14            [-1, 128, 28, 28]         (256)\n",
      "|    |    └─ReLU: 3-15                   [-1, 128, 28, 28]         --\n",
      "|    |    └─Conv2d: 3-16                 [-1, 128, 28, 28]         (147,456)\n",
      "|    |    └─BatchNorm2d: 3-17            [-1, 128, 28, 28]         (256)\n",
      "|    |    └─Sequential: 3-18             [-1, 128, 28, 28]         (8,448)\n",
      "|    |    └─ReLU: 3-19                   [-1, 128, 28, 28]         --\n",
      "|    └─BasicBlock: 2-4                   [-1, 128, 28, 28]         --\n",
      "|    |    └─Conv2d: 3-20                 [-1, 128, 28, 28]         (147,456)\n",
      "|    |    └─BatchNorm2d: 3-21            [-1, 128, 28, 28]         (256)\n",
      "|    |    └─ReLU: 3-22                   [-1, 128, 28, 28]         --\n",
      "|    |    └─Conv2d: 3-23                 [-1, 128, 28, 28]         (147,456)\n",
      "|    |    └─BatchNorm2d: 3-24            [-1, 128, 28, 28]         (256)\n",
      "|    |    └─ReLU: 3-25                   [-1, 128, 28, 28]         --\n",
      "├─Sequential: 1-7                        [-1, 256, 14, 14]         --\n",
      "|    └─BasicBlock: 2-5                   [-1, 256, 14, 14]         --\n",
      "|    |    └─Conv2d: 3-26                 [-1, 256, 14, 14]         (294,912)\n",
      "|    |    └─BatchNorm2d: 3-27            [-1, 256, 14, 14]         (512)\n",
      "|    |    └─ReLU: 3-28                   [-1, 256, 14, 14]         --\n",
      "|    |    └─Conv2d: 3-29                 [-1, 256, 14, 14]         (589,824)\n",
      "|    |    └─BatchNorm2d: 3-30            [-1, 256, 14, 14]         (512)\n",
      "|    |    └─Sequential: 3-31             [-1, 256, 14, 14]         (33,280)\n",
      "|    |    └─ReLU: 3-32                   [-1, 256, 14, 14]         --\n",
      "|    └─BasicBlock: 2-6                   [-1, 256, 14, 14]         --\n",
      "|    |    └─Conv2d: 3-33                 [-1, 256, 14, 14]         (589,824)\n",
      "|    |    └─BatchNorm2d: 3-34            [-1, 256, 14, 14]         (512)\n",
      "|    |    └─ReLU: 3-35                   [-1, 256, 14, 14]         --\n",
      "|    |    └─Conv2d: 3-36                 [-1, 256, 14, 14]         (589,824)\n",
      "|    |    └─BatchNorm2d: 3-37            [-1, 256, 14, 14]         (512)\n",
      "|    |    └─ReLU: 3-38                   [-1, 256, 14, 14]         --\n",
      "├─Sequential: 1-8                        [-1, 512, 7, 7]           --\n",
      "|    └─BasicBlock: 2-7                   [-1, 512, 7, 7]           --\n",
      "|    |    └─Conv2d: 3-39                 [-1, 512, 7, 7]           (1,179,648)\n",
      "|    |    └─BatchNorm2d: 3-40            [-1, 512, 7, 7]           (1,024)\n",
      "|    |    └─ReLU: 3-41                   [-1, 512, 7, 7]           --\n",
      "|    |    └─Conv2d: 3-42                 [-1, 512, 7, 7]           (2,359,296)\n",
      "|    |    └─BatchNorm2d: 3-43            [-1, 512, 7, 7]           (1,024)\n",
      "|    |    └─Sequential: 3-44             [-1, 512, 7, 7]           (132,096)\n",
      "|    |    └─ReLU: 3-45                   [-1, 512, 7, 7]           --\n",
      "|    └─BasicBlock: 2-8                   [-1, 512, 7, 7]           --\n",
      "|    |    └─Conv2d: 3-46                 [-1, 512, 7, 7]           (2,359,296)\n",
      "|    |    └─BatchNorm2d: 3-47            [-1, 512, 7, 7]           (1,024)\n",
      "|    |    └─ReLU: 3-48                   [-1, 512, 7, 7]           --\n",
      "|    |    └─Conv2d: 3-49                 [-1, 512, 7, 7]           (2,359,296)\n",
      "|    |    └─BatchNorm2d: 3-50            [-1, 512, 7, 7]           (1,024)\n",
      "|    |    └─ReLU: 3-51                   [-1, 512, 7, 7]           --\n",
      "├─AdaptiveAvgPool2d: 1-9                 [-1, 512, 1, 1]           --\n",
      "├─Sequential: 1-10                       [-1, 1]                   --\n",
      "|    └─Flatten: 2-9                      [-1, 512]                 --\n",
      "|    └─Linear: 2-10                      [-1, 256]                 131,328\n",
      "|    └─ReLU: 2-11                        [-1, 256]                 --\n",
      "|    └─Dropout: 2-12                     [-1, 256]                 --\n",
      "|    └─Linear: 2-13                      [-1, 64]                  16,448\n",
      "|    └─ReLU: 2-14                        [-1, 64]                  --\n",
      "|    └─Linear: 2-15                      [-1, 1]                   65\n",
      "|    └─Sigmoid: 2-16                     [-1, 1]                   --\n",
      "==========================================================================================\n",
      "Total params: 11,324,353\n",
      "Trainable params: 147,841\n",
      "Non-trainable params: 11,176,512\n",
      "Total mult-adds (G): 1.84\n",
      "==========================================================================================\n",
      "Input size (MB): 0.57\n",
      "Forward/backward pass size (MB): 37.90\n",
      "Params size (MB): 43.20\n",
      "Estimated Total Size (MB): 81.67\n",
      "==========================================================================================\n",
      "==========================================================================================\n",
      "Layer (type:depth-idx)                   Output Shape              Param #\n",
      "==========================================================================================\n",
      "├─Conv2d: 1-1                            [-1, 64, 112, 112]        (9,408)\n",
      "├─BatchNorm2d: 1-2                       [-1, 64, 112, 112]        (128)\n",
      "├─ReLU: 1-3                              [-1, 64, 112, 112]        --\n",
      "├─MaxPool2d: 1-4                         [-1, 64, 56, 56]          --\n",
      "├─Sequential: 1-5                        [-1, 64, 56, 56]          --\n",
      "|    └─BasicBlock: 2-1                   [-1, 64, 56, 56]          --\n",
      "|    |    └─Conv2d: 3-1                  [-1, 64, 56, 56]          (36,864)\n",
      "|    |    └─BatchNorm2d: 3-2             [-1, 64, 56, 56]          (128)\n",
      "|    |    └─ReLU: 3-3                    [-1, 64, 56, 56]          --\n",
      "|    |    └─Conv2d: 3-4                  [-1, 64, 56, 56]          (36,864)\n",
      "|    |    └─BatchNorm2d: 3-5             [-1, 64, 56, 56]          (128)\n",
      "|    |    └─ReLU: 3-6                    [-1, 64, 56, 56]          --\n",
      "|    └─BasicBlock: 2-2                   [-1, 64, 56, 56]          --\n",
      "|    |    └─Conv2d: 3-7                  [-1, 64, 56, 56]          (36,864)\n",
      "|    |    └─BatchNorm2d: 3-8             [-1, 64, 56, 56]          (128)\n",
      "|    |    └─ReLU: 3-9                    [-1, 64, 56, 56]          --\n",
      "|    |    └─Conv2d: 3-10                 [-1, 64, 56, 56]          (36,864)\n",
      "|    |    └─BatchNorm2d: 3-11            [-1, 64, 56, 56]          (128)\n",
      "|    |    └─ReLU: 3-12                   [-1, 64, 56, 56]          --\n",
      "├─Sequential: 1-6                        [-1, 128, 28, 28]         --\n",
      "|    └─BasicBlock: 2-3                   [-1, 128, 28, 28]         --\n",
      "|    |    └─Conv2d: 3-13                 [-1, 128, 28, 28]         (73,728)\n",
      "|    |    └─BatchNorm2d: 3-14            [-1, 128, 28, 28]         (256)\n",
      "|    |    └─ReLU: 3-15                   [-1, 128, 28, 28]         --\n",
      "|    |    └─Conv2d: 3-16                 [-1, 128, 28, 28]         (147,456)\n",
      "|    |    └─BatchNorm2d: 3-17            [-1, 128, 28, 28]         (256)\n",
      "|    |    └─Sequential: 3-18             [-1, 128, 28, 28]         (8,448)\n",
      "|    |    └─ReLU: 3-19                   [-1, 128, 28, 28]         --\n",
      "|    └─BasicBlock: 2-4                   [-1, 128, 28, 28]         --\n",
      "|    |    └─Conv2d: 3-20                 [-1, 128, 28, 28]         (147,456)\n",
      "|    |    └─BatchNorm2d: 3-21            [-1, 128, 28, 28]         (256)\n",
      "|    |    └─ReLU: 3-22                   [-1, 128, 28, 28]         --\n",
      "|    |    └─Conv2d: 3-23                 [-1, 128, 28, 28]         (147,456)\n",
      "|    |    └─BatchNorm2d: 3-24            [-1, 128, 28, 28]         (256)\n",
      "|    |    └─ReLU: 3-25                   [-1, 128, 28, 28]         --\n",
      "├─Sequential: 1-7                        [-1, 256, 14, 14]         --\n",
      "|    └─BasicBlock: 2-5                   [-1, 256, 14, 14]         --\n",
      "|    |    └─Conv2d: 3-26                 [-1, 256, 14, 14]         (294,912)\n",
      "|    |    └─BatchNorm2d: 3-27            [-1, 256, 14, 14]         (512)\n",
      "|    |    └─ReLU: 3-28                   [-1, 256, 14, 14]         --\n",
      "|    |    └─Conv2d: 3-29                 [-1, 256, 14, 14]         (589,824)\n",
      "|    |    └─BatchNorm2d: 3-30            [-1, 256, 14, 14]         (512)\n",
      "|    |    └─Sequential: 3-31             [-1, 256, 14, 14]         (33,280)\n",
      "|    |    └─ReLU: 3-32                   [-1, 256, 14, 14]         --\n",
      "|    └─BasicBlock: 2-6                   [-1, 256, 14, 14]         --\n",
      "|    |    └─Conv2d: 3-33                 [-1, 256, 14, 14]         (589,824)\n",
      "|    |    └─BatchNorm2d: 3-34            [-1, 256, 14, 14]         (512)\n",
      "|    |    └─ReLU: 3-35                   [-1, 256, 14, 14]         --\n",
      "|    |    └─Conv2d: 3-36                 [-1, 256, 14, 14]         (589,824)\n",
      "|    |    └─BatchNorm2d: 3-37            [-1, 256, 14, 14]         (512)\n",
      "|    |    └─ReLU: 3-38                   [-1, 256, 14, 14]         --\n",
      "├─Sequential: 1-8                        [-1, 512, 7, 7]           --\n",
      "|    └─BasicBlock: 2-7                   [-1, 512, 7, 7]           --\n",
      "|    |    └─Conv2d: 3-39                 [-1, 512, 7, 7]           (1,179,648)\n",
      "|    |    └─BatchNorm2d: 3-40            [-1, 512, 7, 7]           (1,024)\n",
      "|    |    └─ReLU: 3-41                   [-1, 512, 7, 7]           --\n",
      "|    |    └─Conv2d: 3-42                 [-1, 512, 7, 7]           (2,359,296)\n",
      "|    |    └─BatchNorm2d: 3-43            [-1, 512, 7, 7]           (1,024)\n",
      "|    |    └─Sequential: 3-44             [-1, 512, 7, 7]           (132,096)\n",
      "|    |    └─ReLU: 3-45                   [-1, 512, 7, 7]           --\n",
      "|    └─BasicBlock: 2-8                   [-1, 512, 7, 7]           --\n",
      "|    |    └─Conv2d: 3-46                 [-1, 512, 7, 7]           (2,359,296)\n",
      "|    |    └─BatchNorm2d: 3-47            [-1, 512, 7, 7]           (1,024)\n",
      "|    |    └─ReLU: 3-48                   [-1, 512, 7, 7]           --\n",
      "|    |    └─Conv2d: 3-49                 [-1, 512, 7, 7]           (2,359,296)\n",
      "|    |    └─BatchNorm2d: 3-50            [-1, 512, 7, 7]           (1,024)\n",
      "|    |    └─ReLU: 3-51                   [-1, 512, 7, 7]           --\n",
      "├─AdaptiveAvgPool2d: 1-9                 [-1, 512, 1, 1]           --\n",
      "├─Sequential: 1-10                       [-1, 1]                   --\n",
      "|    └─Flatten: 2-9                      [-1, 512]                 --\n",
      "|    └─Linear: 2-10                      [-1, 256]                 131,328\n",
      "|    └─ReLU: 2-11                        [-1, 256]                 --\n",
      "|    └─Dropout: 2-12                     [-1, 256]                 --\n",
      "|    └─Linear: 2-13                      [-1, 64]                  16,448\n",
      "|    └─ReLU: 2-14                        [-1, 64]                  --\n",
      "|    └─Linear: 2-15                      [-1, 1]                   65\n",
      "|    └─Sigmoid: 2-16                     [-1, 1]                   --\n",
      "==========================================================================================\n",
      "Total params: 11,324,353\n",
      "Trainable params: 147,841\n",
      "Non-trainable params: 11,176,512\n",
      "Total mult-adds (G): 1.84\n",
      "==========================================================================================\n",
      "Input size (MB): 0.57\n",
      "Forward/backward pass size (MB): 37.90\n",
      "Params size (MB): 43.20\n",
      "Estimated Total Size (MB): 81.67\n",
      "==========================================================================================\n"
     ]
    }
   ],
   "source": [
    "print(summary(model, torch.zeros(1,3,224,224)))"
   ]
  },
  {
   "cell_type": "code",
   "execution_count": 65,
   "metadata": {},
   "outputs": [
    {
     "name": "stdout",
     "output_type": "stream",
     "text": [
      "ResNet(\n",
      "  (conv1): Conv2d(3, 64, kernel_size=(7, 7), stride=(2, 2), padding=(3, 3), bias=False)\n",
      "  (bn1): BatchNorm2d(64, eps=1e-05, momentum=0.1, affine=True, track_running_stats=True)\n",
      "  (relu): ReLU(inplace=True)\n",
      "  (maxpool): MaxPool2d(kernel_size=3, stride=2, padding=1, dilation=1, ceil_mode=False)\n",
      "  (layer1): Sequential(\n",
      "    (0): BasicBlock(\n",
      "      (conv1): Conv2d(64, 64, kernel_size=(3, 3), stride=(1, 1), padding=(1, 1), bias=False)\n",
      "      (bn1): BatchNorm2d(64, eps=1e-05, momentum=0.1, affine=True, track_running_stats=True)\n",
      "      (relu): ReLU(inplace=True)\n",
      "      (conv2): Conv2d(64, 64, kernel_size=(3, 3), stride=(1, 1), padding=(1, 1), bias=False)\n",
      "      (bn2): BatchNorm2d(64, eps=1e-05, momentum=0.1, affine=True, track_running_stats=True)\n",
      "    )\n",
      "    (1): BasicBlock(\n",
      "      (conv1): Conv2d(64, 64, kernel_size=(3, 3), stride=(1, 1), padding=(1, 1), bias=False)\n",
      "      (bn1): BatchNorm2d(64, eps=1e-05, momentum=0.1, affine=True, track_running_stats=True)\n",
      "      (relu): ReLU(inplace=True)\n",
      "      (conv2): Conv2d(64, 64, kernel_size=(3, 3), stride=(1, 1), padding=(1, 1), bias=False)\n",
      "      (bn2): BatchNorm2d(64, eps=1e-05, momentum=0.1, affine=True, track_running_stats=True)\n",
      "    )\n",
      "  )\n",
      "  (layer2): Sequential(\n",
      "    (0): BasicBlock(\n",
      "      (conv1): Conv2d(64, 128, kernel_size=(3, 3), stride=(2, 2), padding=(1, 1), bias=False)\n",
      "      (bn1): BatchNorm2d(128, eps=1e-05, momentum=0.1, affine=True, track_running_stats=True)\n",
      "      (relu): ReLU(inplace=True)\n",
      "      (conv2): Conv2d(128, 128, kernel_size=(3, 3), stride=(1, 1), padding=(1, 1), bias=False)\n",
      "      (bn2): BatchNorm2d(128, eps=1e-05, momentum=0.1, affine=True, track_running_stats=True)\n",
      "      (downsample): Sequential(\n",
      "        (0): Conv2d(64, 128, kernel_size=(1, 1), stride=(2, 2), bias=False)\n",
      "        (1): BatchNorm2d(128, eps=1e-05, momentum=0.1, affine=True, track_running_stats=True)\n",
      "      )\n",
      "    )\n",
      "    (1): BasicBlock(\n",
      "      (conv1): Conv2d(128, 128, kernel_size=(3, 3), stride=(1, 1), padding=(1, 1), bias=False)\n",
      "      (bn1): BatchNorm2d(128, eps=1e-05, momentum=0.1, affine=True, track_running_stats=True)\n",
      "      (relu): ReLU(inplace=True)\n",
      "      (conv2): Conv2d(128, 128, kernel_size=(3, 3), stride=(1, 1), padding=(1, 1), bias=False)\n",
      "      (bn2): BatchNorm2d(128, eps=1e-05, momentum=0.1, affine=True, track_running_stats=True)\n",
      "    )\n",
      "  )\n",
      "  (layer3): Sequential(\n",
      "    (0): BasicBlock(\n",
      "      (conv1): Conv2d(128, 256, kernel_size=(3, 3), stride=(2, 2), padding=(1, 1), bias=False)\n",
      "      (bn1): BatchNorm2d(256, eps=1e-05, momentum=0.1, affine=True, track_running_stats=True)\n",
      "      (relu): ReLU(inplace=True)\n",
      "      (conv2): Conv2d(256, 256, kernel_size=(3, 3), stride=(1, 1), padding=(1, 1), bias=False)\n",
      "      (bn2): BatchNorm2d(256, eps=1e-05, momentum=0.1, affine=True, track_running_stats=True)\n",
      "      (downsample): Sequential(\n",
      "        (0): Conv2d(128, 256, kernel_size=(1, 1), stride=(2, 2), bias=False)\n",
      "        (1): BatchNorm2d(256, eps=1e-05, momentum=0.1, affine=True, track_running_stats=True)\n",
      "      )\n",
      "    )\n",
      "    (1): BasicBlock(\n",
      "      (conv1): Conv2d(256, 256, kernel_size=(3, 3), stride=(1, 1), padding=(1, 1), bias=False)\n",
      "      (bn1): BatchNorm2d(256, eps=1e-05, momentum=0.1, affine=True, track_running_stats=True)\n",
      "      (relu): ReLU(inplace=True)\n",
      "      (conv2): Conv2d(256, 256, kernel_size=(3, 3), stride=(1, 1), padding=(1, 1), bias=False)\n",
      "      (bn2): BatchNorm2d(256, eps=1e-05, momentum=0.1, affine=True, track_running_stats=True)\n",
      "    )\n",
      "  )\n",
      "  (layer4): Sequential(\n",
      "    (0): BasicBlock(\n",
      "      (conv1): Conv2d(256, 512, kernel_size=(3, 3), stride=(2, 2), padding=(1, 1), bias=False)\n",
      "      (bn1): BatchNorm2d(512, eps=1e-05, momentum=0.1, affine=True, track_running_stats=True)\n",
      "      (relu): ReLU(inplace=True)\n",
      "      (conv2): Conv2d(512, 512, kernel_size=(3, 3), stride=(1, 1), padding=(1, 1), bias=False)\n",
      "      (bn2): BatchNorm2d(512, eps=1e-05, momentum=0.1, affine=True, track_running_stats=True)\n",
      "      (downsample): Sequential(\n",
      "        (0): Conv2d(256, 512, kernel_size=(1, 1), stride=(2, 2), bias=False)\n",
      "        (1): BatchNorm2d(512, eps=1e-05, momentum=0.1, affine=True, track_running_stats=True)\n",
      "      )\n",
      "    )\n",
      "    (1): BasicBlock(\n",
      "      (conv1): Conv2d(512, 512, kernel_size=(3, 3), stride=(1, 1), padding=(1, 1), bias=False)\n",
      "      (bn1): BatchNorm2d(512, eps=1e-05, momentum=0.1, affine=True, track_running_stats=True)\n",
      "      (relu): ReLU(inplace=True)\n",
      "      (conv2): Conv2d(512, 512, kernel_size=(3, 3), stride=(1, 1), padding=(1, 1), bias=False)\n",
      "      (bn2): BatchNorm2d(512, eps=1e-05, momentum=0.1, affine=True, track_running_stats=True)\n",
      "    )\n",
      "  )\n",
      "  (avgpool): AdaptiveAvgPool2d(output_size=(1, 1))\n",
      "  (fc): Sequential(\n",
      "    (0): Flatten(start_dim=1, end_dim=-1)\n",
      "    (1): Linear(in_features=512, out_features=256, bias=True)\n",
      "    (2): ReLU()\n",
      "    (3): Dropout(p=0.2, inplace=False)\n",
      "    (4): Linear(in_features=256, out_features=64, bias=True)\n",
      "    (5): ReLU()\n",
      "    (6): Linear(in_features=64, out_features=1, bias=True)\n",
      "    (7): Sigmoid()\n",
      "  )\n",
      ")\n"
     ]
    }
   ],
   "source": [
    "print(model)"
   ]
  },
  {
   "cell_type": "code",
   "execution_count": 66,
   "metadata": {},
   "outputs": [],
   "source": [
    "def train_batch(x,y,model,optimizer,loss_fn):\n",
    "    model.train()\n",
    "    _y = model(x)\n",
    "    \n",
    "    \n",
    "    batch_loss = loss_fn(_y,y)\n",
    "    batch_loss.backward()\n",
    "    optimizer.step()\n",
    "    optimizer.zero_grad()\n",
    "    \n",
    "    return batch_loss.item()\n"
   ]
  },
  {
   "cell_type": "code",
   "execution_count": 67,
   "metadata": {},
   "outputs": [],
   "source": [
    "@torch.no_grad()\n",
    "def accuracy(x,y,model):\n",
    "    model.eval()\n",
    "    prediction = model(x)\n",
    "    is_correct = (prediction>0.5) == y\n",
    "    return is_correct.cpu().numpy().tolist()"
   ]
  },
  {
   "cell_type": "code",
   "execution_count": 68,
   "metadata": {},
   "outputs": [],
   "source": [
    "def get_data():\n",
    "    train = cats_dogs(train_dir)\n",
    "    trn_dl = DataLoader(train, batch_size=32, shuffle=True, drop_last=True)\n",
    "    \n",
    "    val = cats_dogs(test_dir)\n",
    "    val_dl = DataLoader(val, batch_size=32, drop_last=True)\n",
    "    return trn_dl, val_dl"
   ]
  },
  {
   "cell_type": "code",
   "execution_count": 69,
   "metadata": {},
   "outputs": [],
   "source": [
    "trn_dl, val_dl = get_data()"
   ]
  },
  {
   "cell_type": "code",
   "execution_count": 70,
   "metadata": {},
   "outputs": [],
   "source": [
    "@torch.no_grad()\n",
    "def val_loss(x,y,model):\n",
    "    prediction = model(x)\n",
    "    \n",
    "    val_loss = loss_fn(prediction, y)\n",
    "    return val_loss.item()"
   ]
  },
  {
   "cell_type": "code",
   "execution_count": 71,
   "metadata": {},
   "outputs": [
    {
     "name": "stdout",
     "output_type": "stream",
     "text": [
      "epoch: 0\n",
      "training\n",
      "epoch: 0 - batch: 0, loss: 0.6928725242614746\n",
      "epoch: 0 - batch: 50, loss: 0.30618345737457275\n",
      "epoch: 0 - batch: 100, loss: 0.0730523094534874\n",
      "epoch: 0 - batch: 150, loss: 0.06899964809417725\n",
      "epoch: 0 - batch: 200, loss: 0.17630113661289215\n",
      "epoch: 0 - batch: 250, loss: 0.05965933948755264\n",
      "========================================\n",
      "Getting Accuracy on Training data\n",
      "========================================\n",
      "Getting Accuracy on validation data:\n",
      "========================================\n",
      "Current loss: 0.1321799523337552\n",
      "Current accuracy: 0.9816468253968254\n",
      "Current validation loss: 0.1499783992767334\n",
      "Current validation accuracy: 0.96875\n",
      "epoch: 1\n",
      "training\n",
      "epoch: 1 - batch: 0, loss: 0.03224636986851692\n",
      "epoch: 1 - batch: 50, loss: 0.0868280902504921\n",
      "epoch: 1 - batch: 100, loss: 0.07085290551185608\n",
      "epoch: 1 - batch: 150, loss: 0.12074892222881317\n",
      "epoch: 1 - batch: 200, loss: 0.03395344316959381\n",
      "epoch: 1 - batch: 250, loss: 0.09835713356733322\n",
      "========================================\n",
      "Getting Accuracy on Training data\n",
      "========================================\n",
      "Getting Accuracy on validation data:\n",
      "========================================\n",
      "Current loss: 0.08624207984382612\n",
      "Current accuracy: 0.9828869047619048\n",
      "Current validation loss: 0.11690939217805862\n",
      "Current validation accuracy: 0.96875\n"
     ]
    }
   ],
   "source": [
    "train_losses, train_accuracies = [], []\n",
    "val_losses, val_accuracies = [], []\n",
    "\n",
    "for epoch in range(2):\n",
    "    print(f\"epoch: {epoch}\")\n",
    "    \n",
    "    train_epoch_losses, train_epoch_accuracies = [], []\n",
    "    \n",
    "    print(\"training\")\n",
    "    for ix, batch in enumerate(iter(trn_dl)):\n",
    "        \n",
    "        x, y = batch\n",
    "        \n",
    "   \n",
    "        batch_loss = train_batch(x,y,model, optimizer,loss_fn)\n",
    "        if ix % 50 == 0:\n",
    "            print(f\"epoch: {epoch} - batch: {ix}, loss: {batch_loss}\")\n",
    "\n",
    "        train_epoch_losses.append(batch_loss)\n",
    "    \n",
    "    print(\"========================================\")\n",
    "        \n",
    "    train_epoch_loss = np.array(train_epoch_losses).mean()\n",
    "    \n",
    "    print(\"Getting Accuracy on Training data\")\n",
    "    for ix, batch in enumerate(iter(trn_dl)):\n",
    "        x, y = batch\n",
    "        is_correct = accuracy(x,y, model)\n",
    "        \n",
    "        \n",
    "        train_epoch_accuracies.extend(is_correct)\n",
    "    print(\"========================================\")\n",
    "    train_epoch_accuracy = np.mean(train_epoch_accuracies)\n",
    "    \n",
    "    \n",
    "    print(\"Getting Accuracy on validation data:\")\n",
    "    for ix, batch in enumerate(iter(val_dl)):\n",
    "        x, y = batch\n",
    "        val_is_correct = accuracy(x,y, model)\n",
    "        validation_loss =  val_loss(x,y,model)\n",
    "    print(\"========================================\")\n",
    "    \n",
    "    \n",
    "    \n",
    "    val_epoch_accuracy = np.mean(val_is_correct)\n",
    "    train_losses.append(train_epoch_loss)\n",
    "    train_accuracies.append(train_epoch_accuracy)\n",
    "    val_losses.append(validation_loss)\n",
    "    val_accuracies.append(val_epoch_accuracy)\n",
    "    \n",
    "    \n",
    "    print(f\"Current loss: {train_epoch_loss}\" )\n",
    "    print(f\"Current accuracy: {train_epoch_accuracy}\")\n",
    "    print(f\"Current validation loss: {validation_loss}\")\n",
    "    print(f\"Current validation accuracy: {val_epoch_accuracy}\")"
   ]
  },
  {
   "attachments": {},
   "cell_type": "markdown",
   "metadata": {},
   "source": [
    "# Facial Key Point Detection"
   ]
  },
  {
   "cell_type": "code",
   "execution_count": null,
   "metadata": {},
   "outputs": [],
   "source": []
  },
  {
   "cell_type": "code",
   "execution_count": 6,
   "metadata": {},
   "outputs": [],
   "source": [
    "os.makedirs(root_dir,exist_ok=True)"
   ]
  },
  {
   "cell_type": "code",
   "execution_count": 7,
   "metadata": {},
   "outputs": [],
   "source": [
    "os.chdir(root_dir)"
   ]
  },
  {
   "cell_type": "code",
   "execution_count": 8,
   "metadata": {},
   "outputs": [],
   "source": [
    "#!git clone https://github.com/udacity/P1_Facial_Keypoints.git"
   ]
  },
  {
   "cell_type": "code",
   "execution_count": 9,
   "metadata": {},
   "outputs": [],
   "source": [
    "os.chdir(\"..\")"
   ]
  },
  {
   "cell_type": "code",
   "execution_count": 10,
   "metadata": {},
   "outputs": [],
   "source": [
    "facial_key_pts_root_dir = \"4\\\\P1_Facial_Keypoints\\\\data\\\\training\""
   ]
  },
  {
   "cell_type": "code",
   "execution_count": 11,
   "metadata": {},
   "outputs": [],
   "source": [
    "all_img_paths = glob(os.path.join(facial_key_pts_root_dir,\"*.jpg\"))"
   ]
  },
  {
   "cell_type": "code",
   "execution_count": 12,
   "metadata": {},
   "outputs": [
    {
     "data": {
      "text/plain": [
       "3462"
      ]
     },
     "execution_count": 12,
     "metadata": {},
     "output_type": "execute_result"
    }
   ],
   "source": [
    "len(all_img_paths)"
   ]
  },
  {
   "cell_type": "code",
   "execution_count": 13,
   "metadata": {},
   "outputs": [],
   "source": [
    "data = pd.read_csv(\"4\\\\P1_Facial_Keypoints\\\\data\\\\training_frames_keypoints.csv\")"
   ]
  },
  {
   "cell_type": "code",
   "execution_count": 14,
   "metadata": {},
   "outputs": [
    {
     "data": {
      "text/html": [
       "<div>\n",
       "<style scoped>\n",
       "    .dataframe tbody tr th:only-of-type {\n",
       "        vertical-align: middle;\n",
       "    }\n",
       "\n",
       "    .dataframe tbody tr th {\n",
       "        vertical-align: top;\n",
       "    }\n",
       "\n",
       "    .dataframe thead th {\n",
       "        text-align: right;\n",
       "    }\n",
       "</style>\n",
       "<table border=\"1\" class=\"dataframe\">\n",
       "  <thead>\n",
       "    <tr style=\"text-align: right;\">\n",
       "      <th></th>\n",
       "      <th>Unnamed: 0</th>\n",
       "      <th>0</th>\n",
       "      <th>1</th>\n",
       "      <th>2</th>\n",
       "      <th>3</th>\n",
       "      <th>4</th>\n",
       "      <th>5</th>\n",
       "      <th>6</th>\n",
       "      <th>7</th>\n",
       "      <th>8</th>\n",
       "      <th>...</th>\n",
       "      <th>126</th>\n",
       "      <th>127</th>\n",
       "      <th>128</th>\n",
       "      <th>129</th>\n",
       "      <th>130</th>\n",
       "      <th>131</th>\n",
       "      <th>132</th>\n",
       "      <th>133</th>\n",
       "      <th>134</th>\n",
       "      <th>135</th>\n",
       "    </tr>\n",
       "  </thead>\n",
       "  <tbody>\n",
       "    <tr>\n",
       "      <th>0</th>\n",
       "      <td>Luis_Fonsi_21.jpg</td>\n",
       "      <td>45.0</td>\n",
       "      <td>98.0</td>\n",
       "      <td>47.0</td>\n",
       "      <td>106.0</td>\n",
       "      <td>49.0</td>\n",
       "      <td>110.0</td>\n",
       "      <td>53.0</td>\n",
       "      <td>119.0</td>\n",
       "      <td>56.0</td>\n",
       "      <td>...</td>\n",
       "      <td>83.0</td>\n",
       "      <td>119.0</td>\n",
       "      <td>90.0</td>\n",
       "      <td>117.0</td>\n",
       "      <td>83.0</td>\n",
       "      <td>119.0</td>\n",
       "      <td>81.0</td>\n",
       "      <td>122.0</td>\n",
       "      <td>77.0</td>\n",
       "      <td>122.0</td>\n",
       "    </tr>\n",
       "    <tr>\n",
       "      <th>1</th>\n",
       "      <td>Lincoln_Chafee_52.jpg</td>\n",
       "      <td>41.0</td>\n",
       "      <td>83.0</td>\n",
       "      <td>43.0</td>\n",
       "      <td>91.0</td>\n",
       "      <td>45.0</td>\n",
       "      <td>100.0</td>\n",
       "      <td>47.0</td>\n",
       "      <td>108.0</td>\n",
       "      <td>51.0</td>\n",
       "      <td>...</td>\n",
       "      <td>85.0</td>\n",
       "      <td>122.0</td>\n",
       "      <td>94.0</td>\n",
       "      <td>120.0</td>\n",
       "      <td>85.0</td>\n",
       "      <td>122.0</td>\n",
       "      <td>83.0</td>\n",
       "      <td>122.0</td>\n",
       "      <td>79.0</td>\n",
       "      <td>122.0</td>\n",
       "    </tr>\n",
       "    <tr>\n",
       "      <th>2</th>\n",
       "      <td>Valerie_Harper_30.jpg</td>\n",
       "      <td>56.0</td>\n",
       "      <td>69.0</td>\n",
       "      <td>56.0</td>\n",
       "      <td>77.0</td>\n",
       "      <td>56.0</td>\n",
       "      <td>86.0</td>\n",
       "      <td>56.0</td>\n",
       "      <td>94.0</td>\n",
       "      <td>58.0</td>\n",
       "      <td>...</td>\n",
       "      <td>79.0</td>\n",
       "      <td>105.0</td>\n",
       "      <td>86.0</td>\n",
       "      <td>108.0</td>\n",
       "      <td>77.0</td>\n",
       "      <td>105.0</td>\n",
       "      <td>75.0</td>\n",
       "      <td>105.0</td>\n",
       "      <td>73.0</td>\n",
       "      <td>105.0</td>\n",
       "    </tr>\n",
       "    <tr>\n",
       "      <th>3</th>\n",
       "      <td>Angelo_Reyes_22.jpg</td>\n",
       "      <td>61.0</td>\n",
       "      <td>80.0</td>\n",
       "      <td>58.0</td>\n",
       "      <td>95.0</td>\n",
       "      <td>58.0</td>\n",
       "      <td>108.0</td>\n",
       "      <td>58.0</td>\n",
       "      <td>120.0</td>\n",
       "      <td>58.0</td>\n",
       "      <td>...</td>\n",
       "      <td>98.0</td>\n",
       "      <td>136.0</td>\n",
       "      <td>107.0</td>\n",
       "      <td>139.0</td>\n",
       "      <td>95.0</td>\n",
       "      <td>139.0</td>\n",
       "      <td>91.0</td>\n",
       "      <td>139.0</td>\n",
       "      <td>85.0</td>\n",
       "      <td>136.0</td>\n",
       "    </tr>\n",
       "    <tr>\n",
       "      <th>4</th>\n",
       "      <td>Kristen_Breitweiser_11.jpg</td>\n",
       "      <td>58.0</td>\n",
       "      <td>94.0</td>\n",
       "      <td>58.0</td>\n",
       "      <td>104.0</td>\n",
       "      <td>60.0</td>\n",
       "      <td>113.0</td>\n",
       "      <td>62.0</td>\n",
       "      <td>121.0</td>\n",
       "      <td>67.0</td>\n",
       "      <td>...</td>\n",
       "      <td>92.0</td>\n",
       "      <td>117.0</td>\n",
       "      <td>103.0</td>\n",
       "      <td>118.0</td>\n",
       "      <td>92.0</td>\n",
       "      <td>120.0</td>\n",
       "      <td>88.0</td>\n",
       "      <td>122.0</td>\n",
       "      <td>84.0</td>\n",
       "      <td>122.0</td>\n",
       "    </tr>\n",
       "  </tbody>\n",
       "</table>\n",
       "<p>5 rows × 137 columns</p>\n",
       "</div>"
      ],
      "text/plain": [
       "                   Unnamed: 0     0     1     2      3     4      5     6  \\\n",
       "0           Luis_Fonsi_21.jpg  45.0  98.0  47.0  106.0  49.0  110.0  53.0   \n",
       "1       Lincoln_Chafee_52.jpg  41.0  83.0  43.0   91.0  45.0  100.0  47.0   \n",
       "2       Valerie_Harper_30.jpg  56.0  69.0  56.0   77.0  56.0   86.0  56.0   \n",
       "3         Angelo_Reyes_22.jpg  61.0  80.0  58.0   95.0  58.0  108.0  58.0   \n",
       "4  Kristen_Breitweiser_11.jpg  58.0  94.0  58.0  104.0  60.0  113.0  62.0   \n",
       "\n",
       "       7     8  ...   126    127    128    129   130    131   132    133  \\\n",
       "0  119.0  56.0  ...  83.0  119.0   90.0  117.0  83.0  119.0  81.0  122.0   \n",
       "1  108.0  51.0  ...  85.0  122.0   94.0  120.0  85.0  122.0  83.0  122.0   \n",
       "2   94.0  58.0  ...  79.0  105.0   86.0  108.0  77.0  105.0  75.0  105.0   \n",
       "3  120.0  58.0  ...  98.0  136.0  107.0  139.0  95.0  139.0  91.0  139.0   \n",
       "4  121.0  67.0  ...  92.0  117.0  103.0  118.0  92.0  120.0  88.0  122.0   \n",
       "\n",
       "    134    135  \n",
       "0  77.0  122.0  \n",
       "1  79.0  122.0  \n",
       "2  73.0  105.0  \n",
       "3  85.0  136.0  \n",
       "4  84.0  122.0  \n",
       "\n",
       "[5 rows x 137 columns]"
      ]
     },
     "execution_count": 14,
     "metadata": {},
     "output_type": "execute_result"
    }
   ],
   "source": [
    "data.head()"
   ]
  },
  {
   "cell_type": "code",
   "execution_count": 58,
   "metadata": {},
   "outputs": [],
   "source": [
    "class FaceDataset(Dataset):\n",
    "    def __init__(self, df):\n",
    "        super().__init__()\n",
    "        self.df = df\n",
    "        self.normalize = transforms.Normalize(mean=[0.485, 0.456,0.406], std=[0.229,0.224,0.225])\n",
    "        \n",
    "    def __len__(self):\n",
    "        return len(self.df)\n",
    "    \n",
    "    def __getitem__(self, ix):\n",
    "        \n",
    "        img_path = os.path.join(facial_key_pts_root_dir, self.df.iloc[ix,0])\n",
    "        img = cv2.imread(img_path)/255.  # float converts the data to float on its own\n",
    "        \n",
    "    \n",
    "        kp = deepcopy(self.df.iloc[ix,1:].to_list())\n",
    "        kp_x = (np.array(kp[0::2])/img.shape[1]).tolist()\n",
    "        kp_y = (np.array(kp[1::2])/img.shape[0]).tolist()\n",
    "        kp2 = kp_x + kp_y\n",
    "        \n",
    "\n",
    "        kp2 = torch.tensor(kp2)\n",
    "        \n",
    "        \n",
    "        img = self.preprocess_input(img)\n",
    "        return img, kp2\n",
    "        \n",
    "    def preprocess_input(self,img):\n",
    "        #img = cv2.cvtColor(img,) ## check if this reqd or not\n",
    "        #plt.imshow(plt.imread(img))\n",
    "        #print(img.shape)\n",
    "        img  =cv2.resize(img, (224,224))\n",
    "        img = torch.tensor(img).permute(2,0,1)\n",
    "        img = self.normalize(img).float()\n",
    "        return img.to(device)\n",
    "    \n",
    "    \n",
    "    def load_img(self,ix):\n",
    "        ## helps while testing images\n",
    "        img_path = os.path.join(facial_key_pts_root_dir, self.df.iloc[ix,0])\n",
    "        img = cv2.imread(img_path)\n",
    "        img =cv2.cvtColor(img, cv2.COLOR_BGR2RGB)/255.\n",
    "        img = cv2.resize(img, (224,224))\n",
    "        return img\n",
    "                "
   ]
  },
  {
   "cell_type": "code",
   "execution_count": 59,
   "metadata": {},
   "outputs": [],
   "source": [
    "train, test = train_test_split(data, test_size=0.2, random_state=42)\n",
    "\n",
    "train_dataset = FaceDataset(train.reset_index(drop=True))\n",
    "test_dataset = FaceDataset(test.reset_index(drop=True))\n",
    "\n"
   ]
  },
  {
   "cell_type": "code",
   "execution_count": 60,
   "metadata": {},
   "outputs": [],
   "source": [
    "train_loader = DataLoader(train_dataset, batch_size = 32)\n",
    "test_loader = DataLoader(test_dataset, batch_size=32)"
   ]
  },
  {
   "cell_type": "code",
   "execution_count": null,
   "metadata": {},
   "outputs": [],
   "source": []
  },
  {
   "cell_type": "code",
   "execution_count": 26,
   "metadata": {},
   "outputs": [],
   "source": [
    "def get_model():\n",
    "    model = models.vgg16(weights=True, progress=True)\n",
    "    \n",
    "    for param in model.parameters():\n",
    "        param.requires_grad = False\n",
    "    \n",
    "    model.avgpool = nn.Sequential(\n",
    "        nn.Conv2d(512,512,3),\n",
    "        nn.MaxPool2d(2),\n",
    "        nn.Flatten()\n",
    "    )\n",
    "    \n",
    "    model.classifier = nn.Sequential(\n",
    "        nn.Linear(2048,512),\n",
    "        nn.ReLU(),\n",
    "        nn.Dropout(0.5),\n",
    "        nn.Linear(512,136),\n",
    "        nn.Sigmoid()   ## All values are b.w 0 and 1\n",
    "    )\n",
    "    \n",
    "    criterion = nn.L1Loss()\n",
    "    optimizer = torch.optim.Adam(model.parameters(), lr = 1e-4)\n",
    "    \n",
    "    return model.to(device), criterion, optimizer"
   ]
  },
  {
   "cell_type": "code",
   "execution_count": 27,
   "metadata": {},
   "outputs": [
    {
     "name": "stderr",
     "output_type": "stream",
     "text": [
      "c:\\Users\\rachi\\anaconda3\\lib\\site-packages\\torchvision\\models\\_utils.py:223: UserWarning: Arguments other than a weight enum or `None` for 'weights' are deprecated since 0.13 and may be removed in the future. The current behavior is equivalent to passing `weights=VGG16_Weights.IMAGENET1K_V1`. You can also use `weights=VGG16_Weights.DEFAULT` to get the most up-to-date weights.\n",
      "  warnings.warn(msg)\n"
     ]
    }
   ],
   "source": [
    "model, criterion, optimizer = get_model()"
   ]
  },
  {
   "cell_type": "code",
   "execution_count": 28,
   "metadata": {},
   "outputs": [],
   "source": [
    "def train_batch(img,kps,model,optimizer,loss_fn):\n",
    "    ### changes made\n",
    "    model.train()\n",
    "    \n",
    "    optimizer.zero_grad()\n",
    "    _kps = model(img.to(device))\n",
    "    loss = criterion(_kps, kps.to(device))\n",
    "    \n",
    "    loss.backward()\n",
    "    optimizer.step()\n",
    "    return loss\n",
    "    "
   ]
  },
  {
   "cell_type": "code",
   "execution_count": 29,
   "metadata": {},
   "outputs": [],
   "source": [
    "@torch.no_grad()\n",
    "def validate_batch(img, kps, model, criterion):\n",
    "    model.eval()\n",
    "    _kps = model(img.to(device))\n",
    "    loss = criterion(_kps, kps.to(device))\n",
    "    return _kps, loss"
   ]
  },
  {
   "cell_type": "code",
   "execution_count": null,
   "metadata": {},
   "outputs": [],
   "source": []
  },
  {
   "cell_type": "code",
   "execution_count": 61,
   "metadata": {},
   "outputs": [
    {
     "name": "stdout",
     "output_type": "stream",
     "text": [
      " epoch 1 : 50\n",
      " epoch 2 : 50\n",
      " epoch 3 : 50\n",
      " epoch 4 : 50\n",
      " epoch 5 : 50\n",
      " epoch 6 : 50\n",
      " epoch 7 : 50\n",
      " epoch 8 : 50\n",
      " epoch 9 : 50\n",
      " epoch 10 : 50\n",
      " epoch 11 : 50\n",
      " epoch 12 : 50\n",
      " epoch 13 : 50\n",
      " epoch 14 : 50\n",
      " epoch 15 : 50\n",
      " epoch 16 : 50\n",
      " epoch 17 : 50\n",
      " epoch 18 : 50\n",
      " epoch 19 : 50\n",
      " epoch 20 : 50\n",
      " epoch 21 : 50\n",
      " epoch 22 : 50\n",
      " epoch 23 : 50\n",
      " epoch 24 : 50\n",
      " epoch 25 : 50\n",
      " epoch 26 : 50\n",
      " epoch 27 : 50\n",
      " epoch 28 : 50\n",
      " epoch 29 : 50\n",
      " epoch 30 : 50\n",
      " epoch 31 : 50\n",
      " epoch 32 : 50\n",
      " epoch 33 : 50\n",
      " epoch 34 : 50\n",
      " epoch 35 : 50\n",
      " epoch 36 : 50\n",
      " epoch 37 : 50\n",
      " epoch 38 : 50\n",
      " epoch 39 : 50\n",
      " epoch 40 : 50\n",
      " epoch 41 : 50\n",
      " epoch 42 : 50\n",
      " epoch 43 : 50\n",
      " epoch 44 : 50\n",
      " epoch 45 : 50\n",
      " epoch 46 : 50\n",
      " epoch 47 : 50\n",
      " epoch 48 : 50\n",
      " epoch 49 : 50\n",
      " epoch 50 : 50\n"
     ]
    }
   ],
   "source": [
    "train_loss, test_loss = [], []\n",
    "n_epochs = 50\n",
    "\n",
    "for epoch in range(n_epochs):\n",
    "    print(f\" epoch {epoch+ 1} : 50\")\n",
    "    epoch_train_loss, epoch_test_loss = 0, 0\n",
    "    for ix, (img,kps) in enumerate(train_loader):\n",
    "        loss = train_batch(img, kps, model, optimizer, criterion)\n",
    "        epoch_train_loss += loss.item() \n",
    "    epoch_train_loss /= (ix+1)\n",
    "\n",
    "    for ix,(img,kps) in enumerate(test_loader):\n",
    "        ps, loss = validate_batch(img, kps, model, criterion)\n",
    "        epoch_test_loss += loss.item() \n",
    "    epoch_test_loss /= (ix+1)\n",
    "\n",
    "    train_loss.append(epoch_train_loss)\n",
    "    test_loss.append(epoch_test_loss)"
   ]
  },
  {
   "cell_type": "code",
   "execution_count": 62,
   "metadata": {},
   "outputs": [
    {
     "data": {
      "image/png": "[encoded data removed]",
      "text/plain": [
       "<Figure size 432x288 with 1 Axes>"
      ]
     },
     "metadata": {
      "needs_background": "light"
     },
     "output_type": "display_data"
    }
   ],
   "source": [
    "\n",
    "epochs = np.arange(50)+1\n",
    "import matplotlib.ticker as mtick\n",
    "import matplotlib.pyplot as plt\n",
    "import matplotlib.ticker as mticker\n",
    "%matplotlib inline\n",
    "plt.plot(epochs, train_loss, 'bo', label='Training loss')\n",
    "plt.plot(epochs, test_loss, 'r', label='Test loss')\n",
    "plt.title('Training and Test loss over increasing epochs')\n",
    "plt.xlabel('Epochs')\n",
    "plt.ylabel('Loss')\n",
    "plt.legend()\n",
    "plt.grid('off')\n",
    "plt.show()"
   ]
  },
  {
   "cell_type": "code",
   "execution_count": 70,
   "metadata": {},
   "outputs": [
    {
     "data": {
      "image/png": "[encoded data removed]",
      "text/plain": [
       "<Figure size 720x720 with 2 Axes>"
      ]
     },
     "metadata": {
      "needs_background": "light"
     },
     "output_type": "display_data"
    }
   ],
   "source": [
    "ix = np.random.choice(len(test_loader))\n",
    "plt.figure(figsize=(10,10))\n",
    "plt.subplot(221)\n",
    "plt.title('Original image')\n",
    "im = test_dataset.load_img(ix)\n",
    "plt.imshow(im)\n",
    "plt.grid(False)\n",
    "plt.subplot(222)\n",
    "plt.title('Image with facial keypoints')\n",
    "x, _ = test_dataset[ix]\n",
    "plt.imshow(im)\n",
    "kp = model(x[None]).flatten().detach().cpu()\n",
    "plt.scatter(kp[:68]*224, kp[68:]*224, c='r')\n",
    "plt.grid(False)\n",
    "plt.show()"
   ]
  },
  {
   "attachments": {},
   "cell_type": "markdown",
   "metadata": {},
   "source": [
    "# Pre-trained model for 2d-3d keypointy detection"
   ]
  },
  {
   "cell_type": "code",
   "execution_count": 101,
   "metadata": {},
   "outputs": [],
   "source": [
    "img_path = \"4\\\\Aishwarya_Rai_12.jpg\""
   ]
  },
  {
   "cell_type": "code",
   "execution_count": 81,
   "metadata": {},
   "outputs": [
    {
     "name": "stderr",
     "output_type": "stream",
     "text": [
      "Downloading: \"https://www.adrianbulat.com/downloads/python-fan/s3fd-619a316812.pth\" to C:\\Users\\rachi/.cache\\torch\\hub\\checkpoints\\s3fd-619a316812.pth\n"
     ]
    },
    {
     "data": {
      "application/vnd.jupyter.widget-view+json": {
       "model_id": "2d9df660e56842cab8c1ced8bf64a5dc",
       "version_major": 2,
       "version_minor": 0
      },
      "text/plain": [
       "  0%|          | 0.00/85.7M [00:00<?, ?B/s]"
      ]
     },
     "metadata": {},
     "output_type": "display_data"
    },
    {
     "name": "stderr",
     "output_type": "stream",
     "text": [
      "Downloading: \"https://www.adrianbulat.com/downloads/python-fan/2DFAN4-cd938726ad.zip\" to C:\\Users\\rachi/.cache\\torch\\hub\\checkpoints\\2DFAN4-cd938726ad.zip\n"
     ]
    },
    {
     "data": {
      "application/vnd.jupyter.widget-view+json": {
       "model_id": "667b1cc1da0b4b0b9734ceb8722a550b",
       "version_major": 2,
       "version_minor": 0
      },
      "text/plain": [
       "  0%|          | 0.00/91.9M [00:00<?, ?B/s]"
      ]
     },
     "metadata": {},
     "output_type": "display_data"
    }
   ],
   "source": [
    "fa = face_alignment.FaceAlignment(face_alignment.LandmarksType._2D, flip_input=False, device='cpu')"
   ]
  },
  {
   "cell_type": "code",
   "execution_count": 82,
   "metadata": {},
   "outputs": [],
   "source": [
    "input = cv2.imread(img_path)"
   ]
  },
  {
   "cell_type": "code",
   "execution_count": 102,
   "metadata": {},
   "outputs": [],
   "source": [
    "input = cv2.resize(input, (64,64))"
   ]
  },
  {
   "cell_type": "code",
   "execution_count": 103,
   "metadata": {},
   "outputs": [],
   "source": [
    "preds = fa.get_landmarks(input)"
   ]
  },
  {
   "cell_type": "code",
   "execution_count": 104,
   "metadata": {},
   "outputs": [],
   "source": [
    "preds = preds[0]  ## returns the final output on the basis of image size"
   ]
  },
  {
   "cell_type": "code",
   "execution_count": 105,
   "metadata": {},
   "outputs": [
    {
     "data": {
      "text/plain": [
       "(68, 2)"
      ]
     },
     "execution_count": 105,
     "metadata": {},
     "output_type": "execute_result"
    }
   ],
   "source": [
    "preds.shape"
   ]
  },
  {
   "cell_type": "code",
   "execution_count": 106,
   "metadata": {},
   "outputs": [
    {
     "data": {
      "image/png": "[encoded data removed]",
      "text/plain": [
       "<Figure size 360x360 with 1 Axes>"
      ]
     },
     "metadata": {
      "needs_background": "light"
     },
     "output_type": "display_data"
    }
   ],
   "source": [
    "fig, ax = plt.subplots(figsize = (5,5))\n",
    "plt.imshow(cv2.cvtColor(input, cv2.COLOR_BGR2RGB))\n",
    "ax.scatter(preds[:,0], preds[:,1], marker='+', c = 'r')\n",
    "plt.show()\n"
   ]
  },
  {
   "cell_type": "code",
   "execution_count": 107,
   "metadata": {},
   "outputs": [
    {
     "data": {
      "text/plain": [
       "51.0"
      ]
     },
     "execution_count": 107,
     "metadata": {},
     "output_type": "execute_result"
    }
   ],
   "source": [
    "preds.max()"
   ]
  },
  {
   "cell_type": "code",
   "execution_count": 108,
   "metadata": {},
   "outputs": [
    {
     "data": {
      "text/plain": [
       "21.0"
      ]
     },
     "execution_count": 108,
     "metadata": {},
     "output_type": "execute_result"
    }
   ],
   "source": [
    "preds.min()"
   ]
  },
  {
   "attachments": {},
   "cell_type": "markdown",
   "metadata": {},
   "source": [
    "# Multi Task Learning\n",
    "\n",
    "Predicts several connected but different outputs. Ex : in autonomous cars, model identifies objects, obstacles, plan routes, give proper amt of throttle etc.\n",
    "\n",
    "This needs to be done with minimal latency and on the basis of same set of inputs.\n",
    "\n",
    "This type of learning greatly helps in Object Detection"
   ]
  },
  {
   "attachments": {},
   "cell_type": "markdown",
   "metadata": {},
   "source": [
    "link to datset:  https://www.kaggle.com/datasets/nipunarora8/age-gender-and-ethnicity-face-data-csv"
   ]
  },
  {
   "cell_type": "code",
   "execution_count": 7,
   "metadata": {},
   "outputs": [],
   "source": [
    "age_gender_path = r\"4\\age_gender\\age_gender.csv\""
   ]
  },
  {
   "cell_type": "code",
   "execution_count": 8,
   "metadata": {},
   "outputs": [],
   "source": [
    "df = pd.read_csv(age_gender_path)"
   ]
  },
  {
   "cell_type": "code",
   "execution_count": 9,
   "metadata": {},
   "outputs": [
    {
     "data": {
      "text/html": [
       "<div>\n",
       "<style scoped>\n",
       "    .dataframe tbody tr th:only-of-type {\n",
       "        vertical-align: middle;\n",
       "    }\n",
       "\n",
       "    .dataframe tbody tr th {\n",
       "        vertical-align: top;\n",
       "    }\n",
       "\n",
       "    .dataframe thead th {\n",
       "        text-align: right;\n",
       "    }\n",
       "</style>\n",
       "<table border=\"1\" class=\"dataframe\">\n",
       "  <thead>\n",
       "    <tr style=\"text-align: right;\">\n",
       "      <th></th>\n",
       "      <th>age</th>\n",
       "      <th>ethnicity</th>\n",
       "      <th>gender</th>\n",
       "      <th>img_name</th>\n",
       "      <th>pixels</th>\n",
       "    </tr>\n",
       "  </thead>\n",
       "  <tbody>\n",
       "    <tr>\n",
       "      <th>0</th>\n",
       "      <td>1</td>\n",
       "      <td>2</td>\n",
       "      <td>0</td>\n",
       "      <td>20161219203650636.jpg.chip.jpg</td>\n",
       "      <td>129 128 128 126 127 130 133 135 139 142 145 14...</td>\n",
       "    </tr>\n",
       "  </tbody>\n",
       "</table>\n",
       "</div>"
      ],
      "text/plain": [
       "   age  ethnicity  gender                        img_name  \\\n",
       "0    1          2       0  20161219203650636.jpg.chip.jpg   \n",
       "\n",
       "                                              pixels  \n",
       "0  129 128 128 126 127 130 133 135 139 142 145 14...  "
      ]
     },
     "execution_count": 9,
     "metadata": {},
     "output_type": "execute_result"
    }
   ],
   "source": [
    "df.head(1)"
   ]
  },
  {
   "attachments": {},
   "cell_type": "markdown",
   "metadata": {},
   "source": [
    "#### All images are 48*48 in size"
   ]
  },
  {
   "cell_type": "code",
   "execution_count": 10,
   "metadata": {},
   "outputs": [],
   "source": [
    "img = df.iloc[-1]['pixels']"
   ]
  },
  {
   "cell_type": "code",
   "execution_count": 11,
   "metadata": {},
   "outputs": [],
   "source": [
    "img  = img.split(\" \")"
   ]
  },
  {
   "cell_type": "code",
   "execution_count": 12,
   "metadata": {},
   "outputs": [],
   "source": [
    "img  = np.reshape(img , (48,48))"
   ]
  },
  {
   "cell_type": "code",
   "execution_count": 13,
   "metadata": {},
   "outputs": [],
   "source": [
    "img = np.asarray(img, dtype=np.float32)"
   ]
  },
  {
   "cell_type": "code",
   "execution_count": 14,
   "metadata": {},
   "outputs": [],
   "source": [
    "img = cv2.resize(img,(224,224))"
   ]
  },
  {
   "cell_type": "code",
   "execution_count": 15,
   "metadata": {},
   "outputs": [
    {
     "data": {
      "text/plain": [
       "<matplotlib.image.AxesImage at 0x20858042e80>"
      ]
     },
     "execution_count": 15,
     "metadata": {},
     "output_type": "execute_result"
    },
    {
     "data": {
      "image/png": "[encoded data removed]",
      "text/plain": [
       "<Figure size 432x288 with 1 Axes>"
      ]
     },
     "metadata": {
      "needs_background": "light"
     },
     "output_type": "display_data"
    }
   ],
   "source": [
    "plt.imshow(img, cmap='gray')"
   ]
  },
  {
   "cell_type": "code",
   "execution_count": 16,
   "metadata": {},
   "outputs": [],
   "source": [
    "img = cv2.cvtColor(img, cv2.COLOR_GRAY2RGB)"
   ]
  },
  {
   "cell_type": "code",
   "execution_count": 17,
   "metadata": {},
   "outputs": [
    {
     "data": {
      "text/plain": [
       "(224, 224, 3)"
      ]
     },
     "execution_count": 17,
     "metadata": {},
     "output_type": "execute_result"
    }
   ],
   "source": [
    "img.shape"
   ]
  },
  {
   "cell_type": "code",
   "execution_count": 18,
   "metadata": {},
   "outputs": [
    {
     "data": {
      "text/plain": [
       "array([[[156.     , 156.     , 156.     ],\n",
       "        [156.     , 156.     , 156.     ],\n",
       "        [156.17857, 156.17857, 156.17857],\n",
       "        ...,\n",
       "        [145.89285, 145.89285, 145.89285],\n",
       "        [146.     , 146.     , 146.     ],\n",
       "        [146.     , 146.     , 146.     ]],\n",
       "\n",
       "       [[156.     , 156.     , 156.     ],\n",
       "        [156.     , 156.     , 156.     ],\n",
       "        [156.17857, 156.17857, 156.17857],\n",
       "        ...,\n",
       "        [145.89285, 145.89285, 145.89285],\n",
       "        [146.     , 146.     , 146.     ],\n",
       "        [146.     , 146.     , 146.     ]],\n",
       "\n",
       "       [[155.89285, 155.89285, 155.89285],\n",
       "        [155.89285, 155.89285, 155.89285],\n",
       "        [156.05486, 156.05486, 156.05486],\n",
       "        ...,\n",
       "        [145.40433, 145.40433, 145.40433],\n",
       "        [145.5    , 145.5    , 145.5    ],\n",
       "        [145.5    , 145.5    , 145.5    ]],\n",
       "\n",
       "       ...,\n",
       "\n",
       "       [[212.03572, 212.03572, 212.03572],\n",
       "        [212.03572, 212.03572, 212.03572],\n",
       "        [212.23851, 212.23851, 212.23851],\n",
       "        ...,\n",
       "        [174.15944, 174.15944, 174.15944],\n",
       "        [173.78572, 173.78572, 173.78572],\n",
       "        [173.78572, 173.78572, 173.78572]],\n",
       "\n",
       "       [[212.     , 212.     , 212.     ],\n",
       "        [212.     , 212.     , 212.     ],\n",
       "        [212.21428, 212.21428, 212.21428],\n",
       "        ...,\n",
       "        [174.35715, 174.35715, 174.35715],\n",
       "        [174.     , 174.     , 174.     ],\n",
       "        [174.     , 174.     , 174.     ]],\n",
       "\n",
       "       [[212.     , 212.     , 212.     ],\n",
       "        [212.     , 212.     , 212.     ],\n",
       "        [212.21428, 212.21428, 212.21428],\n",
       "        ...,\n",
       "        [174.35715, 174.35715, 174.35715],\n",
       "        [174.     , 174.     , 174.     ],\n",
       "        [174.     , 174.     , 174.     ]]], dtype=float32)"
      ]
     },
     "execution_count": 18,
     "metadata": {},
     "output_type": "execute_result"
    }
   ],
   "source": [
    "img"
   ]
  },
  {
   "cell_type": "code",
   "execution_count": 19,
   "metadata": {},
   "outputs": [
    {
     "name": "stderr",
     "output_type": "stream",
     "text": [
      "Clipping input data to the valid range for imshow with RGB data ([0..1] for floats or [0..255] for integers).\n"
     ]
    },
    {
     "data": {
      "text/plain": [
       "<matplotlib.image.AxesImage at 0x20858101370>"
      ]
     },
     "execution_count": 19,
     "metadata": {},
     "output_type": "execute_result"
    },
    {
     "data": {
      "image/png": "[encoded data removed]",
      "text/plain": [
       "<Figure size 432x288 with 1 Axes>"
      ]
     },
     "metadata": {
      "needs_background": "light"
     },
     "output_type": "display_data"
    }
   ],
   "source": [
    "plt.imshow(img)"
   ]
  },
  {
   "cell_type": "code",
   "execution_count": null,
   "metadata": {},
   "outputs": [],
   "source": []
  },
  {
   "cell_type": "code",
   "execution_count": 20,
   "metadata": {},
   "outputs": [
    {
     "data": {
      "text/plain": [
       "116"
      ]
     },
     "execution_count": 20,
     "metadata": {},
     "output_type": "execute_result"
    }
   ],
   "source": [
    "df['age'].max() ## Will divide age by this number so that everything falls under 1"
   ]
  },
  {
   "cell_type": "code",
   "execution_count": 21,
   "metadata": {},
   "outputs": [
    {
     "data": {
      "text/plain": [
       "age                                                          1\n",
       "ethnicity                                                    2\n",
       "gender                                                       0\n",
       "img_name                        20161219203650636.jpg.chip.jpg\n",
       "pixels       129 128 128 126 127 130 133 135 139 142 145 14...\n",
       "Name: 0, dtype: object"
      ]
     },
     "execution_count": 21,
     "metadata": {},
     "output_type": "execute_result"
    }
   ],
   "source": [
    "df.iloc[0].squeeze()"
   ]
  },
  {
   "cell_type": "code",
   "execution_count": 22,
   "metadata": {},
   "outputs": [
    {
     "data": {
      "text/plain": [
       "<bound method NDFrame.squeeze of age                                                          1\n",
       "ethnicity                                                    2\n",
       "gender                                                       0\n",
       "img_name                        20161220144911423.jpg.chip.jpg\n",
       "pixels       193 197 198 200 199 200 202 203 204 205 208 21...\n",
       "Name: 3, dtype: object>"
      ]
     },
     "execution_count": 22,
     "metadata": {},
     "output_type": "execute_result"
    }
   ],
   "source": [
    "df.iloc[3].squeeze"
   ]
  },
  {
   "cell_type": "code",
   "execution_count": 145,
   "metadata": {},
   "outputs": [],
   "source": [
    "IMAGE_SIZE = 224 # desired by vgg 16\n",
    "class GenderAgeClass(Dataset):\n",
    "    def __init__(self, df):\n",
    "        super().__init__()\n",
    "        self.df = df\n",
    "        self.normalize = transforms.Normalize(mean  = [0.485, 0.456, 0.406], std=[0.229,0.224,0.225])\n",
    "\n",
    "    def __len__(self):\n",
    "        return len(self.df)\n",
    "    \n",
    "    def __getitem__(self, index):\n",
    "        # not exactly same as book\n",
    "        \n",
    "        f = self.df.iloc[index]\n",
    "        \n",
    "        gender = f['gender']\n",
    "        \n",
    "        age = f['age']\n",
    "        \n",
    "        ### get image array\n",
    "        img_arr = f['pixels'] # will convert this to image in collate fn\n",
    "        \n",
    "        \n",
    "        \n",
    "        img  = img_arr.split(\" \")\n",
    "        \n",
    "        \n",
    "        return gender, age, img\n",
    "    \n",
    "    def preprocess_img(self, img):\n",
    "        img = np.reshape(img, (48,48))\n",
    "        img = np.asarray(img, np.float32)\n",
    "        \n",
    "        img = cv2.resize(img,(IMAGE_SIZE,IMAGE_SIZE))\n",
    "        \n",
    "        \n",
    "        ## converting grayscale to rgb\n",
    "        img = cv2.cvtColor(img, cv2.COLOR_GRAY2RGB)\n",
    "        \n",
    "        \n",
    "        img = torch.tensor(img).permute(2,0,1)\n",
    "        \n",
    "        img = self.normalize(img/255.)\n",
    "        \n",
    "        return img[None]\n",
    "    \n",
    "    \n",
    "    def collate_fn(self, batch):\n",
    "        \n",
    "        imgs, ages, genders = [],[],[]\n",
    "        \n",
    "        for gender, age, img in batch:\n",
    "            img = self.preprocess_img(img)\n",
    "            imgs.append(img)\n",
    "            \n",
    "            ages.append(float(int(age)/116))\n",
    "            \n",
    "            genders.append(gender)\n",
    "\n",
    "        ages, genders = [torch.tensor(x).to(device).float() for x in [ages, genders]]\n",
    "        imgs = torch.cat(imgs).to(device)\n",
    "        \n",
    "        return imgs, ages, genders\n",
    "        "
   ]
  },
  {
   "cell_type": "code",
   "execution_count": 118,
   "metadata": {},
   "outputs": [],
   "source": [
    "train_df, test_df = train_test_split(df, test_size=0.2, shuffle=42)"
   ]
  },
  {
   "cell_type": "code",
   "execution_count": 119,
   "metadata": {},
   "outputs": [],
   "source": [
    "train = GenderAgeClass(train_df.reset_index())"
   ]
  },
  {
   "cell_type": "code",
   "execution_count": 120,
   "metadata": {},
   "outputs": [],
   "source": [
    "val = GenderAgeClass(test_df.reset_index())"
   ]
  },
  {
   "cell_type": "code",
   "execution_count": 121,
   "metadata": {},
   "outputs": [],
   "source": [
    "train_loader = DataLoader(train, shuffle=True, batch_size=32, collate_fn=train.collate_fn)"
   ]
  },
  {
   "cell_type": "code",
   "execution_count": 122,
   "metadata": {},
   "outputs": [],
   "source": [
    "test_loader = DataLoader(val, batch_size=32, collate_fn=val.collate_fn)"
   ]
  },
  {
   "cell_type": "code",
   "execution_count": 123,
   "metadata": {},
   "outputs": [
    {
     "name": "stdout",
     "output_type": "stream",
     "text": [
      "torch.Size([32, 3, 224, 224]) torch.Size([32]) torch.Size([32])\n"
     ]
    }
   ],
   "source": [
    "a,b,c, = next(iter(train_loader))\n",
    "print(a.shape, b.shape, c.shape)"
   ]
  },
  {
   "cell_type": "code",
   "execution_count": 133,
   "metadata": {},
   "outputs": [],
   "source": [
    "def get_model():\n",
    "    \n",
    "    model = models.vgg16(pretrained = True, progress=True)\n",
    "    \n",
    "    for param in model.parameters():\n",
    "        param.requires_grad = False\n",
    "        \n",
    "    model.avgpool = nn.Sequential(\n",
    "        nn.Conv2d(512,512,kernel_size=3),\n",
    "        nn.MaxPool2d(2),\n",
    "        nn.ReLU(),\n",
    "        nn.Flatten()\n",
    "    )\n",
    "    \n",
    "    \n",
    "    ## last layer\n",
    "    class ageGenderClassifier(nn.Module):\n",
    "        def __init__(self) -> None:\n",
    "            super().__init__()\n",
    "            \n",
    "            self.intermediate = nn.Sequential(\n",
    "                nn.Linear(2048,512),\n",
    "                nn.ReLU(),\n",
    "                nn.Dropout(0.4),\n",
    "                nn.Linear(512,128),\n",
    "                nn.ReLU(),\n",
    "                nn.Dropout(0.4),\n",
    "                nn.Linear(128,64),\n",
    "                nn.ReLU()\n",
    "            )\n",
    "\n",
    "            # for age classifier\n",
    "            self.age_classifier = nn.Sequential(\n",
    "                nn.Linear(64,1),\n",
    "                nn.Sigmoid()\n",
    "            )\n",
    "            \n",
    "            # for gender classification\n",
    "            self.gender_classifier = nn.Sequential(\n",
    "                nn.Linear(64,1),\n",
    "                nn.Sigmoid()\n",
    "            )\n",
    "            \n",
    "            \n",
    "        def forward(self,x):\n",
    "            x = self.intermediate(x)\n",
    "            age = self.age_classifier(x)\n",
    "            gender = self.gender_classifier(x)\n",
    "            return gender, age\n",
    "    \n",
    "    model.classifier = ageGenderClassifier()\n",
    "    \n",
    "    gender_criterion = nn.BCELoss()\n",
    "    age_criterion = nn.L1Loss()\n",
    "    \n",
    "    loss_fns = gender_criterion, age_criterion\n",
    "    \n",
    "    optimizer = torch.optim.Adam(model.parameters(), 1e-4)\n",
    "    \n",
    "    return model.to(device), loss_fns, optimizer"
   ]
  },
  {
   "cell_type": "code",
   "execution_count": 135,
   "metadata": {},
   "outputs": [],
   "source": [
    "model, loss_fns, optimizer = get_model()\n"
   ]
  },
  {
   "cell_type": "code",
   "execution_count": 136,
   "metadata": {},
   "outputs": [
    {
     "name": "stdout",
     "output_type": "stream",
     "text": [
      "==========================================================================================\n",
      "Layer (type:depth-idx)                   Output Shape              Param #\n",
      "==========================================================================================\n",
      "├─Sequential: 1-1                        [-1, 512, 7, 7]           --\n",
      "|    └─Conv2d: 2-1                       [-1, 64, 224, 224]        (1,792)\n",
      "|    └─ReLU: 2-2                         [-1, 64, 224, 224]        --\n",
      "|    └─Conv2d: 2-3                       [-1, 64, 224, 224]        (36,928)\n",
      "|    └─ReLU: 2-4                         [-1, 64, 224, 224]        --\n",
      "|    └─MaxPool2d: 2-5                    [-1, 64, 112, 112]        --\n",
      "|    └─Conv2d: 2-6                       [-1, 128, 112, 112]       (73,856)\n",
      "|    └─ReLU: 2-7                         [-1, 128, 112, 112]       --\n",
      "|    └─Conv2d: 2-8                       [-1, 128, 112, 112]       (147,584)\n",
      "|    └─ReLU: 2-9                         [-1, 128, 112, 112]       --\n",
      "|    └─MaxPool2d: 2-10                   [-1, 128, 56, 56]         --\n",
      "|    └─Conv2d: 2-11                      [-1, 256, 56, 56]         (295,168)\n",
      "|    └─ReLU: 2-12                        [-1, 256, 56, 56]         --\n",
      "|    └─Conv2d: 2-13                      [-1, 256, 56, 56]         (590,080)\n",
      "|    └─ReLU: 2-14                        [-1, 256, 56, 56]         --\n",
      "|    └─Conv2d: 2-15                      [-1, 256, 56, 56]         (590,080)\n",
      "|    └─ReLU: 2-16                        [-1, 256, 56, 56]         --\n",
      "|    └─MaxPool2d: 2-17                   [-1, 256, 28, 28]         --\n",
      "|    └─Conv2d: 2-18                      [-1, 512, 28, 28]         (1,180,160)\n",
      "|    └─ReLU: 2-19                        [-1, 512, 28, 28]         --\n",
      "|    └─Conv2d: 2-20                      [-1, 512, 28, 28]         (2,359,808)\n",
      "|    └─ReLU: 2-21                        [-1, 512, 28, 28]         --\n",
      "|    └─Conv2d: 2-22                      [-1, 512, 28, 28]         (2,359,808)\n",
      "|    └─ReLU: 2-23                        [-1, 512, 28, 28]         --\n",
      "|    └─MaxPool2d: 2-24                   [-1, 512, 14, 14]         --\n",
      "|    └─Conv2d: 2-25                      [-1, 512, 14, 14]         (2,359,808)\n",
      "|    └─ReLU: 2-26                        [-1, 512, 14, 14]         --\n",
      "|    └─Conv2d: 2-27                      [-1, 512, 14, 14]         (2,359,808)\n",
      "|    └─ReLU: 2-28                        [-1, 512, 14, 14]         --\n",
      "|    └─Conv2d: 2-29                      [-1, 512, 14, 14]         (2,359,808)\n",
      "|    └─ReLU: 2-30                        [-1, 512, 14, 14]         --\n",
      "|    └─MaxPool2d: 2-31                   [-1, 512, 7, 7]           --\n",
      "├─Sequential: 1-2                        [-1, 2048]                --\n",
      "|    └─Conv2d: 2-32                      [-1, 512, 5, 5]           2,359,808\n",
      "|    └─MaxPool2d: 2-33                   [-1, 512, 2, 2]           --\n",
      "|    └─ReLU: 2-34                        [-1, 512, 2, 2]           --\n",
      "|    └─Flatten: 2-35                     [-1, 2048]                --\n",
      "├─ageGenderClassifier: 1-3               [-1, 1]                   --\n",
      "|    └─Sequential: 2-36                  [-1, 64]                  --\n",
      "|    |    └─Linear: 3-1                  [-1, 512]                 1,049,088\n",
      "|    |    └─ReLU: 3-2                    [-1, 512]                 --\n",
      "|    |    └─Dropout: 3-3                 [-1, 512]                 --\n",
      "|    |    └─Linear: 3-4                  [-1, 128]                 65,664\n",
      "|    |    └─ReLU: 3-5                    [-1, 128]                 --\n",
      "|    |    └─Dropout: 3-6                 [-1, 128]                 --\n",
      "|    |    └─Linear: 3-7                  [-1, 64]                  8,256\n",
      "|    |    └─ReLU: 3-8                    [-1, 64]                  --\n",
      "|    └─Sequential: 2-37                  [-1, 1]                   --\n",
      "|    |    └─Linear: 3-9                  [-1, 1]                   65\n",
      "|    |    └─Sigmoid: 3-10                [-1, 1]                   --\n",
      "|    └─Sequential: 2-38                  [-1, 1]                   --\n",
      "|    |    └─Linear: 3-11                 [-1, 1]                   65\n",
      "|    |    └─Sigmoid: 3-12                [-1, 1]                   --\n",
      "==========================================================================================\n",
      "Total params: 18,197,634\n",
      "Trainable params: 3,482,946\n",
      "Non-trainable params: 14,714,688\n",
      "Total mult-adds (G): 15.43\n",
      "==========================================================================================\n",
      "Input size (MB): 0.57\n",
      "Forward/backward pass size (MB): 103.46\n",
      "Params size (MB): 69.42\n",
      "Estimated Total Size (MB): 173.46\n",
      "==========================================================================================\n"
     ]
    },
    {
     "data": {
      "text/plain": [
       "==========================================================================================\n",
       "Layer (type:depth-idx)                   Output Shape              Param #\n",
       "==========================================================================================\n",
       "├─Sequential: 1-1                        [-1, 512, 7, 7]           --\n",
       "|    └─Conv2d: 2-1                       [-1, 64, 224, 224]        (1,792)\n",
       "|    └─ReLU: 2-2                         [-1, 64, 224, 224]        --\n",
       "|    └─Conv2d: 2-3                       [-1, 64, 224, 224]        (36,928)\n",
       "|    └─ReLU: 2-4                         [-1, 64, 224, 224]        --\n",
       "|    └─MaxPool2d: 2-5                    [-1, 64, 112, 112]        --\n",
       "|    └─Conv2d: 2-6                       [-1, 128, 112, 112]       (73,856)\n",
       "|    └─ReLU: 2-7                         [-1, 128, 112, 112]       --\n",
       "|    └─Conv2d: 2-8                       [-1, 128, 112, 112]       (147,584)\n",
       "|    └─ReLU: 2-9                         [-1, 128, 112, 112]       --\n",
       "|    └─MaxPool2d: 2-10                   [-1, 128, 56, 56]         --\n",
       "|    └─Conv2d: 2-11                      [-1, 256, 56, 56]         (295,168)\n",
       "|    └─ReLU: 2-12                        [-1, 256, 56, 56]         --\n",
       "|    └─Conv2d: 2-13                      [-1, 256, 56, 56]         (590,080)\n",
       "|    └─ReLU: 2-14                        [-1, 256, 56, 56]         --\n",
       "|    └─Conv2d: 2-15                      [-1, 256, 56, 56]         (590,080)\n",
       "|    └─ReLU: 2-16                        [-1, 256, 56, 56]         --\n",
       "|    └─MaxPool2d: 2-17                   [-1, 256, 28, 28]         --\n",
       "|    └─Conv2d: 2-18                      [-1, 512, 28, 28]         (1,180,160)\n",
       "|    └─ReLU: 2-19                        [-1, 512, 28, 28]         --\n",
       "|    └─Conv2d: 2-20                      [-1, 512, 28, 28]         (2,359,808)\n",
       "|    └─ReLU: 2-21                        [-1, 512, 28, 28]         --\n",
       "|    └─Conv2d: 2-22                      [-1, 512, 28, 28]         (2,359,808)\n",
       "|    └─ReLU: 2-23                        [-1, 512, 28, 28]         --\n",
       "|    └─MaxPool2d: 2-24                   [-1, 512, 14, 14]         --\n",
       "|    └─Conv2d: 2-25                      [-1, 512, 14, 14]         (2,359,808)\n",
       "|    └─ReLU: 2-26                        [-1, 512, 14, 14]         --\n",
       "|    └─Conv2d: 2-27                      [-1, 512, 14, 14]         (2,359,808)\n",
       "|    └─ReLU: 2-28                        [-1, 512, 14, 14]         --\n",
       "|    └─Conv2d: 2-29                      [-1, 512, 14, 14]         (2,359,808)\n",
       "|    └─ReLU: 2-30                        [-1, 512, 14, 14]         --\n",
       "|    └─MaxPool2d: 2-31                   [-1, 512, 7, 7]           --\n",
       "├─Sequential: 1-2                        [-1, 2048]                --\n",
       "|    └─Conv2d: 2-32                      [-1, 512, 5, 5]           2,359,808\n",
       "|    └─MaxPool2d: 2-33                   [-1, 512, 2, 2]           --\n",
       "|    └─ReLU: 2-34                        [-1, 512, 2, 2]           --\n",
       "|    └─Flatten: 2-35                     [-1, 2048]                --\n",
       "├─ageGenderClassifier: 1-3               [-1, 1]                   --\n",
       "|    └─Sequential: 2-36                  [-1, 64]                  --\n",
       "|    |    └─Linear: 3-1                  [-1, 512]                 1,049,088\n",
       "|    |    └─ReLU: 3-2                    [-1, 512]                 --\n",
       "|    |    └─Dropout: 3-3                 [-1, 512]                 --\n",
       "|    |    └─Linear: 3-4                  [-1, 128]                 65,664\n",
       "|    |    └─ReLU: 3-5                    [-1, 128]                 --\n",
       "|    |    └─Dropout: 3-6                 [-1, 128]                 --\n",
       "|    |    └─Linear: 3-7                  [-1, 64]                  8,256\n",
       "|    |    └─ReLU: 3-8                    [-1, 64]                  --\n",
       "|    └─Sequential: 2-37                  [-1, 1]                   --\n",
       "|    |    └─Linear: 3-9                  [-1, 1]                   65\n",
       "|    |    └─Sigmoid: 3-10                [-1, 1]                   --\n",
       "|    └─Sequential: 2-38                  [-1, 1]                   --\n",
       "|    |    └─Linear: 3-11                 [-1, 1]                   65\n",
       "|    |    └─Sigmoid: 3-12                [-1, 1]                   --\n",
       "==========================================================================================\n",
       "Total params: 18,197,634\n",
       "Trainable params: 3,482,946\n",
       "Non-trainable params: 14,714,688\n",
       "Total mult-adds (G): 15.43\n",
       "==========================================================================================\n",
       "Input size (MB): 0.57\n",
       "Forward/backward pass size (MB): 103.46\n",
       "Params size (MB): 69.42\n",
       "Estimated Total Size (MB): 173.46\n",
       "=========================================================================================="
      ]
     },
     "execution_count": 136,
     "metadata": {},
     "output_type": "execute_result"
    }
   ],
   "source": [
    "summary(model, torch.zeros((1,3,224,224)))"
   ]
  },
  {
   "cell_type": "code",
   "execution_count": 137,
   "metadata": {},
   "outputs": [],
   "source": [
    "def train_batch(data, model, optimizer, criteria):\n",
    "    model.train()\n",
    "    ims, age, gender = data\n",
    "    optimizer.zero_grad()\n",
    "    pred_gender, pred_age = model(ims)    \n",
    "    gender_criterion, age_criterion = criteria\n",
    "    gender_loss = gender_criterion(pred_gender.squeeze(), gender)\n",
    "    age_loss = age_criterion(pred_age.squeeze(), age)\n",
    "    total_loss = gender_loss + age_loss\n",
    "    total_loss.backward()\n",
    "    optimizer.step()\n",
    "    return total_loss\n",
    "\n",
    "def validate_batch(data, model, criteria):\n",
    "    model.eval()\n",
    "    ims, age, gender = data\n",
    "    with torch.no_grad():\n",
    "      pred_gender, pred_age = model(ims)\n",
    "    gender_criterion, age_criterion = criteria\n",
    "    gender_loss = gender_criterion(pred_gender.squeeze(), gender)\n",
    "    age_loss = age_criterion(pred_age.squeeze(), age)\n",
    "    total_loss = gender_loss + age_loss\n",
    "    pred_gender = (pred_gender > 0.5).squeeze()\n",
    "    gender_acc = (pred_gender == gender).float().sum()\n",
    "    age_mae = torch.abs(age - pred_age).float().sum()\n",
    "    return total_loss, gender_acc, age_mae"
   ]
  },
  {
   "cell_type": "code",
   "execution_count": 138,
   "metadata": {},
   "outputs": [],
   "source": [
    "import time"
   ]
  },
  {
   "cell_type": "code",
   "execution_count": 139,
   "metadata": {},
   "outputs": [
    {
     "name": "stderr",
     "output_type": "stream",
     "text": [
      "c:\\Users\\rachi\\anaconda3\\lib\\site-packages\\torchvision\\models\\_utils.py:208: UserWarning: The parameter 'pretrained' is deprecated since 0.13 and may be removed in the future, please use 'weights' instead.\n",
      "  warnings.warn(\n",
      "c:\\Users\\rachi\\anaconda3\\lib\\site-packages\\torchvision\\models\\_utils.py:223: UserWarning: Arguments other than a weight enum or `None` for 'weights' are deprecated since 0.13 and may be removed in the future. The current behavior is equivalent to passing `weights=VGG16_Weights.IMAGENET1K_V1`. You can also use `weights=VGG16_Weights.DEFAULT` to get the most up-to-date weights.\n",
      "  warnings.warn(msg)\n"
     ]
    },
    {
     "name": "stdout",
     "output_type": "stream",
     "text": [
      "1/5 (194.27s - 971.36s remaining)\n",
      "Epoch: 001\tTrain Loss: 0.513\tTest: 0.354\tBest Test Loss: 0.3541\n",
      "Gender Accuracy: 88.74%\tAge MAE: 5.26\n",
      "\n",
      "2/5 (385.78s - 771.55s remaining)\n",
      "Epoch: 002\tTrain Loss: 0.340\tTest: 0.322\tBest Test Loss: 0.3215\n",
      "Gender Accuracy: 89.22%\tAge MAE: 5.18\n",
      "\n",
      "3/5 (577.10s - 577.10s remaining)\n",
      "Epoch: 003\tTrain Loss: 0.259\tTest: 0.344\tBest Test Loss: 0.3215\n",
      "Gender Accuracy: 88.65%\tAge MAE: 5.40\n",
      "\n",
      "4/5 (768.32s - 384.16s remaining)\n",
      "Epoch: 004\tTrain Loss: 0.189\tTest: 0.348\tBest Test Loss: 0.3215\n",
      "Gender Accuracy: 88.91%\tAge MAE: 5.49\n",
      "\n",
      "5/5 (959.81s - 191.96s remaining)\n",
      "Epoch: 005\tTrain Loss: 0.140\tTest: 0.442\tBest Test Loss: 0.3215\n",
      "Gender Accuracy: 86.86%\tAge MAE: 5.52\n",
      "\n"
     ]
    }
   ],
   "source": [
    "model, criteria, optimizer = get_model()\n",
    "val_gender_accuracies = []\n",
    "val_age_maes = []\n",
    "train_losses = []\n",
    "val_losses = []\n",
    "\n",
    "n_epochs = 5\n",
    "best_test_loss = 1000\n",
    "start = time.time()\n",
    "\n",
    "for epoch in range(n_epochs):\n",
    "    epoch_train_loss, epoch_test_loss = 0, 0\n",
    "    val_age_mae, val_gender_acc, ctr = 0, 0, 0\n",
    "    _n = len(train_loader)\n",
    "    for ix, data in enumerate(train_loader):\n",
    "        # if ix == 100: break\n",
    "        loss = train_batch(data, model, optimizer, criteria)\n",
    "        epoch_train_loss += loss.item()\n",
    "\n",
    "    for ix, data in enumerate(test_loader):\n",
    "        # if ix == 10: break\n",
    "        loss, gender_acc, age_mae = validate_batch(data, model, criteria)\n",
    "        epoch_test_loss += loss.item()\n",
    "        val_age_mae += age_mae\n",
    "        val_gender_acc += gender_acc\n",
    "        ctr += len(data[0])\n",
    "\n",
    "    val_age_mae /= ctr\n",
    "    val_gender_acc /= ctr\n",
    "    epoch_train_loss /= len(train_loader)\n",
    "    epoch_test_loss /= len(test_loader)\n",
    "\n",
    "    elapsed = time.time()-start\n",
    "    best_test_loss = min(best_test_loss, epoch_test_loss)\n",
    "    print('{}/{} ({:.2f}s - {:.2f}s remaining)'.format(epoch+1, n_epochs, time.time()-start, (n_epochs-epoch)*(elapsed/(epoch+1))))\n",
    "    info = f'''Epoch: {epoch+1:03d}\\tTrain Loss: {epoch_train_loss:.3f}\\tTest: {epoch_test_loss:.3f}\\tBest Test Loss: {best_test_loss:.4f}'''\n",
    "    info += f'\\nGender Accuracy: {val_gender_acc*100:.2f}%\\tAge MAE: {val_age_mae:.2f}\\n'\n",
    "    print(info)\n",
    "    \n",
    "    \n",
    "    val_gender_accuracies.append(val_gender_acc)\n",
    "    val_age_maes.append(val_age_mae)\n",
    "     "
   ]
  },
  {
   "cell_type": "code",
   "execution_count": 198,
   "metadata": {},
   "outputs": [],
   "source": [
    "index = np.random.choice(len(val))\n",
    "im = val[index][2]\n",
    "im = train.preprocess_img(im).to(device)\n",
    "gender, age = model(im)\n",
    "pred_gender = gender.to('cpu').detach().numpy()\n",
    "pred_age = age.to('cpu').detach().numpy()\n"
   ]
  },
  {
   "cell_type": "code",
   "execution_count": 199,
   "metadata": {},
   "outputs": [
    {
     "data": {
      "text/plain": [
       "4741"
      ]
     },
     "execution_count": 199,
     "metadata": {},
     "output_type": "execute_result"
    }
   ],
   "source": [
    "len(val)"
   ]
  },
  {
   "cell_type": "code",
   "execution_count": 200,
   "metadata": {},
   "outputs": [
    {
     "data": {
      "text/plain": [
       "array([[31.856607]], dtype=float32)"
      ]
     },
     "execution_count": 200,
     "metadata": {},
     "output_type": "execute_result"
    }
   ],
   "source": [
    "pred_age*116"
   ]
  },
  {
   "cell_type": "code",
   "execution_count": 201,
   "metadata": {},
   "outputs": [
    {
     "data": {
      "text/plain": [
       "array([[3.1695945e-05]], dtype=float32)"
      ]
     },
     "execution_count": 201,
     "metadata": {},
     "output_type": "execute_result"
    }
   ],
   "source": [
    "pred_gender"
   ]
  },
  {
   "cell_type": "code",
   "execution_count": 202,
   "metadata": {},
   "outputs": [],
   "source": [
    "im = val[index][2]"
   ]
  },
  {
   "cell_type": "code",
   "execution_count": 203,
   "metadata": {},
   "outputs": [],
   "source": [
    "im = np.reshape(im, (48,48))"
   ]
  },
  {
   "cell_type": "code",
   "execution_count": 204,
   "metadata": {},
   "outputs": [],
   "source": [
    "im = np.asarray(im, np.float32)"
   ]
  },
  {
   "cell_type": "code",
   "execution_count": 205,
   "metadata": {},
   "outputs": [
    {
     "data": {
      "text/plain": [
       "<matplotlib.image.AxesImage at 0x2087fc85c70>"
      ]
     },
     "execution_count": 205,
     "metadata": {},
     "output_type": "execute_result"
    },
    {
     "data": {
      "image/png": "[encoded data removed]",
      "text/plain": [
       "<Figure size 432x288 with 1 Axes>"
      ]
     },
     "metadata": {
      "needs_background": "light"
     },
     "output_type": "display_data"
    }
   ],
   "source": [
    "plt.imshow(im, cmap='gray')"
   ]
  },
  {
   "cell_type": "code",
   "execution_count": 206,
   "metadata": {},
   "outputs": [
    {
     "data": {
      "text/plain": [
       "(0, 39)"
      ]
     },
     "execution_count": 206,
     "metadata": {},
     "output_type": "execute_result"
    }
   ],
   "source": [
    "val[index][0], val[index][1]"
   ]
  },
  {
   "attachments": {},
   "cell_type": "markdown",
   "metadata": {},
   "source": [
    "# torch snippets"
   ]
  },
  {
   "cell_type": "code",
   "execution_count": 216,
   "metadata": {},
   "outputs": [],
   "source": [
    "import torch_snippets\n",
    "from torch_snippets import *\n"
   ]
  },
  {
   "cell_type": "code",
   "execution_count": 217,
   "metadata": {},
   "outputs": [
    {
     "data": {
      "text/html": [
       "<pre style=\"white-space:pre;overflow-x:auto;line-height:normal;font-family:Menlo,'DejaVu Sans Mono',consolas,'Courier New',monospace\"><span style=\"font-weight: bold\">[</span>\n",
       "    <span style=\"color: #008000; text-decoration-color: #008000\">'AttrDict'</span>,\n",
       "    <span style=\"color: #008000; text-decoration-color: #008000\">'B'</span>,\n",
       "    <span style=\"color: #008000; text-decoration-color: #008000\">'BB'</span>,\n",
       "    <span style=\"color: #008000; text-decoration-color: #008000\">'Blank'</span>,\n",
       "    <span style=\"color: #008000; text-decoration-color: #008000\">'C'</span>,\n",
       "    <span style=\"color: #008000; text-decoration-color: #008000\">'Config'</span>,\n",
       "    <span style=\"color: #008000; text-decoration-color: #008000\">'Counter'</span>,\n",
       "    <span style=\"color: #008000; text-decoration-color: #008000\">'DataLoader'</span>,\n",
       "    <span style=\"color: #008000; text-decoration-color: #008000\">'Dataset'</span>,\n",
       "    <span style=\"color: #008000; text-decoration-color: #008000\">'Debug'</span>,\n",
       "    <span style=\"color: #008000; text-decoration-color: #008000\">'E'</span>,\n",
       "    <span style=\"color: #008000; text-decoration-color: #008000\">'Excep'</span>,\n",
       "    <span style=\"color: #008000; text-decoration-color: #008000\">'F'</span>,\n",
       "    <span style=\"color: #008000; text-decoration-color: #008000\">'Glob'</span>,\n",
       "    <span style=\"color: #008000; text-decoration-color: #008000\">'Image'</span>,\n",
       "    <span style=\"color: #008000; text-decoration-color: #008000\">'Info'</span>,\n",
       "    <span style=\"color: #008000; text-decoration-color: #008000\">'L'</span>,\n",
       "    <span style=\"color: #008000; text-decoration-color: #008000\">'P'</span>,\n",
       "    <span style=\"color: #008000; text-decoration-color: #008000\">'PDF'</span>,\n",
       "    <span style=\"color: #008000; text-decoration-color: #008000\">'PIL'</span>,\n",
       "    <span style=\"color: #008000; text-decoration-color: #008000\">'Permute'</span>,\n",
       "    <span style=\"color: #008000; text-decoration-color: #008000\">'Report'</span>,\n",
       "    <span style=\"color: #008000; text-decoration-color: #008000\">'Reshape'</span>,\n",
       "    <span style=\"color: #008000; text-decoration-color: #008000\">'T'</span>,\n",
       "    <span style=\"color: #008000; text-decoration-color: #008000\">'Tqdm'</span>,\n",
       "    <span style=\"color: #008000; text-decoration-color: #008000\">'Warn'</span>,\n",
       "    <span style=\"color: #008000; text-decoration-color: #008000\">'__builtins__'</span>,\n",
       "    <span style=\"color: #008000; text-decoration-color: #008000\">'__cached__'</span>,\n",
       "    <span style=\"color: #008000; text-decoration-color: #008000\">'__doc__'</span>,\n",
       "    <span style=\"color: #008000; text-decoration-color: #008000\">'__file__'</span>,\n",
       "    <span style=\"color: #008000; text-decoration-color: #008000\">'__loader__'</span>,\n",
       "    <span style=\"color: #008000; text-decoration-color: #008000\">'__name__'</span>,\n",
       "    <span style=\"color: #008000; text-decoration-color: #008000\">'__package__'</span>,\n",
       "    <span style=\"color: #008000; text-decoration-color: #008000\">'__path__'</span>,\n",
       "    <span style=\"color: #008000; text-decoration-color: #008000\">'__spec__'</span>,\n",
       "    <span style=\"color: #008000; text-decoration-color: #008000\">'__version__'</span>,\n",
       "    <span style=\"color: #008000; text-decoration-color: #008000\">'batchify'</span>,\n",
       "    <span style=\"color: #008000; text-decoration-color: #008000\">'bb_utils'</span>,\n",
       "    <span style=\"color: #008000; text-decoration-color: #008000\">'bbfy'</span>,\n",
       "    <span style=\"color: #008000; text-decoration-color: #008000\">'bbs2df'</span>,\n",
       "    <span style=\"color: #008000; text-decoration-color: #008000\">'choose'</span>,\n",
       "    <span style=\"color: #008000; text-decoration-color: #008000\">'common'</span>,\n",
       "    <span style=\"color: #008000; text-decoration-color: #008000\">'crop_from_bb'</span>,\n",
       "    <span style=\"color: #008000; text-decoration-color: #008000\">'cv2'</span>,\n",
       "    <span style=\"color: #008000; text-decoration-color: #008000\">'dcopy'</span>,\n",
       "    <span style=\"color: #008000; text-decoration-color: #008000\">'defaultdict'</span>,\n",
       "    <span style=\"color: #008000; text-decoration-color: #008000\">'detach'</span>,\n",
       "    <span style=\"color: #008000; text-decoration-color: #008000\">'device'</span>,\n",
       "    <span style=\"color: #008000; text-decoration-color: #008000\">'df2bbs'</span>,\n",
       "    <span style=\"color: #008000; text-decoration-color: #008000\">'diff'</span>,\n",
       "    <span style=\"color: #008000; text-decoration-color: #008000\">'dill'</span>,\n",
       "    <span style=\"color: #008000; text-decoration-color: #008000\">'display'</span>,\n",
       "    <span style=\"color: #008000; text-decoration-color: #008000\">'dumpdill'</span>,\n",
       "    <span style=\"color: #008000; text-decoration-color: #008000\">'enlarge_bbs'</span>,\n",
       "    <span style=\"color: #008000; text-decoration-color: #008000\">'exists'</span>,\n",
       "    <span style=\"color: #008000; text-decoration-color: #008000\">'extn'</span>,\n",
       "    <span style=\"color: #008000; text-decoration-color: #008000\">'find'</span>,\n",
       "    <span style=\"color: #008000; text-decoration-color: #008000\">'flatten'</span>,\n",
       "    <span style=\"color: #008000; text-decoration-color: #008000\">'fname'</span>,\n",
       "    <span style=\"color: #008000; text-decoration-color: #008000\">'fname2'</span>,\n",
       "    <span style=\"color: #008000; text-decoration-color: #008000\">'ifnone'</span>,\n",
       "    <span style=\"color: #008000; text-decoration-color: #008000\">'input_to_str'</span>,\n",
       "    <span style=\"color: #008000; text-decoration-color: #008000\">'inspect'</span>,\n",
       "    <span style=\"color: #008000; text-decoration-color: #008000\">'inspector'</span>,\n",
       "    <span style=\"color: #008000; text-decoration-color: #008000\">'ipython'</span>,\n",
       "    <span style=\"color: #008000; text-decoration-color: #008000\">'isdir'</span>,\n",
       "    <span style=\"color: #008000; text-decoration-color: #008000\">'isnamedtupleinstance'</span>,\n",
       "    <span style=\"color: #008000; text-decoration-color: #008000\">'jitter'</span>,\n",
       "    <span style=\"color: #008000; text-decoration-color: #008000\">'line'</span>,\n",
       "    <span style=\"color: #008000; text-decoration-color: #008000\">'lines'</span>,\n",
       "    <span style=\"color: #008000; text-decoration-color: #008000\">'list_zip'</span>,\n",
       "    <span style=\"color: #008000; text-decoration-color: #008000\">'load_defaults'</span>,\n",
       "    <span style=\"color: #008000; text-decoration-color: #008000\">'load_torch_model_weights_to'</span>,\n",
       "    <span style=\"color: #008000; text-decoration-color: #008000\">'loaddill'</span>,\n",
       "    <span style=\"color: #008000; text-decoration-color: #008000\">'loader'</span>,\n",
       "    <span style=\"color: #008000; text-decoration-color: #008000\">'loadifexists'</span>,\n",
       "    <span style=\"color: #008000; text-decoration-color: #008000\">'logger'</span>,\n",
       "    <span style=\"color: #008000; text-decoration-color: #008000\">'lzip'</span>,\n",
       "    <span style=\"color: #008000; text-decoration-color: #008000\">'makedir'</span>,\n",
       "    <span style=\"color: #008000; text-decoration-color: #008000\">'markup'</span>,\n",
       "    <span style=\"color: #008000; text-decoration-color: #008000\">'md5'</span>,\n",
       "    <span style=\"color: #008000; text-decoration-color: #008000\">'nn'</span>,\n",
       "    <span style=\"color: #008000; text-decoration-color: #008000\">'now'</span>,\n",
       "    <span style=\"color: #008000; text-decoration-color: #008000\">'np'</span>,\n",
       "    <span style=\"color: #008000; text-decoration-color: #008000\">'nunique'</span>,\n",
       "    <span style=\"color: #008000; text-decoration-color: #008000\">'optim'</span>,\n",
       "    <span style=\"color: #008000; text-decoration-color: #008000\">'os'</span>,\n",
       "    <span style=\"color: #008000; text-decoration-color: #008000\">'output_to_path'</span>,\n",
       "    <span style=\"color: #008000; text-decoration-color: #008000\">'pad'</span>,\n",
       "    <span style=\"color: #008000; text-decoration-color: #008000\">'parent'</span>,\n",
       "    <span style=\"color: #008000; text-decoration-color: #008000\">'paths'</span>,\n",
       "    <span style=\"color: #008000; text-decoration-color: #008000\">'pd'</span>,\n",
       "    <span style=\"color: #008000; text-decoration-color: #008000\">'pdb'</span>,\n",
       "    <span style=\"color: #008000; text-decoration-color: #008000\">'pdf_loader'</span>,\n",
       "    <span style=\"color: #008000; text-decoration-color: #008000\">'pdfilter'</span>,\n",
       "    <span style=\"color: #008000; text-decoration-color: #008000\">'plt'</span>,\n",
       "    <span style=\"color: #008000; text-decoration-color: #008000\">'pretty_json'</span>,\n",
       "    <span style=\"color: #008000; text-decoration-color: #008000\">'print'</span>,\n",
       "    <span style=\"color: #008000; text-decoration-color: #008000\">'puttext'</span>,\n",
       "    <span style=\"color: #008000; text-decoration-color: #008000\">'rand'</span>,\n",
       "    <span style=\"color: #008000; text-decoration-color: #008000\">'randint'</span>,\n",
       "    <span style=\"color: #008000; text-decoration-color: #008000\">'re'</span>,\n",
       "    <span style=\"color: #008000; text-decoration-color: #008000\">'read'</span>,\n",
       "    <span style=\"color: #008000; text-decoration-color: #008000\">'readPIL'</span>,\n",
       "    <span style=\"color: #008000; text-decoration-color: #008000\">'read_json'</span>,\n",
       "    <span style=\"color: #008000; text-decoration-color: #008000\">'read_jsonl'</span>,\n",
       "    <span style=\"color: #008000; text-decoration-color: #008000\">'read_xml'</span>,\n",
       "    <span style=\"color: #008000; text-decoration-color: #008000\">'read_yaml'</span>,\n",
       "    <span style=\"color: #008000; text-decoration-color: #008000\">'readlines'</span>,\n",
       "    <span style=\"color: #008000; text-decoration-color: #008000\">'rect'</span>,\n",
       "    <span style=\"color: #008000; text-decoration-color: #008000\">'registry'</span>,\n",
       "    <span style=\"color: #008000; text-decoration-color: #008000\">'remove_duplicates'</span>,\n",
       "    <span style=\"color: #008000; text-decoration-color: #008000\">'rename_batch'</span>,\n",
       "    <span style=\"color: #008000; text-decoration-color: #008000\">'reset_logger_width'</span>,\n",
       "    <span style=\"color: #008000; text-decoration-color: #008000\">'resize'</span>,\n",
       "    <span style=\"color: #008000; text-decoration-color: #008000\">'rotate'</span>,\n",
       "    <span style=\"color: #008000; text-decoration-color: #008000\">'save_torch_model_weights_from'</span>,\n",
       "    <span style=\"color: #008000; text-decoration-color: #008000\">'see'</span>,\n",
       "    <span style=\"color: #008000; text-decoration-color: #008000\">'set_logging_level'</span>,\n",
       "    <span style=\"color: #008000; text-decoration-color: #008000\">'show'</span>,\n",
       "    <span style=\"color: #008000; text-decoration-color: #008000\">'shrink_bbs'</span>,\n",
       "    <span style=\"color: #008000; text-decoration-color: #008000\">'stem'</span>,\n",
       "    <span style=\"color: #008000; text-decoration-color: #008000\">'stems'</span>,\n",
       "    <span style=\"color: #008000; text-decoration-color: #008000\">'store_attr'</span>,\n",
       "    <span style=\"color: #008000; text-decoration-color: #008000\">'subplots'</span>,\n",
       "    <span style=\"color: #008000; text-decoration-color: #008000\">'sys'</span>,\n",
       "    <span style=\"color: #008000; text-decoration-color: #008000\">'th'</span>,\n",
       "    <span style=\"color: #008000; text-decoration-color: #008000\">'thinc_parser'</span>,\n",
       "    <span style=\"color: #008000; text-decoration-color: #008000\">'to_absolute'</span>,\n",
       "    <span style=\"color: #008000; text-decoration-color: #008000\">'to_relative'</span>,\n",
       "    <span style=\"color: #008000; text-decoration-color: #008000\">'torch'</span>,\n",
       "    <span style=\"color: #008000; text-decoration-color: #008000\">'torch_loader'</span>,\n",
       "    <span style=\"color: #008000; text-decoration-color: #008000\">'torchvision'</span>,\n",
       "    <span style=\"color: #008000; text-decoration-color: #008000\">'toss'</span>,\n",
       "    <span style=\"color: #008000; text-decoration-color: #008000\">'tqdm'</span>,\n",
       "    <span style=\"color: #008000; text-decoration-color: #008000\">'track'</span>,\n",
       "    <span style=\"color: #008000; text-decoration-color: #008000\">'trange'</span>,\n",
       "    <span style=\"color: #008000; text-decoration-color: #008000\">'transforms'</span>,\n",
       "    <span style=\"color: #008000; text-decoration-color: #008000\">'typedispatch'</span>,\n",
       "    <span style=\"color: #008000; text-decoration-color: #008000\">'uint'</span>,\n",
       "    <span style=\"color: #008000; text-decoration-color: #008000\">'unique'</span>,\n",
       "    <span style=\"color: #008000; text-decoration-color: #008000\">'unpack'</span>,\n",
       "    <span style=\"color: #008000; text-decoration-color: #008000\">'unzip_file'</span>,\n",
       "    <span style=\"color: #008000; text-decoration-color: #008000\">'write'</span>,\n",
       "    <span style=\"color: #008000; text-decoration-color: #008000\">'write_json'</span>,\n",
       "    <span style=\"color: #008000; text-decoration-color: #008000\">'write_jsonl'</span>,\n",
       "    <span style=\"color: #008000; text-decoration-color: #008000\">'write_xml'</span>,\n",
       "    <span style=\"color: #008000; text-decoration-color: #008000\">'write_yaml'</span>,\n",
       "    <span style=\"color: #008000; text-decoration-color: #008000\">'writelines'</span>,\n",
       "    <span style=\"color: #008000; text-decoration-color: #008000\">'xywh2xyXY'</span>,\n",
       "    <span style=\"color: #008000; text-decoration-color: #008000\">'zip_files'</span>\n",
       "<span style=\"font-weight: bold\">]</span>\n",
       "</pre>\n"
      ],
      "text/plain": [
       "\u001b[1m[\u001b[0m\n",
       "    \u001b[32m'AttrDict'\u001b[0m,\n",
       "    \u001b[32m'B'\u001b[0m,\n",
       "    \u001b[32m'BB'\u001b[0m,\n",
       "    \u001b[32m'Blank'\u001b[0m,\n",
       "    \u001b[32m'C'\u001b[0m,\n",
       "    \u001b[32m'Config'\u001b[0m,\n",
       "    \u001b[32m'Counter'\u001b[0m,\n",
       "    \u001b[32m'DataLoader'\u001b[0m,\n",
       "    \u001b[32m'Dataset'\u001b[0m,\n",
       "    \u001b[32m'Debug'\u001b[0m,\n",
       "    \u001b[32m'E'\u001b[0m,\n",
       "    \u001b[32m'Excep'\u001b[0m,\n",
       "    \u001b[32m'F'\u001b[0m,\n",
       "    \u001b[32m'Glob'\u001b[0m,\n",
       "    \u001b[32m'Image'\u001b[0m,\n",
       "    \u001b[32m'Info'\u001b[0m,\n",
       "    \u001b[32m'L'\u001b[0m,\n",
       "    \u001b[32m'P'\u001b[0m,\n",
       "    \u001b[32m'PDF'\u001b[0m,\n",
       "    \u001b[32m'PIL'\u001b[0m,\n",
       "    \u001b[32m'Permute'\u001b[0m,\n",
       "    \u001b[32m'Report'\u001b[0m,\n",
       "    \u001b[32m'Reshape'\u001b[0m,\n",
       "    \u001b[32m'T'\u001b[0m,\n",
       "    \u001b[32m'Tqdm'\u001b[0m,\n",
       "    \u001b[32m'Warn'\u001b[0m,\n",
       "    \u001b[32m'__builtins__'\u001b[0m,\n",
       "    \u001b[32m'__cached__'\u001b[0m,\n",
       "    \u001b[32m'__doc__'\u001b[0m,\n",
       "    \u001b[32m'__file__'\u001b[0m,\n",
       "    \u001b[32m'__loader__'\u001b[0m,\n",
       "    \u001b[32m'__name__'\u001b[0m,\n",
       "    \u001b[32m'__package__'\u001b[0m,\n",
       "    \u001b[32m'__path__'\u001b[0m,\n",
       "    \u001b[32m'__spec__'\u001b[0m,\n",
       "    \u001b[32m'__version__'\u001b[0m,\n",
       "    \u001b[32m'batchify'\u001b[0m,\n",
       "    \u001b[32m'bb_utils'\u001b[0m,\n",
       "    \u001b[32m'bbfy'\u001b[0m,\n",
       "    \u001b[32m'bbs2df'\u001b[0m,\n",
       "    \u001b[32m'choose'\u001b[0m,\n",
       "    \u001b[32m'common'\u001b[0m,\n",
       "    \u001b[32m'crop_from_bb'\u001b[0m,\n",
       "    \u001b[32m'cv2'\u001b[0m,\n",
       "    \u001b[32m'dcopy'\u001b[0m,\n",
       "    \u001b[32m'defaultdict'\u001b[0m,\n",
       "    \u001b[32m'detach'\u001b[0m,\n",
       "    \u001b[32m'device'\u001b[0m,\n",
       "    \u001b[32m'df2bbs'\u001b[0m,\n",
       "    \u001b[32m'diff'\u001b[0m,\n",
       "    \u001b[32m'dill'\u001b[0m,\n",
       "    \u001b[32m'display'\u001b[0m,\n",
       "    \u001b[32m'dumpdill'\u001b[0m,\n",
       "    \u001b[32m'enlarge_bbs'\u001b[0m,\n",
       "    \u001b[32m'exists'\u001b[0m,\n",
       "    \u001b[32m'extn'\u001b[0m,\n",
       "    \u001b[32m'find'\u001b[0m,\n",
       "    \u001b[32m'flatten'\u001b[0m,\n",
       "    \u001b[32m'fname'\u001b[0m,\n",
       "    \u001b[32m'fname2'\u001b[0m,\n",
       "    \u001b[32m'ifnone'\u001b[0m,\n",
       "    \u001b[32m'input_to_str'\u001b[0m,\n",
       "    \u001b[32m'inspect'\u001b[0m,\n",
       "    \u001b[32m'inspector'\u001b[0m,\n",
       "    \u001b[32m'ipython'\u001b[0m,\n",
       "    \u001b[32m'isdir'\u001b[0m,\n",
       "    \u001b[32m'isnamedtupleinstance'\u001b[0m,\n",
       "    \u001b[32m'jitter'\u001b[0m,\n",
       "    \u001b[32m'line'\u001b[0m,\n",
       "    \u001b[32m'lines'\u001b[0m,\n",
       "    \u001b[32m'list_zip'\u001b[0m,\n",
       "    \u001b[32m'load_defaults'\u001b[0m,\n",
       "    \u001b[32m'load_torch_model_weights_to'\u001b[0m,\n",
       "    \u001b[32m'loaddill'\u001b[0m,\n",
       "    \u001b[32m'loader'\u001b[0m,\n",
       "    \u001b[32m'loadifexists'\u001b[0m,\n",
       "    \u001b[32m'logger'\u001b[0m,\n",
       "    \u001b[32m'lzip'\u001b[0m,\n",
       "    \u001b[32m'makedir'\u001b[0m,\n",
       "    \u001b[32m'markup'\u001b[0m,\n",
       "    \u001b[32m'md5'\u001b[0m,\n",
       "    \u001b[32m'nn'\u001b[0m,\n",
       "    \u001b[32m'now'\u001b[0m,\n",
       "    \u001b[32m'np'\u001b[0m,\n",
       "    \u001b[32m'nunique'\u001b[0m,\n",
       "    \u001b[32m'optim'\u001b[0m,\n",
       "    \u001b[32m'os'\u001b[0m,\n",
       "    \u001b[32m'output_to_path'\u001b[0m,\n",
       "    \u001b[32m'pad'\u001b[0m,\n",
       "    \u001b[32m'parent'\u001b[0m,\n",
       "    \u001b[32m'paths'\u001b[0m,\n",
       "    \u001b[32m'pd'\u001b[0m,\n",
       "    \u001b[32m'pdb'\u001b[0m,\n",
       "    \u001b[32m'pdf_loader'\u001b[0m,\n",
       "    \u001b[32m'pdfilter'\u001b[0m,\n",
       "    \u001b[32m'plt'\u001b[0m,\n",
       "    \u001b[32m'pretty_json'\u001b[0m,\n",
       "    \u001b[32m'print'\u001b[0m,\n",
       "    \u001b[32m'puttext'\u001b[0m,\n",
       "    \u001b[32m'rand'\u001b[0m,\n",
       "    \u001b[32m'randint'\u001b[0m,\n",
       "    \u001b[32m're'\u001b[0m,\n",
       "    \u001b[32m'read'\u001b[0m,\n",
       "    \u001b[32m'readPIL'\u001b[0m,\n",
       "    \u001b[32m'read_json'\u001b[0m,\n",
       "    \u001b[32m'read_jsonl'\u001b[0m,\n",
       "    \u001b[32m'read_xml'\u001b[0m,\n",
       "    \u001b[32m'read_yaml'\u001b[0m,\n",
       "    \u001b[32m'readlines'\u001b[0m,\n",
       "    \u001b[32m'rect'\u001b[0m,\n",
       "    \u001b[32m'registry'\u001b[0m,\n",
       "    \u001b[32m'remove_duplicates'\u001b[0m,\n",
       "    \u001b[32m'rename_batch'\u001b[0m,\n",
       "    \u001b[32m'reset_logger_width'\u001b[0m,\n",
       "    \u001b[32m'resize'\u001b[0m,\n",
       "    \u001b[32m'rotate'\u001b[0m,\n",
       "    \u001b[32m'save_torch_model_weights_from'\u001b[0m,\n",
       "    \u001b[32m'see'\u001b[0m,\n",
       "    \u001b[32m'set_logging_level'\u001b[0m,\n",
       "    \u001b[32m'show'\u001b[0m,\n",
       "    \u001b[32m'shrink_bbs'\u001b[0m,\n",
       "    \u001b[32m'stem'\u001b[0m,\n",
       "    \u001b[32m'stems'\u001b[0m,\n",
       "    \u001b[32m'store_attr'\u001b[0m,\n",
       "    \u001b[32m'subplots'\u001b[0m,\n",
       "    \u001b[32m'sys'\u001b[0m,\n",
       "    \u001b[32m'th'\u001b[0m,\n",
       "    \u001b[32m'thinc_parser'\u001b[0m,\n",
       "    \u001b[32m'to_absolute'\u001b[0m,\n",
       "    \u001b[32m'to_relative'\u001b[0m,\n",
       "    \u001b[32m'torch'\u001b[0m,\n",
       "    \u001b[32m'torch_loader'\u001b[0m,\n",
       "    \u001b[32m'torchvision'\u001b[0m,\n",
       "    \u001b[32m'toss'\u001b[0m,\n",
       "    \u001b[32m'tqdm'\u001b[0m,\n",
       "    \u001b[32m'track'\u001b[0m,\n",
       "    \u001b[32m'trange'\u001b[0m,\n",
       "    \u001b[32m'transforms'\u001b[0m,\n",
       "    \u001b[32m'typedispatch'\u001b[0m,\n",
       "    \u001b[32m'uint'\u001b[0m,\n",
       "    \u001b[32m'unique'\u001b[0m,\n",
       "    \u001b[32m'unpack'\u001b[0m,\n",
       "    \u001b[32m'unzip_file'\u001b[0m,\n",
       "    \u001b[32m'write'\u001b[0m,\n",
       "    \u001b[32m'write_json'\u001b[0m,\n",
       "    \u001b[32m'write_jsonl'\u001b[0m,\n",
       "    \u001b[32m'write_xml'\u001b[0m,\n",
       "    \u001b[32m'write_yaml'\u001b[0m,\n",
       "    \u001b[32m'writelines'\u001b[0m,\n",
       "    \u001b[32m'xywh2xyXY'\u001b[0m,\n",
       "    \u001b[32m'zip_files'\u001b[0m\n",
       "\u001b[1m]\u001b[0m\n"
      ]
     },
     "metadata": {},
     "output_type": "display_data"
    }
   ],
   "source": [
    "print(dir(torch_snippets))"
   ]
  },
  {
   "cell_type": "code",
   "execution_count": 218,
   "metadata": {},
   "outputs": [
    {
     "name": "stdout",
     "output_type": "stream",
     "text": [
      "\u001b[1;31mSignature:\u001b[0m \u001b[0mzip_files\u001b[0m\u001b[1;33m(\u001b[0m\u001b[0mlist_of_files\u001b[0m\u001b[1;33m,\u001b[0m \u001b[0mdest\u001b[0m\u001b[1;33m)\u001b[0m\u001b[1;33m\u001b[0m\u001b[1;33m\u001b[0m\u001b[0m\n",
      "\u001b[1;31mDocstring:\u001b[0m <no docstring>\n",
      "\u001b[1;31mFile:\u001b[0m      c:\\users\\rachi\\anaconda3\\lib\\site-packages\\torch_snippets\\paths.py\n",
      "\u001b[1;31mType:\u001b[0m      function\n"
     ]
    }
   ],
   "source": [
    "zip_files?"
   ]
  },
  {
   "cell_type": "code",
   "execution_count": null,
   "metadata": {},
   "outputs": [],
   "source": []
  }
 ],
 "metadata": {
  "kernelspec": {
   "display_name": "base",
   "language": "python",
   "name": "python3"
  },
  "language_info": {
   "codemirror_mode": {
    "name": "ipython",
    "version": 3
   },
   "file_extension": ".py",
   "mimetype": "text/x-python",
   "name": "python",
   "nbconvert_exporter": "python",
   "pygments_lexer": "ipython3",
   "version": "3.8.8"
  },
  "orig_nbformat": 4,
  "vscode": {
   "interpreter": {
    "hash": "d9d52e4e42d889ef44fdd960ad7523bff2f529da33eef29f47a98bbc470680c4"
   }
  }
 },
 "nbformat": 4,
 "nbformat_minor": 2
}
