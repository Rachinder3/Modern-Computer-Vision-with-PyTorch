{
 "cells": [
  {
   "attachments": {},
   "cell_type": "markdown",
   "metadata": {},
   "source": [
    "# Why CNNs preferred over ANNs for Images\n",
    "\n",
    "1.  To capture spatial information whcih cant be captured by ANNs.\n",
    "\n",
    "2. Weights are shared so the same information if appearing on different locations can still be captured.\n",
    "\n",
    "3. Later layers of CNNs are able to capture much more receptive field because of convolutions. Each cell for later layer corresponds to more cells in original image.\n",
    "\n",
    "4. Number of parameters required is way less in CNNs.\n",
    "\n",
    "5. Saves us from image translation issues. Initially the ANN might work but if you translate the image (move object in image left or right), ANNs fail here. CNNs help here. To strengthen it further we can use image augmentation\n",
    "\n"
   ]
  },
  {
   "attachments": {},
   "cell_type": "markdown",
   "metadata": {},
   "source": [
    "# CNN on toy dataset"
   ]
  },
  {
   "cell_type": "code",
   "execution_count": 1,
   "metadata": {},
   "outputs": [],
   "source": [
    "import torch\n",
    "import torch.nn as nn\n",
    "from torch.utils.data import Dataset, DataLoader, TensorDataset\n",
    "from torchvision import datasets\n",
    "device = \"cuda\" if torch.cuda.is_available() else \"cpu\"\n",
    "import numpy as np\n",
    "import matplotlib.pyplot as plt\n",
    "%matplotlib inline\n",
    "import seaborn as sns"
   ]
  },
  {
   "cell_type": "code",
   "execution_count": 2,
   "metadata": {},
   "outputs": [],
   "source": [
    "X_train = torch.tensor([[[[1,2,3,4],[2,3,4,5],[5,6,7,8],[1,3,4,5]]],[[[-1,2,3,-4],[2,-3,4,5],[-5,6,-7,8],[-1,-3,-4,-5]]]]).to(device).float()"
   ]
  },
  {
   "cell_type": "code",
   "execution_count": 3,
   "metadata": {},
   "outputs": [
    {
     "data": {
      "text/plain": [
       "torch.Size([2, 1, 4, 4])"
      ]
     },
     "execution_count": 3,
     "metadata": {},
     "output_type": "execute_result"
    }
   ],
   "source": [
    "X_train.shape"
   ]
  },
  {
   "cell_type": "code",
   "execution_count": 4,
   "metadata": {},
   "outputs": [
    {
     "data": {
      "text/plain": [
       "torch.Size([4, 4, 1])"
      ]
     },
     "execution_count": 4,
     "metadata": {},
     "output_type": "execute_result"
    }
   ],
   "source": [
    "X_train[0].permute(1,2,0).shape   ##### pytorch expects the img data to be in the format of C*H*W"
   ]
  },
  {
   "cell_type": "code",
   "execution_count": 5,
   "metadata": {},
   "outputs": [
    {
     "data": {
      "text/plain": [
       "torch.Size([4, 4])"
      ]
     },
     "execution_count": 5,
     "metadata": {},
     "output_type": "execute_result"
    }
   ],
   "source": [
    "X_train[0].squeeze(0).shape  ## for greyscale images, there should be only 2 dimensions. "
   ]
  },
  {
   "cell_type": "code",
   "execution_count": 6,
   "metadata": {},
   "outputs": [
    {
     "data": {
      "text/plain": [
       "<matplotlib.image.AxesImage at 0x2640358a340>"
      ]
     },
     "execution_count": 6,
     "metadata": {},
     "output_type": "execute_result"
    },
    {
     "data": {
      "image/png": "[encoded data removed]",
      "text/plain": [
       "<Figure size 432x288 with 1 Axes>"
      ]
     },
     "metadata": {
      "needs_background": "light"
     },
     "output_type": "display_data"
    }
   ],
   "source": [
    "plt.imshow(X_train[0].squeeze(0).to(\"cpu\"), cmap=\"gray\")"
   ]
  },
  {
   "cell_type": "code",
   "execution_count": 7,
   "metadata": {},
   "outputs": [
    {
     "data": {
      "text/plain": [
       "tensor(8., device='cuda:0')"
      ]
     },
     "execution_count": 7,
     "metadata": {},
     "output_type": "execute_result"
    }
   ],
   "source": [
    "### normalizing\n",
    "X_train.max()"
   ]
  },
  {
   "cell_type": "code",
   "execution_count": 8,
   "metadata": {},
   "outputs": [],
   "source": [
    "X_train = X_train/8"
   ]
  },
  {
   "cell_type": "code",
   "execution_count": 9,
   "metadata": {},
   "outputs": [],
   "source": [
    "y_train = torch.tensor([0,1]).to(device).float()"
   ]
  },
  {
   "cell_type": "code",
   "execution_count": 10,
   "metadata": {},
   "outputs": [
    {
     "data": {
      "text/plain": [
       "torch.Size([2])"
      ]
     },
     "execution_count": 10,
     "metadata": {},
     "output_type": "execute_result"
    }
   ],
   "source": [
    "y_train.shape"
   ]
  },
  {
   "cell_type": "code",
   "execution_count": 11,
   "metadata": {},
   "outputs": [
    {
     "name": "stdout",
     "output_type": "stream",
     "text": [
      "\u001b[1;31mInit signature:\u001b[0m\n",
      "\u001b[0mnn\u001b[0m\u001b[1;33m.\u001b[0m\u001b[0mConv2d\u001b[0m\u001b[1;33m(\u001b[0m\u001b[1;33m\n",
      "\u001b[0m    \u001b[0min_channels\u001b[0m\u001b[1;33m:\u001b[0m \u001b[0mint\u001b[0m\u001b[1;33m,\u001b[0m\u001b[1;33m\n",
      "\u001b[0m    \u001b[0mout_channels\u001b[0m\u001b[1;33m:\u001b[0m \u001b[0mint\u001b[0m\u001b[1;33m,\u001b[0m\u001b[1;33m\n",
      "\u001b[0m    \u001b[0mkernel_size\u001b[0m\u001b[1;33m:\u001b[0m \u001b[0mUnion\u001b[0m\u001b[1;33m[\u001b[0m\u001b[0mint\u001b[0m\u001b[1;33m,\u001b[0m \u001b[0mTuple\u001b[0m\u001b[1;33m[\u001b[0m\u001b[0mint\u001b[0m\u001b[1;33m,\u001b[0m \u001b[0mint\u001b[0m\u001b[1;33m]\u001b[0m\u001b[1;33m]\u001b[0m\u001b[1;33m,\u001b[0m\u001b[1;33m\n",
      "\u001b[0m    \u001b[0mstride\u001b[0m\u001b[1;33m:\u001b[0m \u001b[0mUnion\u001b[0m\u001b[1;33m[\u001b[0m\u001b[0mint\u001b[0m\u001b[1;33m,\u001b[0m \u001b[0mTuple\u001b[0m\u001b[1;33m[\u001b[0m\u001b[0mint\u001b[0m\u001b[1;33m,\u001b[0m \u001b[0mint\u001b[0m\u001b[1;33m]\u001b[0m\u001b[1;33m]\u001b[0m \u001b[1;33m=\u001b[0m \u001b[1;36m1\u001b[0m\u001b[1;33m,\u001b[0m\u001b[1;33m\n",
      "\u001b[0m    \u001b[0mpadding\u001b[0m\u001b[1;33m:\u001b[0m \u001b[0mUnion\u001b[0m\u001b[1;33m[\u001b[0m\u001b[0mstr\u001b[0m\u001b[1;33m,\u001b[0m \u001b[0mint\u001b[0m\u001b[1;33m,\u001b[0m \u001b[0mTuple\u001b[0m\u001b[1;33m[\u001b[0m\u001b[0mint\u001b[0m\u001b[1;33m,\u001b[0m \u001b[0mint\u001b[0m\u001b[1;33m]\u001b[0m\u001b[1;33m]\u001b[0m \u001b[1;33m=\u001b[0m \u001b[1;36m0\u001b[0m\u001b[1;33m,\u001b[0m\u001b[1;33m\n",
      "\u001b[0m    \u001b[0mdilation\u001b[0m\u001b[1;33m:\u001b[0m \u001b[0mUnion\u001b[0m\u001b[1;33m[\u001b[0m\u001b[0mint\u001b[0m\u001b[1;33m,\u001b[0m \u001b[0mTuple\u001b[0m\u001b[1;33m[\u001b[0m\u001b[0mint\u001b[0m\u001b[1;33m,\u001b[0m \u001b[0mint\u001b[0m\u001b[1;33m]\u001b[0m\u001b[1;33m]\u001b[0m \u001b[1;33m=\u001b[0m \u001b[1;36m1\u001b[0m\u001b[1;33m,\u001b[0m\u001b[1;33m\n",
      "\u001b[0m    \u001b[0mgroups\u001b[0m\u001b[1;33m:\u001b[0m \u001b[0mint\u001b[0m \u001b[1;33m=\u001b[0m \u001b[1;36m1\u001b[0m\u001b[1;33m,\u001b[0m\u001b[1;33m\n",
      "\u001b[0m    \u001b[0mbias\u001b[0m\u001b[1;33m:\u001b[0m \u001b[0mbool\u001b[0m \u001b[1;33m=\u001b[0m \u001b[1;32mTrue\u001b[0m\u001b[1;33m,\u001b[0m\u001b[1;33m\n",
      "\u001b[0m    \u001b[0mpadding_mode\u001b[0m\u001b[1;33m:\u001b[0m \u001b[0mstr\u001b[0m \u001b[1;33m=\u001b[0m \u001b[1;34m'zeros'\u001b[0m\u001b[1;33m,\u001b[0m\u001b[1;33m\n",
      "\u001b[0m    \u001b[0mdevice\u001b[0m\u001b[1;33m=\u001b[0m\u001b[1;32mNone\u001b[0m\u001b[1;33m,\u001b[0m\u001b[1;33m\n",
      "\u001b[0m    \u001b[0mdtype\u001b[0m\u001b[1;33m=\u001b[0m\u001b[1;32mNone\u001b[0m\u001b[1;33m,\u001b[0m\u001b[1;33m\n",
      "\u001b[0m\u001b[1;33m)\u001b[0m \u001b[1;33m->\u001b[0m \u001b[1;32mNone\u001b[0m\u001b[1;33m\u001b[0m\u001b[1;33m\u001b[0m\u001b[0m\n",
      "\u001b[1;31mDocstring:\u001b[0m     \n",
      "Applies a 2D convolution over an input signal composed of several input\n",
      "planes.\n",
      "\n",
      "In the simplest case, the output value of the layer with input size\n",
      ":math:`(N, C_{\\text{in}}, H, W)` and output :math:`(N, C_{\\text{out}}, H_{\\text{out}}, W_{\\text{out}})`\n",
      "can be precisely described as:\n",
      "\n",
      ".. math::\n",
      "    \\text{out}(N_i, C_{\\text{out}_j}) = \\text{bias}(C_{\\text{out}_j}) +\n",
      "    \\sum_{k = 0}^{C_{\\text{in}} - 1} \\text{weight}(C_{\\text{out}_j}, k) \\star \\text{input}(N_i, k)\n",
      "\n",
      "\n",
      "where :math:`\\star` is the valid 2D `cross-correlation`_ operator,\n",
      ":math:`N` is a batch size, :math:`C` denotes a number of channels,\n",
      ":math:`H` is a height of input planes in pixels, and :math:`W` is\n",
      "width in pixels.\n",
      "\n",
      "\n",
      "This module supports :ref:`TensorFloat32<tf32_on_ampere>`.\n",
      "\n",
      "On certain ROCm devices, when using float16 inputs this module will use :ref:`different precision<fp16_on_mi200>` for backward.\n",
      "\n",
      "* :attr:`stride` controls the stride for the cross-correlation, a single\n",
      "  number or a tuple.\n",
      "\n",
      "* :attr:`padding` controls the amount of padding applied to the input. It\n",
      "  can be either a string {'valid', 'same'} or a tuple of ints giving the\n",
      "  amount of implicit padding applied on both sides.\n",
      "\n",
      "* :attr:`dilation` controls the spacing between the kernel points; also\n",
      "  known as the à trous algorithm. It is harder to describe, but this `link`_\n",
      "  has a nice visualization of what :attr:`dilation` does.\n",
      "\n",
      "* :attr:`groups` controls the connections between inputs and outputs.\n",
      "  :attr:`in_channels` and :attr:`out_channels` must both be divisible by\n",
      "  :attr:`groups`. For example,\n",
      "\n",
      "    * At groups=1, all inputs are convolved to all outputs.\n",
      "    * At groups=2, the operation becomes equivalent to having two conv\n",
      "      layers side by side, each seeing half the input channels\n",
      "      and producing half the output channels, and both subsequently\n",
      "      concatenated.\n",
      "    * At groups= :attr:`in_channels`, each input channel is convolved with\n",
      "      its own set of filters (of size\n",
      "      :math:`\\frac{\\text{out\\_channels}}{\\text{in\\_channels}}`).\n",
      "\n",
      "The parameters :attr:`kernel_size`, :attr:`stride`, :attr:`padding`, :attr:`dilation` can either be:\n",
      "\n",
      "    - a single ``int`` -- in which case the same value is used for the height and width dimension\n",
      "    - a ``tuple`` of two ints -- in which case, the first `int` is used for the height dimension,\n",
      "      and the second `int` for the width dimension\n",
      "\n",
      "Note:\n",
      "    When `groups == in_channels` and `out_channels == K * in_channels`,\n",
      "    where `K` is a positive integer, this operation is also known as a \"depthwise convolution\".\n",
      "\n",
      "    In other words, for an input of size :math:`(N, C_{in}, L_{in})`,\n",
      "    a depthwise convolution with a depthwise multiplier `K` can be performed with the arguments\n",
      "    :math:`(C_\\text{in}=C_\\text{in}, C_\\text{out}=C_\\text{in} \\times \\text{K}, ..., \\text{groups}=C_\\text{in})`.\n",
      "\n",
      "Note:\n",
      "    In some circumstances when given tensors on a CUDA device and using CuDNN, this operator may select a nondeterministic algorithm to increase performance. If this is undesirable, you can try to make the operation deterministic (potentially at a performance cost) by setting ``torch.backends.cudnn.deterministic = True``. See :doc:`/notes/randomness` for more information.\n",
      "\n",
      "Note:\n",
      "    ``padding='valid'`` is the same as no padding. ``padding='same'`` pads\n",
      "    the input so the output has the shape as the input. However, this mode\n",
      "    doesn't support any stride values other than 1.\n",
      "\n",
      "Note:\n",
      "    This module supports complex data types i.e. ``complex32, complex64, complex128``.\n",
      "\n",
      "Args:\n",
      "    in_channels (int): Number of channels in the input image\n",
      "    out_channels (int): Number of channels produced by the convolution\n",
      "    kernel_size (int or tuple): Size of the convolving kernel\n",
      "    stride (int or tuple, optional): Stride of the convolution. Default: 1\n",
      "    padding (int, tuple or str, optional): Padding added to all four sides of\n",
      "        the input. Default: 0\n",
      "    padding_mode (str, optional): ``'zeros'``, ``'reflect'``,\n",
      "        ``'replicate'`` or ``'circular'``. Default: ``'zeros'``\n",
      "    dilation (int or tuple, optional): Spacing between kernel elements. Default: 1\n",
      "    groups (int, optional): Number of blocked connections from input\n",
      "        channels to output channels. Default: 1\n",
      "    bias (bool, optional): If ``True``, adds a learnable bias to the\n",
      "        output. Default: ``True``\n",
      "\n",
      "\n",
      "Shape:\n",
      "    - Input: :math:`(N, C_{in}, H_{in}, W_{in})` or :math:`(C_{in}, H_{in}, W_{in})`\n",
      "    - Output: :math:`(N, C_{out}, H_{out}, W_{out})` or :math:`(C_{out}, H_{out}, W_{out})`, where\n",
      "\n",
      "      .. math::\n",
      "          H_{out} = \\left\\lfloor\\frac{H_{in}  + 2 \\times \\text{padding}[0] - \\text{dilation}[0]\n",
      "                    \\times (\\text{kernel\\_size}[0] - 1) - 1}{\\text{stride}[0]} + 1\\right\\rfloor\n",
      "\n",
      "      .. math::\n",
      "          W_{out} = \\left\\lfloor\\frac{W_{in}  + 2 \\times \\text{padding}[1] - \\text{dilation}[1]\n",
      "                    \\times (\\text{kernel\\_size}[1] - 1) - 1}{\\text{stride}[1]} + 1\\right\\rfloor\n",
      "\n",
      "Attributes:\n",
      "    weight (Tensor): the learnable weights of the module of shape\n",
      "        :math:`(\\text{out\\_channels}, \\frac{\\text{in\\_channels}}{\\text{groups}},`\n",
      "        :math:`\\text{kernel\\_size[0]}, \\text{kernel\\_size[1]})`.\n",
      "        The values of these weights are sampled from\n",
      "        :math:`\\mathcal{U}(-\\sqrt{k}, \\sqrt{k})` where\n",
      "        :math:`k = \\frac{groups}{C_\\text{in} * \\prod_{i=0}^{1}\\text{kernel\\_size}[i]}`\n",
      "    bias (Tensor):   the learnable bias of the module of shape\n",
      "        (out_channels). If :attr:`bias` is ``True``,\n",
      "        then the values of these weights are\n",
      "        sampled from :math:`\\mathcal{U}(-\\sqrt{k}, \\sqrt{k})` where\n",
      "        :math:`k = \\frac{groups}{C_\\text{in} * \\prod_{i=0}^{1}\\text{kernel\\_size}[i]}`\n",
      "\n",
      "Examples:\n",
      "\n",
      "    >>> # With square kernels and equal stride\n",
      "    >>> m = nn.Conv2d(16, 33, 3, stride=2)\n",
      "    >>> # non-square kernels and unequal stride and with padding\n",
      "    >>> m = nn.Conv2d(16, 33, (3, 5), stride=(2, 1), padding=(4, 2))\n",
      "    >>> # non-square kernels and unequal stride and with padding and dilation\n",
      "    >>> m = nn.Conv2d(16, 33, (3, 5), stride=(2, 1), padding=(4, 2), dilation=(3, 1))\n",
      "    >>> input = torch.randn(20, 16, 50, 100)\n",
      "    >>> output = m(input)\n",
      "\n",
      ".. _cross-correlation:\n",
      "    https://en.wikipedia.org/wiki/Cross-correlation\n",
      "\n",
      ".. _link:\n",
      "    https://github.com/vdumoulin/conv_arithmetic/blob/master/README.md\n",
      "\u001b[1;31mInit docstring:\u001b[0m Initializes internal Module state, shared by both nn.Module and ScriptModule.\n",
      "\u001b[1;31mFile:\u001b[0m           c:\\users\\rachi\\anaconda3\\lib\\site-packages\\torch\\nn\\modules\\conv.py\n",
      "\u001b[1;31mType:\u001b[0m           type\n",
      "\u001b[1;31mSubclasses:\u001b[0m     LazyConv2d, Conv2d, ConvBn2d, Conv2d\n"
     ]
    }
   ],
   "source": [
    "nn.Conv2d?"
   ]
  },
  {
   "cell_type": "code",
   "execution_count": 12,
   "metadata": {},
   "outputs": [
    {
     "name": "stdout",
     "output_type": "stream",
     "text": [
      "\u001b[1;31mInit signature:\u001b[0m\n",
      "\u001b[0mnn\u001b[0m\u001b[1;33m.\u001b[0m\u001b[0mMaxPool2d\u001b[0m\u001b[1;33m(\u001b[0m\u001b[1;33m\n",
      "\u001b[0m    \u001b[0mkernel_size\u001b[0m\u001b[1;33m:\u001b[0m \u001b[0mUnion\u001b[0m\u001b[1;33m[\u001b[0m\u001b[0mint\u001b[0m\u001b[1;33m,\u001b[0m \u001b[0mTuple\u001b[0m\u001b[1;33m[\u001b[0m\u001b[0mint\u001b[0m\u001b[1;33m,\u001b[0m \u001b[1;33m...\u001b[0m\u001b[1;33m]\u001b[0m\u001b[1;33m]\u001b[0m\u001b[1;33m,\u001b[0m\u001b[1;33m\n",
      "\u001b[0m    \u001b[0mstride\u001b[0m\u001b[1;33m:\u001b[0m \u001b[0mUnion\u001b[0m\u001b[1;33m[\u001b[0m\u001b[0mint\u001b[0m\u001b[1;33m,\u001b[0m \u001b[0mTuple\u001b[0m\u001b[1;33m[\u001b[0m\u001b[0mint\u001b[0m\u001b[1;33m,\u001b[0m \u001b[1;33m...\u001b[0m\u001b[1;33m]\u001b[0m\u001b[1;33m,\u001b[0m \u001b[0mNoneType\u001b[0m\u001b[1;33m]\u001b[0m \u001b[1;33m=\u001b[0m \u001b[1;32mNone\u001b[0m\u001b[1;33m,\u001b[0m\u001b[1;33m\n",
      "\u001b[0m    \u001b[0mpadding\u001b[0m\u001b[1;33m:\u001b[0m \u001b[0mUnion\u001b[0m\u001b[1;33m[\u001b[0m\u001b[0mint\u001b[0m\u001b[1;33m,\u001b[0m \u001b[0mTuple\u001b[0m\u001b[1;33m[\u001b[0m\u001b[0mint\u001b[0m\u001b[1;33m,\u001b[0m \u001b[1;33m...\u001b[0m\u001b[1;33m]\u001b[0m\u001b[1;33m]\u001b[0m \u001b[1;33m=\u001b[0m \u001b[1;36m0\u001b[0m\u001b[1;33m,\u001b[0m\u001b[1;33m\n",
      "\u001b[0m    \u001b[0mdilation\u001b[0m\u001b[1;33m:\u001b[0m \u001b[0mUnion\u001b[0m\u001b[1;33m[\u001b[0m\u001b[0mint\u001b[0m\u001b[1;33m,\u001b[0m \u001b[0mTuple\u001b[0m\u001b[1;33m[\u001b[0m\u001b[0mint\u001b[0m\u001b[1;33m,\u001b[0m \u001b[1;33m...\u001b[0m\u001b[1;33m]\u001b[0m\u001b[1;33m]\u001b[0m \u001b[1;33m=\u001b[0m \u001b[1;36m1\u001b[0m\u001b[1;33m,\u001b[0m\u001b[1;33m\n",
      "\u001b[0m    \u001b[0mreturn_indices\u001b[0m\u001b[1;33m:\u001b[0m \u001b[0mbool\u001b[0m \u001b[1;33m=\u001b[0m \u001b[1;32mFalse\u001b[0m\u001b[1;33m,\u001b[0m\u001b[1;33m\n",
      "\u001b[0m    \u001b[0mceil_mode\u001b[0m\u001b[1;33m:\u001b[0m \u001b[0mbool\u001b[0m \u001b[1;33m=\u001b[0m \u001b[1;32mFalse\u001b[0m\u001b[1;33m,\u001b[0m\u001b[1;33m\n",
      "\u001b[0m\u001b[1;33m)\u001b[0m \u001b[1;33m->\u001b[0m \u001b[1;32mNone\u001b[0m\u001b[1;33m\u001b[0m\u001b[1;33m\u001b[0m\u001b[0m\n",
      "\u001b[1;31mDocstring:\u001b[0m     \n",
      "Applies a 2D max pooling over an input signal composed of several input\n",
      "planes.\n",
      "\n",
      "In the simplest case, the output value of the layer with input size :math:`(N, C, H, W)`,\n",
      "output :math:`(N, C, H_{out}, W_{out})` and :attr:`kernel_size` :math:`(kH, kW)`\n",
      "can be precisely described as:\n",
      "\n",
      ".. math::\n",
      "    \\begin{aligned}\n",
      "        out(N_i, C_j, h, w) ={} & \\max_{m=0, \\ldots, kH-1} \\max_{n=0, \\ldots, kW-1} \\\\\n",
      "                                & \\text{input}(N_i, C_j, \\text{stride[0]} \\times h + m,\n",
      "                                               \\text{stride[1]} \\times w + n)\n",
      "    \\end{aligned}\n",
      "\n",
      "If :attr:`padding` is non-zero, then the input is implicitly padded with negative infinity on both sides\n",
      "for :attr:`padding` number of points. :attr:`dilation` controls the spacing between the kernel points.\n",
      "It is harder to describe, but this `link`_ has a nice visualization of what :attr:`dilation` does.\n",
      "\n",
      "Note:\n",
      "    When ceil_mode=True, sliding windows are allowed to go off-bounds if they start within the left padding\n",
      "    or the input. Sliding windows that would start in the right padded region are ignored.\n",
      "\n",
      "The parameters :attr:`kernel_size`, :attr:`stride`, :attr:`padding`, :attr:`dilation` can either be:\n",
      "\n",
      "    - a single ``int`` -- in which case the same value is used for the height and width dimension\n",
      "    - a ``tuple`` of two ints -- in which case, the first `int` is used for the height dimension,\n",
      "      and the second `int` for the width dimension\n",
      "\n",
      "Args:\n",
      "    kernel_size: the size of the window to take a max over\n",
      "    stride: the stride of the window. Default value is :attr:`kernel_size`\n",
      "    padding: implicit zero padding to be added on both sides\n",
      "    dilation: a parameter that controls the stride of elements in the window\n",
      "    return_indices: if ``True``, will return the max indices along with the outputs.\n",
      "                    Useful for :class:`torch.nn.MaxUnpool2d` later\n",
      "    ceil_mode: when True, will use `ceil` instead of `floor` to compute the output shape\n",
      "\n",
      "Shape:\n",
      "    - Input: :math:`(N, C, H_{in}, W_{in})` or :math:`(C, H_{in}, W_{in})`\n",
      "    - Output: :math:`(N, C, H_{out}, W_{out})` or :math:`(C, H_{out}, W_{out})`, where\n",
      "\n",
      "      .. math::\n",
      "          H_{out} = \\left\\lfloor\\frac{H_{in} + 2 * \\text{padding[0]} - \\text{dilation[0]}\n",
      "                \\times (\\text{kernel\\_size[0]} - 1) - 1}{\\text{stride[0]}} + 1\\right\\rfloor\n",
      "\n",
      "      .. math::\n",
      "          W_{out} = \\left\\lfloor\\frac{W_{in} + 2 * \\text{padding[1]} - \\text{dilation[1]}\n",
      "                \\times (\\text{kernel\\_size[1]} - 1) - 1}{\\text{stride[1]}} + 1\\right\\rfloor\n",
      "\n",
      "Examples::\n",
      "\n",
      "    >>> # pool of square window of size=3, stride=2\n",
      "    >>> m = nn.MaxPool2d(3, stride=2)\n",
      "    >>> # pool of non-square window\n",
      "    >>> m = nn.MaxPool2d((3, 2), stride=(2, 1))\n",
      "    >>> input = torch.randn(20, 16, 50, 32)\n",
      "    >>> output = m(input)\n",
      "\n",
      ".. _link:\n",
      "    https://github.com/vdumoulin/conv_arithmetic/blob/master/README.md\n",
      "\u001b[1;31mInit docstring:\u001b[0m Initializes internal Module state, shared by both nn.Module and ScriptModule.\n",
      "\u001b[1;31mFile:\u001b[0m           c:\\users\\rachi\\anaconda3\\lib\\site-packages\\torch\\nn\\modules\\pooling.py\n",
      "\u001b[1;31mType:\u001b[0m           type\n",
      "\u001b[1;31mSubclasses:\u001b[0m     \n"
     ]
    }
   ],
   "source": [
    "nn.MaxPool2d?"
   ]
  },
  {
   "cell_type": "code",
   "execution_count": 13,
   "metadata": {},
   "outputs": [],
   "source": [
    "def get_model():\n",
    "    model = nn.Sequential(\n",
    "        nn.Conv2d(1, 1, kernel_size=3), # (4 x 4) conv (3 x3) ====> 2 x 2\n",
    "        nn.MaxPool2d(2), # (2 x 2) max pool === > 1 x 1\n",
    "        nn.ReLU(), \n",
    "        nn.Flatten(),\n",
    "        nn.Linear(1,1),\n",
    "        nn.Sigmoid() ### using BCE loss hence applying\n",
    "          \n",
    "    ).to(device)\n",
    "    \n",
    "    loss_fn = nn.BCELoss()\n",
    "    optimizer = torch.optim.Adam(model.parameters(), lr = 1e-2)\n",
    "    \n",
    "    return model, loss_fn, optimizer"
   ]
  },
  {
   "cell_type": "code",
   "execution_count": 14,
   "metadata": {},
   "outputs": [],
   "source": [
    "import torchsummary"
   ]
  },
  {
   "cell_type": "code",
   "execution_count": 15,
   "metadata": {},
   "outputs": [],
   "source": [
    "from torchsummary import summary"
   ]
  },
  {
   "cell_type": "code",
   "execution_count": 16,
   "metadata": {},
   "outputs": [
    {
     "name": "stdout",
     "output_type": "stream",
     "text": [
      "\u001b[1;31mSignature:\u001b[0m\n",
      "\u001b[0msummary\u001b[0m\u001b[1;33m(\u001b[0m\u001b[1;33m\n",
      "\u001b[0m    \u001b[0mmodel\u001b[0m\u001b[1;33m:\u001b[0m \u001b[0mtorch\u001b[0m\u001b[1;33m.\u001b[0m\u001b[0mnn\u001b[0m\u001b[1;33m.\u001b[0m\u001b[0mmodules\u001b[0m\u001b[1;33m.\u001b[0m\u001b[0mmodule\u001b[0m\u001b[1;33m.\u001b[0m\u001b[0mModule\u001b[0m\u001b[1;33m,\u001b[0m\u001b[1;33m\n",
      "\u001b[0m    \u001b[0minput_data\u001b[0m\u001b[1;33m:\u001b[0m \u001b[0mUnion\u001b[0m\u001b[1;33m[\u001b[0m\u001b[0mtorch\u001b[0m\u001b[1;33m.\u001b[0m\u001b[0mTensor\u001b[0m\u001b[1;33m,\u001b[0m \u001b[0mtorch\u001b[0m\u001b[1;33m.\u001b[0m\u001b[0mSize\u001b[0m\u001b[1;33m,\u001b[0m \u001b[0mSequence\u001b[0m\u001b[1;33m[\u001b[0m\u001b[0mtorch\u001b[0m\u001b[1;33m.\u001b[0m\u001b[0mTensor\u001b[0m\u001b[1;33m]\u001b[0m\u001b[1;33m,\u001b[0m \u001b[0mSequence\u001b[0m\u001b[1;33m[\u001b[0m\u001b[0mUnion\u001b[0m\u001b[1;33m[\u001b[0m\u001b[0mint\u001b[0m\u001b[1;33m,\u001b[0m \u001b[0mSequence\u001b[0m\u001b[1;33m[\u001b[0m\u001b[0mAny\u001b[0m\u001b[1;33m]\u001b[0m\u001b[1;33m,\u001b[0m \u001b[0mtorch\u001b[0m\u001b[1;33m.\u001b[0m\u001b[0mSize\u001b[0m\u001b[1;33m]\u001b[0m\u001b[1;33m]\u001b[0m\u001b[1;33m,\u001b[0m \u001b[0mNoneType\u001b[0m\u001b[1;33m]\u001b[0m \u001b[1;33m=\u001b[0m \u001b[1;32mNone\u001b[0m\u001b[1;33m,\u001b[0m\u001b[1;33m\n",
      "\u001b[0m    \u001b[1;33m*\u001b[0m\u001b[0margs\u001b[0m\u001b[1;33m:\u001b[0m \u001b[0mAny\u001b[0m\u001b[1;33m,\u001b[0m\u001b[1;33m\n",
      "\u001b[0m    \u001b[0mbatch_dim\u001b[0m\u001b[1;33m:\u001b[0m \u001b[0mUnion\u001b[0m\u001b[1;33m[\u001b[0m\u001b[0mint\u001b[0m\u001b[1;33m,\u001b[0m \u001b[0mNoneType\u001b[0m\u001b[1;33m]\u001b[0m \u001b[1;33m=\u001b[0m \u001b[1;36m0\u001b[0m\u001b[1;33m,\u001b[0m\u001b[1;33m\n",
      "\u001b[0m    \u001b[0mbranching\u001b[0m\u001b[1;33m:\u001b[0m \u001b[0mbool\u001b[0m \u001b[1;33m=\u001b[0m \u001b[1;32mTrue\u001b[0m\u001b[1;33m,\u001b[0m\u001b[1;33m\n",
      "\u001b[0m    \u001b[0mcol_names\u001b[0m\u001b[1;33m:\u001b[0m \u001b[0mUnion\u001b[0m\u001b[1;33m[\u001b[0m\u001b[0mIterable\u001b[0m\u001b[1;33m[\u001b[0m\u001b[0mstr\u001b[0m\u001b[1;33m]\u001b[0m\u001b[1;33m,\u001b[0m \u001b[0mNoneType\u001b[0m\u001b[1;33m]\u001b[0m \u001b[1;33m=\u001b[0m \u001b[1;32mNone\u001b[0m\u001b[1;33m,\u001b[0m\u001b[1;33m\n",
      "\u001b[0m    \u001b[0mcol_width\u001b[0m\u001b[1;33m:\u001b[0m \u001b[0mint\u001b[0m \u001b[1;33m=\u001b[0m \u001b[1;36m25\u001b[0m\u001b[1;33m,\u001b[0m\u001b[1;33m\n",
      "\u001b[0m    \u001b[0mdepth\u001b[0m\u001b[1;33m:\u001b[0m \u001b[0mint\u001b[0m \u001b[1;33m=\u001b[0m \u001b[1;36m3\u001b[0m\u001b[1;33m,\u001b[0m\u001b[1;33m\n",
      "\u001b[0m    \u001b[0mdevice\u001b[0m\u001b[1;33m:\u001b[0m \u001b[0mUnion\u001b[0m\u001b[1;33m[\u001b[0m\u001b[0mtorch\u001b[0m\u001b[1;33m.\u001b[0m\u001b[0mdevice\u001b[0m\u001b[1;33m,\u001b[0m \u001b[0mNoneType\u001b[0m\u001b[1;33m]\u001b[0m \u001b[1;33m=\u001b[0m \u001b[1;32mNone\u001b[0m\u001b[1;33m,\u001b[0m\u001b[1;33m\n",
      "\u001b[0m    \u001b[0mdtypes\u001b[0m\u001b[1;33m:\u001b[0m \u001b[0mUnion\u001b[0m\u001b[1;33m[\u001b[0m\u001b[0mList\u001b[0m\u001b[1;33m[\u001b[0m\u001b[0mtorch\u001b[0m\u001b[1;33m.\u001b[0m\u001b[0mdtype\u001b[0m\u001b[1;33m]\u001b[0m\u001b[1;33m,\u001b[0m \u001b[0mNoneType\u001b[0m\u001b[1;33m]\u001b[0m \u001b[1;33m=\u001b[0m \u001b[1;32mNone\u001b[0m\u001b[1;33m,\u001b[0m\u001b[1;33m\n",
      "\u001b[0m    \u001b[0mverbose\u001b[0m\u001b[1;33m:\u001b[0m \u001b[0mint\u001b[0m \u001b[1;33m=\u001b[0m \u001b[1;36m1\u001b[0m\u001b[1;33m,\u001b[0m\u001b[1;33m\n",
      "\u001b[0m    \u001b[1;33m**\u001b[0m\u001b[0mkwargs\u001b[0m\u001b[1;33m:\u001b[0m \u001b[0mAny\u001b[0m\u001b[1;33m,\u001b[0m\u001b[1;33m\n",
      "\u001b[0m\u001b[1;33m)\u001b[0m \u001b[1;33m->\u001b[0m \u001b[0mtorchsummary\u001b[0m\u001b[1;33m.\u001b[0m\u001b[0mmodel_statistics\u001b[0m\u001b[1;33m.\u001b[0m\u001b[0mModelStatistics\u001b[0m\u001b[1;33m\u001b[0m\u001b[1;33m\u001b[0m\u001b[0m\n",
      "\u001b[1;31mDocstring:\u001b[0m\n",
      "Summarize the given PyTorch model. Summarized information includes:\n",
      "    1) Layer names,\n",
      "    2) input/output shapes,\n",
      "    3) kernel shape,\n",
      "    4) # of parameters,\n",
      "    5) # of operations (Mult-Adds)\n",
      "\n",
      "Args:\n",
      "    model (nn.Module):\n",
      "            PyTorch model to summarize. The model should be fully in either train()\n",
      "            or eval() mode. If layers are not all in the same mode, running summary\n",
      "            may have side effects on batchnorm or dropout statistics. If you\n",
      "            encounter an issue with this, please open a GitHub issue.\n",
      "\n",
      "    input_data (Sequence of Sizes or Tensors):\n",
      "            Example input tensor of the model (dtypes inferred from model input).\n",
      "            - OR -\n",
      "            Shape of input data as a List/Tuple/torch.Size\n",
      "            (dtypes must match model input, default is FloatTensors).\n",
      "            You should NOT include batch size in the tuple.\n",
      "            - OR -\n",
      "            If input_data is not provided, no forward pass through the network is\n",
      "            performed, and the provided model information is limited to layer names.\n",
      "            Default: None\n",
      "\n",
      "    batch_dim (int):\n",
      "            Batch_dimension of input data. If batch_dim is None, the input data\n",
      "            is assumed to contain the batch dimension.\n",
      "            WARNING: in a future version, the default will change to None.\n",
      "            Default: 0\n",
      "\n",
      "    branching (bool):\n",
      "            Whether to use the branching layout for the printed output.\n",
      "            Default: True\n",
      "\n",
      "    col_names (Iterable[str]):\n",
      "            Specify which columns to show in the output. Currently supported:\n",
      "            (\"input_size\", \"output_size\", \"num_params\", \"kernel_size\", \"mult_adds\")\n",
      "            If input_data is not provided, only \"num_params\" is used.\n",
      "            Default: (\"output_size\", \"num_params\")\n",
      "\n",
      "    col_width (int):\n",
      "            Width of each column.\n",
      "            Default: 25\n",
      "\n",
      "    depth (int):\n",
      "            Number of nested layers to traverse (e.g. Sequentials).\n",
      "            Default: 3\n",
      "\n",
      "    device (torch.Device):\n",
      "            Uses this torch device for model and input_data.\n",
      "            If not specified, uses result of torch.cuda.is_available().\n",
      "            Default: None\n",
      "\n",
      "    dtypes (List[torch.dtype]):\n",
      "            For multiple inputs, specify the size of both inputs, and\n",
      "            also specify the types of each parameter here.\n",
      "            Default: None\n",
      "\n",
      "    verbose (int):\n",
      "            0 (quiet): No output\n",
      "            1 (default): Print model summary\n",
      "            2 (verbose): Show weight and bias layers in full detail\n",
      "            Default: 1\n",
      "\n",
      "    *args, **kwargs:\n",
      "            Other arguments used in `model.forward` function.\n",
      "\n",
      "Return:\n",
      "    ModelStatistics object\n",
      "            See torchsummary/model_statistics.py for more information.\n",
      "\u001b[1;31mFile:\u001b[0m      c:\\users\\rachi\\anaconda3\\lib\\site-packages\\torchsummary\\torchsummary.py\n",
      "\u001b[1;31mType:\u001b[0m      function\n"
     ]
    }
   ],
   "source": [
    "summary?"
   ]
  },
  {
   "cell_type": "code",
   "execution_count": 17,
   "metadata": {},
   "outputs": [],
   "source": [
    "model, loss_fn, optimizer = get_model()"
   ]
  },
  {
   "cell_type": "code",
   "execution_count": 18,
   "metadata": {},
   "outputs": [
    {
     "name": "stdout",
     "output_type": "stream",
     "text": [
      "==========================================================================================\n",
      "Layer (type:depth-idx)                   Output Shape              Param #\n",
      "==========================================================================================\n",
      "├─Conv2d: 1-1                            [-1, 1, 2, 2]             10\n",
      "├─MaxPool2d: 1-2                         [-1, 1, 1, 1]             --\n",
      "├─ReLU: 1-3                              [-1, 1, 1, 1]             --\n",
      "├─Flatten: 1-4                           [-1, 1]                   --\n",
      "├─Linear: 1-5                            [-1, 1]                   2\n",
      "├─Sigmoid: 1-6                           [-1, 1]                   --\n",
      "==========================================================================================\n",
      "Total params: 12\n",
      "Trainable params: 12\n",
      "Non-trainable params: 0\n",
      "Total mult-adds (M): 0.00\n",
      "==========================================================================================\n",
      "Input size (MB): 0.00\n",
      "Forward/backward pass size (MB): 0.00\n",
      "Params size (MB): 0.00\n",
      "Estimated Total Size (MB): 0.00\n",
      "==========================================================================================\n"
     ]
    },
    {
     "data": {
      "text/plain": [
       "==========================================================================================\n",
       "Layer (type:depth-idx)                   Output Shape              Param #\n",
       "==========================================================================================\n",
       "├─Conv2d: 1-1                            [-1, 1, 2, 2]             10\n",
       "├─MaxPool2d: 1-2                         [-1, 1, 1, 1]             --\n",
       "├─ReLU: 1-3                              [-1, 1, 1, 1]             --\n",
       "├─Flatten: 1-4                           [-1, 1]                   --\n",
       "├─Linear: 1-5                            [-1, 1]                   2\n",
       "├─Sigmoid: 1-6                           [-1, 1]                   --\n",
       "==========================================================================================\n",
       "Total params: 12\n",
       "Trainable params: 12\n",
       "Non-trainable params: 0\n",
       "Total mult-adds (M): 0.00\n",
       "==========================================================================================\n",
       "Input size (MB): 0.00\n",
       "Forward/backward pass size (MB): 0.00\n",
       "Params size (MB): 0.00\n",
       "Estimated Total Size (MB): 0.00\n",
       "=========================================================================================="
      ]
     },
     "execution_count": 18,
     "metadata": {},
     "output_type": "execute_result"
    }
   ],
   "source": [
    "summary(model, X_train)"
   ]
  },
  {
   "cell_type": "code",
   "execution_count": 19,
   "metadata": {},
   "outputs": [],
   "source": [
    "def train_batch(x, y, model , loss_fn,optimizer):\n",
    "    model.train()\n",
    "    loss = loss_fn(model(x),y) ## _y, y passed\n",
    "    loss.backward()\n",
    "    optimizer.step()\n",
    "    optimizer.zero_grad()\n",
    "    return loss.item()\n",
    "    \n",
    "    "
   ]
  },
  {
   "cell_type": "code",
   "execution_count": 20,
   "metadata": {},
   "outputs": [
    {
     "name": "stdout",
     "output_type": "stream",
     "text": [
      "\u001b[1;31mInit signature:\u001b[0m \u001b[0mTensorDataset\u001b[0m\u001b[1;33m(\u001b[0m\u001b[1;33m*\u001b[0m\u001b[0margs\u001b[0m\u001b[1;33m,\u001b[0m \u001b[1;33m**\u001b[0m\u001b[0mkwds\u001b[0m\u001b[1;33m)\u001b[0m\u001b[1;33m\u001b[0m\u001b[1;33m\u001b[0m\u001b[0m\n",
      "\u001b[1;31mDocstring:\u001b[0m     \n",
      "Dataset wrapping tensors.\n",
      "\n",
      "Each sample will be retrieved by indexing tensors along the first dimension.\n",
      "\n",
      "Args:\n",
      "    *tensors (Tensor): tensors that have the same size of the first dimension.\n",
      "\u001b[1;31mFile:\u001b[0m           c:\\users\\rachi\\anaconda3\\lib\\site-packages\\torch\\utils\\data\\dataset.py\n",
      "\u001b[1;31mType:\u001b[0m           type\n",
      "\u001b[1;31mSubclasses:\u001b[0m     \n"
     ]
    }
   ],
   "source": [
    "TensorDataset?"
   ]
  },
  {
   "cell_type": "code",
   "execution_count": 21,
   "metadata": {},
   "outputs": [],
   "source": [
    "trn_dl = DataLoader(TensorDataset(X_train, y_train))"
   ]
  },
  {
   "cell_type": "code",
   "execution_count": 22,
   "metadata": {},
   "outputs": [],
   "source": [
    "losses = []\n",
    "for epoch in range(2000):\n",
    "    epoch_loss = []\n",
    "    for ix, batch in enumerate(iter(trn_dl)):\n",
    "        \n",
    "        \n",
    "        x, y = batch\n",
    "        \n",
    "        y = y.view(-1,1)\n",
    "        # print(y.shape)\n",
    "        batch_loss = train_batch(x,y, model, loss_fn, optimizer)\n",
    "        epoch_loss.append(batch_loss)\n",
    "\n",
    "    \n",
    "    \n",
    "    losses.append(np.array(epoch_loss).mean())"
   ]
  },
  {
   "cell_type": "code",
   "execution_count": 23,
   "metadata": {},
   "outputs": [
    {
     "data": {
      "image/png": "[encoded data removed]",
      "text/plain": [
       "<Figure size 1440x360 with 1 Axes>"
      ]
     },
     "metadata": {
      "needs_background": "light"
     },
     "output_type": "display_data"
    }
   ],
   "source": [
    "epochs = np.arange(2000)+1\n",
    "plt.figure(figsize=(20,5))\n",
    "\n",
    "plt.title('Loss value over increasing epochs')\n",
    "plt.plot(epochs, losses, label='Training Loss')\n",
    "plt.legend()\n",
    "\n",
    "plt.show()"
   ]
  },
  {
   "cell_type": "code",
   "execution_count": 24,
   "metadata": {},
   "outputs": [
    {
     "data": {
      "text/plain": [
       "tensor([[0.9956]], device='cuda:0', grad_fn=<SigmoidBackward0>)"
      ]
     },
     "execution_count": 24,
     "metadata": {},
     "output_type": "execute_result"
    }
   ],
   "source": [
    "model(X_train[1])"
   ]
  },
  {
   "cell_type": "code",
   "execution_count": 25,
   "metadata": {},
   "outputs": [
    {
     "data": {
      "text/plain": [
       "tensor([0., 1.], device='cuda:0')"
      ]
     },
     "execution_count": 25,
     "metadata": {},
     "output_type": "execute_result"
    }
   ],
   "source": [
    "y_train"
   ]
  },
  {
   "attachments": {},
   "cell_type": "markdown",
   "metadata": {},
   "source": [
    "##### Checking How CNNs wok: Not needed for model training"
   ]
  },
  {
   "attachments": {},
   "cell_type": "markdown",
   "metadata": {},
   "source": [
    "###### Extracting weights from CNN"
   ]
  },
  {
   "cell_type": "code",
   "execution_count": 26,
   "metadata": {},
   "outputs": [
    {
     "data": {
      "text/plain": [
       "tensor([[[[0.9898, 0.1854, 1.3433],\n",
       "          [1.1790, 0.4026, 0.0608],\n",
       "          [1.2609, 1.3599, 0.8753]]]], device='cuda:0')"
      ]
     },
     "execution_count": 26,
     "metadata": {},
     "output_type": "execute_result"
    }
   ],
   "source": [
    "list(model.children())[0].weight.data"
   ]
  },
  {
   "cell_type": "code",
   "execution_count": 27,
   "metadata": {},
   "outputs": [
    {
     "data": {
      "text/plain": [
       "True"
      ]
     },
     "execution_count": 27,
     "metadata": {},
     "output_type": "execute_result"
    }
   ],
   "source": [
    "hasattr(list(model.children())[0],'weight')"
   ]
  },
  {
   "cell_type": "code",
   "execution_count": 28,
   "metadata": {},
   "outputs": [],
   "source": [
    "(cnn_w, cnn_b) ,(lin_w, lin_b) = [(layer.weight.data, layer.bias.data) for layer in list(model.children()) if hasattr(layer,'weight')]"
   ]
  },
  {
   "cell_type": "code",
   "execution_count": 29,
   "metadata": {},
   "outputs": [
    {
     "data": {
      "text/plain": [
       "tensor([[[[0.9898, 0.1854, 1.3433],\n",
       "          [1.1790, 0.4026, 0.0608],\n",
       "          [1.2609, 1.3599, 0.8753]]]], device='cuda:0')"
      ]
     },
     "execution_count": 29,
     "metadata": {},
     "output_type": "execute_result"
    }
   ],
   "source": [
    "cnn_w"
   ]
  },
  {
   "cell_type": "code",
   "execution_count": 30,
   "metadata": {},
   "outputs": [
    {
     "data": {
      "text/plain": [
       "tensor([-0.0741], device='cuda:0')"
      ]
     },
     "execution_count": 30,
     "metadata": {},
     "output_type": "execute_result"
    }
   ],
   "source": [
    "cnn_b"
   ]
  },
  {
   "cell_type": "code",
   "execution_count": 31,
   "metadata": {},
   "outputs": [
    {
     "data": {
      "text/plain": [
       "torch.Size([1, 1, 3, 3])"
      ]
     },
     "execution_count": 31,
     "metadata": {},
     "output_type": "execute_result"
    }
   ],
   "source": [
    "cnn_w.shape  # batch_size, channels, height, width"
   ]
  },
  {
   "cell_type": "code",
   "execution_count": 32,
   "metadata": {},
   "outputs": [],
   "source": [
    "h_im, w_im = X_train.shape[2:]\n",
    "h_conv, w_conv = cnn_w.shape[2:]\n",
    "\n",
    "sumprod = torch.zeros((h_im-h_conv + 1), (w_im - w_conv +1 ))   ## Creating blank feature map"
   ]
  },
  {
   "cell_type": "code",
   "execution_count": 33,
   "metadata": {},
   "outputs": [
    {
     "data": {
      "text/plain": [
       "tensor([[0., 0.],\n",
       "        [0., 0.]])"
      ]
     },
     "execution_count": 33,
     "metadata": {},
     "output_type": "execute_result"
    }
   ],
   "source": [
    "sumprod"
   ]
  },
  {
   "cell_type": "code",
   "execution_count": 34,
   "metadata": {},
   "outputs": [
    {
     "data": {
      "text/plain": [
       "torch.Size([2, 2])"
      ]
     },
     "execution_count": 34,
     "metadata": {},
     "output_type": "execute_result"
    }
   ],
   "source": [
    "sumprod.shape"
   ]
  },
  {
   "cell_type": "code",
   "execution_count": 35,
   "metadata": {},
   "outputs": [],
   "source": [
    "for i in range(sumprod.shape[1]):  ## row\n",
    "    for j in range(sumprod.shape[0]):  ## column\n",
    "        img_subset = X_train[0, 0, i:(i+3), j:(j+3)]\n",
    "        \n",
    "        ##print(img_subset.shape) ## 3 x 3\n",
    "        model_filter = cnn_w.reshape((3,3))\n",
    "        \n",
    "        ## convolving\n",
    "        val = torch.sum(img_subset*model_filter) + cnn_b\n",
    "        sumprod[i,j] = val\n",
    "        "
   ]
  },
  {
   "cell_type": "code",
   "execution_count": 36,
   "metadata": {},
   "outputs": [
    {
     "data": {
      "text/plain": [
       "(2, 2)"
      ]
     },
     "execution_count": 36,
     "metadata": {},
     "output_type": "execute_result"
    }
   ],
   "source": [
    "np.array(sumprod).shape"
   ]
  },
  {
   "cell_type": "code",
   "execution_count": 37,
   "metadata": {},
   "outputs": [
    {
     "data": {
      "text/plain": [
       "<matplotlib.image.AxesImage at 0x26405e21670>"
      ]
     },
     "execution_count": 37,
     "metadata": {},
     "output_type": "execute_result"
    },
    {
     "data": {
      "image/png": "[encoded data removed]",
      "text/plain": [
       "<Figure size 432x288 with 1 Axes>"
      ]
     },
     "metadata": {
      "needs_background": "light"
     },
     "output_type": "display_data"
    }
   ],
   "source": [
    "plt.imshow(np.array(sumprod), cmap = \"gray\")"
   ]
  },
  {
   "cell_type": "code",
   "execution_count": 38,
   "metadata": {},
   "outputs": [
    {
     "data": {
      "text/plain": [
       "tensor([[3.6498, 4.6069],\n",
       "        [3.1118, 4.2266]])"
      ]
     },
     "execution_count": 38,
     "metadata": {},
     "output_type": "execute_result"
    }
   ],
   "source": [
    "sumprod.clamp_min_(0) ## Performs RELU"
   ]
  },
  {
   "attachments": {},
   "cell_type": "markdown",
   "metadata": {},
   "source": [
    "## Classifying images using deep CNNs"
   ]
  },
  {
   "cell_type": "code",
   "execution_count": 39,
   "metadata": {},
   "outputs": [],
   "source": [
    "fmnsit_path = \"2\\data\\MNIST\""
   ]
  },
  {
   "cell_type": "code",
   "execution_count": 40,
   "metadata": {},
   "outputs": [],
   "source": [
    "tr_fmnist = datasets.FashionMNIST(fmnsit_path, train=True)"
   ]
  },
  {
   "cell_type": "code",
   "execution_count": 41,
   "metadata": {},
   "outputs": [],
   "source": [
    "tr_images = tr_fmnist.data\n",
    "tr_targets = tr_fmnist.targets"
   ]
  },
  {
   "cell_type": "code",
   "execution_count": 42,
   "metadata": {},
   "outputs": [
    {
     "data": {
      "text/plain": [
       "torch.Size([60000, 28, 28])"
      ]
     },
     "execution_count": 42,
     "metadata": {},
     "output_type": "execute_result"
    }
   ],
   "source": [
    "tr_images.shape"
   ]
  },
  {
   "cell_type": "code",
   "execution_count": 43,
   "metadata": {},
   "outputs": [],
   "source": [
    "val_fmnist = datasets.FashionMNIST(fmnsit_path, train=False)"
   ]
  },
  {
   "cell_type": "code",
   "execution_count": 44,
   "metadata": {},
   "outputs": [],
   "source": [
    "val_images = val_fmnist.data\n",
    "val_targets = val_fmnist.targets"
   ]
  },
  {
   "cell_type": "code",
   "execution_count": 45,
   "metadata": {},
   "outputs": [
    {
     "data": {
      "text/plain": [
       "torch.Size([10000, 28, 28])"
      ]
     },
     "execution_count": 45,
     "metadata": {},
     "output_type": "execute_result"
    }
   ],
   "source": [
    "val_images.shape"
   ]
  },
  {
   "cell_type": "code",
   "execution_count": 46,
   "metadata": {},
   "outputs": [],
   "source": [
    "class FMNISTdataset(Dataset):\n",
    "    def __init__(self, x, y):\n",
    "        x = x.float()/255\n",
    "        x = x.view(-1,1,28,28) ## batch size, channels, height, width\n",
    "        self.x , self.y = x, y\n",
    "    \n",
    "    def __getitem__(self, index):\n",
    "        x, y = self.x[index], self.y[index]\n",
    "        return x.to(device), y.to(device)\n",
    "    \n",
    "    def __len__(self):\n",
    "        return len(self.x)\n",
    "    "
   ]
  },
  {
   "cell_type": "code",
   "execution_count": 47,
   "metadata": {},
   "outputs": [],
   "source": [
    "def get_model():\n",
    "   model = nn.Sequential(\n",
    "       nn.Conv2d(1, 64, kernel_size=3),\n",
    "       nn.MaxPool2d(2),\n",
    "       nn.ReLU(), # 64 * 13 * 13 \n",
    "       nn.Conv2d(64, 128, kernel_size=3),\n",
    "       nn.MaxPool2d(2),\n",
    "       nn.ReLU(),  # 128 * 5 * 5\n",
    "       nn.Flatten(),\n",
    "       nn.Linear(3200, 256),\n",
    "       nn.ReLU(),\n",
    "       nn.Linear(256, 10)\n",
    "    ).to(device)\n",
    "    \n",
    "   optimizer = torch.optim.Adam(model.parameters(), lr = 1e-3)\n",
    "   loss_fn = nn.CrossEntropyLoss() \n",
    "   \n",
    "   return model, loss_fn, optimizer    \n",
    "    "
   ]
  },
  {
   "cell_type": "code",
   "execution_count": 48,
   "metadata": {},
   "outputs": [],
   "source": [
    "def train_batch(x,y, model,  optimizer, loss_fn):\n",
    "    \n",
    "    model.train()\n",
    "    _y = model(x)\n",
    "    batch_loss = loss_fn(_y,y)\n",
    "    \n",
    "    batch_loss.backward()\n",
    "    optimizer.step()\n",
    "    optimizer.zero_grad()\n",
    "    \n",
    "    return batch_loss.item()\n",
    "    \n",
    "    "
   ]
  },
  {
   "cell_type": "code",
   "execution_count": 49,
   "metadata": {},
   "outputs": [],
   "source": [
    "@torch.no_grad()\n",
    "def accuracy(x,y, model):\n",
    "    model.eval()\n",
    "    prediction = model(x)\n",
    "    \n",
    "    max_values, argmaxes = prediction.max(-1)\n",
    "    is_correct = argmaxes == y \n",
    "    return is_correct.cpu().numpy().tolist()"
   ]
  },
  {
   "cell_type": "code",
   "execution_count": 50,
   "metadata": {},
   "outputs": [],
   "source": [
    "def get_data():\n",
    "    trn_dataset = FMNISTdataset(tr_images, tr_targets)\n",
    "    trn_dl = DataLoader(trn_dataset, batch_size=32, shuffle=True)\n",
    "    \n",
    "    val_dataset = FMNISTdataset(val_images, val_targets)\n",
    "    val_dl = DataLoader(val_dataset, batch_size=len(val_images), shuffle=False)\n",
    "    \n",
    "    return trn_dl, val_dl\n",
    "    "
   ]
  },
  {
   "cell_type": "code",
   "execution_count": 51,
   "metadata": {},
   "outputs": [],
   "source": [
    "@torch.no_grad()\n",
    "def val_loss(x, y, model, loss_fn):\n",
    "    model.eval()\n",
    "    prediction = model(x)\n",
    "    val_loss = loss_fn(prediction,y)\n",
    "    return val_loss.item()"
   ]
  },
  {
   "cell_type": "code",
   "execution_count": 52,
   "metadata": {},
   "outputs": [],
   "source": [
    "trn_dl, val_dl = get_data()"
   ]
  },
  {
   "cell_type": "code",
   "execution_count": 53,
   "metadata": {},
   "outputs": [],
   "source": [
    "model, loss_fn, optimizer = get_model()"
   ]
  },
  {
   "cell_type": "code",
   "execution_count": 54,
   "metadata": {},
   "outputs": [
    {
     "name": "stdout",
     "output_type": "stream",
     "text": [
      "==========================================================================================\n",
      "Layer (type:depth-idx)                   Output Shape              Param #\n",
      "==========================================================================================\n",
      "├─Conv2d: 1-1                            [-1, 64, 26, 26]          640\n",
      "├─MaxPool2d: 1-2                         [-1, 64, 13, 13]          --\n",
      "├─ReLU: 1-3                              [-1, 64, 13, 13]          --\n",
      "├─Conv2d: 1-4                            [-1, 128, 11, 11]         73,856\n",
      "├─MaxPool2d: 1-5                         [-1, 128, 5, 5]           --\n",
      "├─ReLU: 1-6                              [-1, 128, 5, 5]           --\n",
      "├─Flatten: 1-7                           [-1, 3200]                --\n",
      "├─Linear: 1-8                            [-1, 256]                 819,456\n",
      "├─ReLU: 1-9                              [-1, 256]                 --\n",
      "├─Linear: 1-10                           [-1, 10]                  2,570\n",
      "==========================================================================================\n",
      "Total params: 896,522\n",
      "Trainable params: 896,522\n",
      "Non-trainable params: 0\n",
      "Total mult-adds (M): 10.13\n",
      "==========================================================================================\n",
      "Input size (MB): 0.00\n",
      "Forward/backward pass size (MB): 0.45\n",
      "Params size (MB): 3.42\n",
      "Estimated Total Size (MB): 3.87\n",
      "==========================================================================================\n"
     ]
    },
    {
     "data": {
      "text/plain": [
       "==========================================================================================\n",
       "Layer (type:depth-idx)                   Output Shape              Param #\n",
       "==========================================================================================\n",
       "├─Conv2d: 1-1                            [-1, 64, 26, 26]          640\n",
       "├─MaxPool2d: 1-2                         [-1, 64, 13, 13]          --\n",
       "├─ReLU: 1-3                              [-1, 64, 13, 13]          --\n",
       "├─Conv2d: 1-4                            [-1, 128, 11, 11]         73,856\n",
       "├─MaxPool2d: 1-5                         [-1, 128, 5, 5]           --\n",
       "├─ReLU: 1-6                              [-1, 128, 5, 5]           --\n",
       "├─Flatten: 1-7                           [-1, 3200]                --\n",
       "├─Linear: 1-8                            [-1, 256]                 819,456\n",
       "├─ReLU: 1-9                              [-1, 256]                 --\n",
       "├─Linear: 1-10                           [-1, 10]                  2,570\n",
       "==========================================================================================\n",
       "Total params: 896,522\n",
       "Trainable params: 896,522\n",
       "Non-trainable params: 0\n",
       "Total mult-adds (M): 10.13\n",
       "==========================================================================================\n",
       "Input size (MB): 0.00\n",
       "Forward/backward pass size (MB): 0.45\n",
       "Params size (MB): 3.42\n",
       "Estimated Total Size (MB): 3.87\n",
       "=========================================================================================="
      ]
     },
     "execution_count": 54,
     "metadata": {},
     "output_type": "execute_result"
    }
   ],
   "source": [
    "summary(model, torch.zeros((1,1,28,28)))"
   ]
  },
  {
   "cell_type": "code",
   "execution_count": 55,
   "metadata": {},
   "outputs": [
    {
     "name": "stdout",
     "output_type": "stream",
     "text": [
      "epoch: 0\n",
      "Current training loss: 0.4384174445549647\n",
      "Current training accuracy: 0.8832166666666666\n",
      "Current validation loss: 0.349861741065979\n",
      "Current validation accuracy: 0.8765\n",
      "epoch: 1\n",
      "Current training loss: 0.2864662184158961\n",
      "Current training accuracy: 0.9099\n",
      "Current validation loss: 0.27949070930480957\n",
      "Current validation accuracy: 0.8967\n",
      "epoch: 2\n",
      "Current training loss: 0.2392560359785954\n",
      "Current training accuracy: 0.9156666666666666\n",
      "Current validation loss: 0.2821161448955536\n",
      "Current validation accuracy: 0.8983\n",
      "epoch: 3\n",
      "Current training loss: 0.20584290372828642\n",
      "Current training accuracy: 0.9319333333333333\n",
      "Current validation loss: 0.252566933631897\n",
      "Current validation accuracy: 0.9055\n",
      "epoch: 4\n",
      "Current training loss: 0.1785442251801491\n",
      "Current training accuracy: 0.94885\n",
      "Current validation loss: 0.23756715655326843\n",
      "Current validation accuracy: 0.9169\n"
     ]
    }
   ],
   "source": [
    "train_losses, train_accuracies = [], []\n",
    "val_losses, val_accuracies = [], []\n",
    "\n",
    "for epoch in range(5):\n",
    "    print(f\"epoch: {epoch}\")\n",
    "    \n",
    "    train_epoch_losses, train_epoch_accuracies = [],[]\n",
    "    for ix, batch in enumerate(iter(trn_dl)):\n",
    "        x, y = batch\n",
    "        batch_loss = train_batch(x,y,model,optimizer, loss_fn)\n",
    "        train_epoch_losses.append(batch_loss)\n",
    "    train_epoch_loss = np.array(train_epoch_losses).mean()\n",
    "    \n",
    "    for ix, batch in enumerate(iter(trn_dl)):\n",
    "        x, y = batch\n",
    "        is_correct = accuracy(x,y,model)\n",
    "        train_epoch_accuracies.extend(is_correct)\n",
    "    train_epoch_accuracy = np.array(train_epoch_accuracies).mean()\n",
    "\n",
    "    for ix, batch in enumerate(iter(val_dl)):\n",
    "        x, y = batch\n",
    "        val_is_correct = accuracy(x, y, model)\n",
    "        validation_loss = val_loss(x, y, model, loss_fn)\n",
    "    val_epoch_accuracy = np.mean(val_is_correct)\n",
    "\n",
    "    train_losses.append(train_epoch_loss)\n",
    "    train_accuracies.append(train_epoch_accuracy)\n",
    "    val_losses.append(validation_loss)\n",
    "    val_accuracies.append(val_epoch_accuracy)\n",
    "\n",
    "    print(f\"Current training loss: {train_epoch_loss}\")\n",
    "    print(f\"Current training accuracy: {train_epoch_accuracy}\")\n",
    "    print(f\"Current validation loss: {validation_loss}\")\n",
    "    print(f\"Current validation accuracy: {val_epoch_accuracy}\")\n",
    "    \n"
   ]
  },
  {
   "cell_type": "code",
   "execution_count": 56,
   "metadata": {},
   "outputs": [
    {
     "data": {
      "image/png": "[encoded data removed]",
      "text/plain": [
       "<Figure size 432x288 with 1 Axes>"
      ]
     },
     "metadata": {
      "needs_background": "light"
     },
     "output_type": "display_data"
    },
    {
     "data": {
      "image/png": "[encoded data removed]",
      "text/plain": [
       "<Figure size 432x288 with 1 Axes>"
      ]
     },
     "metadata": {
      "needs_background": "light"
     },
     "output_type": "display_data"
    }
   ],
   "source": [
    "epochs = np.arange(5)+1\n",
    "plt.subplot(211)\n",
    "plt.plot(epochs, train_losses, 'bo', label='Training loss')\n",
    "plt.plot(epochs, val_losses, 'r', label='Validation loss')\n",
    "plt.title('Training and validation loss with SGD optimizer')\n",
    "plt.xlabel('Epochs')\n",
    "plt.ylabel('Loss')\n",
    "plt.legend()\n",
    "plt.grid('off')\n",
    "plt.show()\n",
    "\n",
    "\n",
    "plt.plot(epochs, train_accuracies, 'bo', label='Training accuracy')\n",
    "plt.plot(epochs, val_accuracies, 'r', label='Validation accuracy')\n",
    "plt.title('Training and validation accuracy with SGD optimizer')\n",
    "plt.xlabel('Epochs')\n",
    "plt.ylabel('Accuracy')\n",
    "\n",
    "plt.legend()\n",
    "plt.grid('off')\n",
    "plt.show()\n",
    "\n"
   ]
  },
  {
   "attachments": {},
   "cell_type": "markdown",
   "metadata": {},
   "source": [
    "### Predictions after performing translations"
   ]
  },
  {
   "cell_type": "code",
   "execution_count": null,
   "metadata": {},
   "outputs": [],
   "source": []
  },
  {
   "cell_type": "code",
   "execution_count": 57,
   "metadata": {},
   "outputs": [
    {
     "data": {
      "image/png": "[encoded data removed]",
      "text/plain": [
       "<Figure size 2160x2160 with 11 Axes>"
      ]
     },
     "metadata": {
      "needs_background": "light"
     },
     "output_type": "display_data"
    }
   ],
   "source": [
    "preds = []\n",
    "ix = 4300\n",
    "\n",
    "plt.figure(figsize=(30,30))\n",
    "for px in range(-5,6):\n",
    "    img = val_images[ix]/255\n",
    "    \n",
    "    img = img.view(28,28) ### greyscale image\n",
    "    \n",
    "    img2 = np.roll(img, px, axis=1)\n",
    "    img3 =torch.tensor(img2).view(-1,1,28,28).to(device).float()\n",
    "    \n",
    "    np_output = model(img3).cpu().detach().numpy()\n",
    "    \n",
    "    pred = np.exp(np_output) / np.sum(np.exp(np_output))\n",
    "    \n",
    "    preds.append(pred)\n",
    "\n",
    "    plt.subplot(11,1,px+6)\n",
    "    plt.title(f\"Actual: {val_fmnist.classes[val_targets[ix]]} -- Prediction: {val_fmnist.classes[pred[0].argmax()]}\")\n",
    "    plt.axis(\"off\")\n",
    "    plt.imshow(img2, cmap=\"gray\")\n"
   ]
  },
  {
   "cell_type": "code",
   "execution_count": 58,
   "metadata": {},
   "outputs": [
    {
     "data": {
      "text/plain": [
       "tensor(2)"
      ]
     },
     "execution_count": 58,
     "metadata": {},
     "output_type": "execute_result"
    }
   ],
   "source": [
    "val_targets[ix]"
   ]
  },
  {
   "cell_type": "code",
   "execution_count": 59,
   "metadata": {},
   "outputs": [
    {
     "data": {
      "text/plain": [
       "['T-shirt/top',\n",
       " 'Trouser',\n",
       " 'Pullover',\n",
       " 'Dress',\n",
       " 'Coat',\n",
       " 'Sandal',\n",
       " 'Shirt',\n",
       " 'Sneaker',\n",
       " 'Bag',\n",
       " 'Ankle boot']"
      ]
     },
     "execution_count": 59,
     "metadata": {},
     "output_type": "execute_result"
    }
   ],
   "source": [
    "val_fmnist.classes"
   ]
  },
  {
   "cell_type": "code",
   "execution_count": 60,
   "metadata": {},
   "outputs": [
    {
     "data": {
      "text/plain": [
       "'Pullover'"
      ]
     },
     "execution_count": 60,
     "metadata": {},
     "output_type": "execute_result"
    }
   ],
   "source": [
    "\n",
    "val_fmnist.classes[val_targets[ix]]"
   ]
  },
  {
   "attachments": {},
   "cell_type": "markdown",
   "metadata": {},
   "source": [
    "### We are able to counter translations to some extent but its still not perfect"
   ]
  },
  {
   "cell_type": "code",
   "execution_count": 61,
   "metadata": {},
   "outputs": [
    {
     "data": {
      "image/png": "[encoded data removed]",
      "text/plain": [
       "<Figure size 1440x1440 with 2 Axes>"
      ]
     },
     "metadata": {
      "needs_background": "light"
     },
     "output_type": "display_data"
    }
   ],
   "source": [
    "plt.figure(figsize=(20,20))\n",
    "sns.heatmap(np.array(preds).reshape(11,10), annot =True, fmt = '.2f', xticklabels=tr_fmnist.classes, yticklabels=[str(i)+str(' pixels') for i in range(-5,6)])\n",
    "plt.title('Probability of each class for various translations')\n",
    "plt.show()"
   ]
  },
  {
   "attachments": {},
   "cell_type": "markdown",
   "metadata": {},
   "source": [
    "### How to sort above problem:\n",
    "\n",
    "Train the network ion translated images. Can be done via image augmentation.\n",
    "\n",
    "We will have to decide ourselves, what kind of data augmentation we want.\n"
   ]
  },
  {
   "attachments": {},
   "cell_type": "markdown",
   "metadata": {},
   "source": [
    "# Data Augmentation"
   ]
  },
  {
   "attachments": {},
   "cell_type": "markdown",
   "metadata": {},
   "source": [
    "##### Various ways in which real life images might be different than images in our dataset\n",
    "\n",
    "1. Images are rotated slightly\n",
    "\n",
    "2. Images are zoomed in/out (scaled)\n",
    "\n",
    "3. Some amount of noise is present in image\n",
    "\n",
    "4. Images have low brightness\n",
    "\n",
    "5. Images have been flipped\n",
    "\n",
    "6. Images have been sheared (one side of image is more twisted)\n",
    "\n",
    "\n",
    "A neural network should take care of above considerations.\n",
    "\n"
   ]
  },
  {
   "cell_type": "code",
   "execution_count": 62,
   "metadata": {},
   "outputs": [],
   "source": [
    "### can use augmentors library\n",
    "### pytorch transforms library can also be used but it has less capabilities compared to augmentors "
   ]
  },
  {
   "cell_type": "code",
   "execution_count": 63,
   "metadata": {},
   "outputs": [],
   "source": [
    "from torchvision import transforms"
   ]
  },
  {
   "cell_type": "code",
   "execution_count": 64,
   "metadata": {},
   "outputs": [
    {
     "name": "stdout",
     "output_type": "stream",
     "text": [
      "['AugMix', 'AutoAugment', 'AutoAugmentPolicy', 'CenterCrop', 'ColorJitter', 'Compose', 'ConvertImageDtype', 'ElasticTransform', 'FiveCrop', 'GaussianBlur', 'Grayscale', 'InterpolationMode', 'Lambda', 'LinearTransformation', 'Normalize', 'PILToTensor', 'Pad', 'RandAugment', 'RandomAdjustSharpness', 'RandomAffine', 'RandomApply', 'RandomAutocontrast', 'RandomChoice', 'RandomCrop', 'RandomEqualize', 'RandomErasing', 'RandomGrayscale', 'RandomHorizontalFlip', 'RandomInvert', 'RandomOrder', 'RandomPerspective', 'RandomPosterize', 'RandomResizedCrop', 'RandomRotation', 'RandomSolarize', 'RandomVerticalFlip', 'Resize', 'TenCrop', 'ToPILImage', 'ToTensor', 'TrivialAugmentWide', '__builtins__', '__cached__', '__doc__', '__file__', '__loader__', '__name__', '__package__', '__path__', '__spec__', '_pil_constants', '_presets', 'autoaugment', 'functional', 'functional_pil', 'functional_tensor', 'transforms']\n"
     ]
    }
   ],
   "source": [
    "print(dir(transforms))"
   ]
  },
  {
   "cell_type": "code",
   "execution_count": 65,
   "metadata": {},
   "outputs": [],
   "source": [
    "import imgaug.augmenters as iaa\n",
    "import imgaug"
   ]
  },
  {
   "cell_type": "code",
   "execution_count": 66,
   "metadata": {},
   "outputs": [
    {
     "data": {
      "text/plain": [
       "'0.4.0'"
      ]
     },
     "execution_count": 66,
     "metadata": {},
     "output_type": "execute_result"
    }
   ],
   "source": [
    "imgaug.__version__"
   ]
  },
  {
   "cell_type": "code",
   "execution_count": 67,
   "metadata": {},
   "outputs": [
    {
     "name": "stdout",
     "output_type": "stream",
     "text": [
      "['ABCMeta', 'Add', 'AddElementwise', 'AddToBrightness', 'AddToHue', 'AddToHueAndSaturation', 'AddToSaturation', 'AdditiveGaussianNoise', 'AdditiveLaplaceNoise', 'AdditivePoissonNoise', 'Affine', 'AffineCv2', 'AllChannelsCLAHE', 'AllChannelsHistogramEqualization', 'Alpha', 'AlphaElementwise', 'AssertLambda', 'AssertShape', 'Augmenter', 'AverageBlur', 'AveragePooling', 'Batch', 'BilateralBlur', 'BlendAlpha', 'BlendAlphaBoundingBoxes', 'BlendAlphaCheckerboard', 'BlendAlphaElementwise', 'BlendAlphaFrequencyNoise', 'BlendAlphaHorizontalLinearGradient', 'BlendAlphaMask', 'BlendAlphaRegularGrid', 'BlendAlphaSegMapClassIds', 'BlendAlphaSimplexNoise', 'BlendAlphaSomeColors', 'BlendAlphaVerticalLinearGradient', 'BoundingBoxesMaskGen', 'CLAHE', 'CSPACE_ALL', 'CSPACE_BGR', 'CSPACE_CIE', 'CSPACE_GRAY', 'CSPACE_HLS', 'CSPACE_HSV', 'CSPACE_Lab', 'CSPACE_Luv', 'CSPACE_RGB', 'CSPACE_YCrCb', 'CSPACE_YUV', 'Canny', 'Cartoon', 'CenterCropToAspectRatio', 'CenterCropToFixedSize', 'CenterCropToMultiplesOf', 'CenterCropToPowersOf', 'CenterCropToSquare', 'CenterPadToAspectRatio', 'CenterPadToFixedSize', 'CenterPadToMultiplesOf', 'CenterPadToPowersOf', 'CenterPadToSquare', 'ChangeColorTemperature', 'ChangeColorspace', 'ChannelShuffle', 'CheckerboardMaskGen', 'ClipCBAsToImagePlanes', 'CloudLayer', 'Clouds', 'CoarseDropout', 'CoarsePepper', 'CoarseSalt', 'CoarseSaltAndPepper', 'ContrastNormalization', 'Convolve', 'Crop', 'CropAndPad', 'CropToAspectRatio', 'CropToFixedSize', 'CropToMultiplesOf', 'CropToPowersOf', 'CropToSquare', 'Cutout', 'DirectedEdgeDetect', 'Dropout', 'Dropout2d', 'DropoutPointsSampler', 'EdgeDetect', 'ElasticTransformation', 'Emboss', 'FastSnowyLandscape', 'Fliplr', 'Flipud', 'Fog', 'FrequencyNoiseAlpha', 'GammaContrast', 'GaussianBlur', 'Grayscale', 'HistogramEqualization', 'HorizontalFlip', 'HorizontalLinearGradientMaskGen', 'IBatchwiseMaskGenerator', 'IBinaryImageColorizer', 'IPointsSampler', 'Identity', 'ImpulseNoise', 'InColorspace', 'Invert', 'InvertMaskGen', 'Jigsaw', 'JpegCompression', 'KMeansColorQuantization', 'KeepSizeByResize', 'Lambda', 'LinearContrast', 'LogContrast', 'MaxPooling', 'MeanShiftBlur', 'MedianBlur', 'MedianPooling', 'MinPooling', 'MotionBlur', 'Multiply', 'MultiplyAndAddToBrightness', 'MultiplyBrightness', 'MultiplyElementwise', 'MultiplyHue', 'MultiplyHueAndSaturation', 'MultiplySaturation', 'Noop', 'OneOf', 'Pad', 'PadToAspectRatio', 'PadToFixedSize', 'PadToMultiplesOf', 'PadToPowersOf', 'PadToSquare', 'Pepper', 'PerspectiveTransform', 'PiecewiseAffine', 'Posterize', 'Rain', 'RainLayer', 'RandAugment', 'RandomColorsBinaryImageColorizer', 'RegularGridMaskGen', 'RegularGridPointsSampler', 'RegularGridVoronoi', 'RelativeRegularGridPointsSampler', 'RelativeRegularGridVoronoi', 'RemoveCBAsByOutOfImageFraction', 'RemoveSaturation', 'ReplaceElementwise', 'Resize', 'Rot90', 'Rotate', 'Salt', 'SaltAndPepper', 'SaveDebugImageEveryNBatches', 'Scale', 'ScaleX', 'ScaleY', 'SegMapClassIdsMaskGen', 'Sequential', 'Sharpen', 'ShearX', 'ShearY', 'SigmoidContrast', 'SimplexNoiseAlpha', 'Snowflakes', 'SnowflakesLayer', 'Solarize', 'SomeColorsMaskGen', 'SomeOf', 'Sometimes', 'StochasticParameterMaskGen', 'SubsamplingPointsSampler', 'Superpixels', 'SuspiciousMultiImageShapeWarning', 'SuspiciousSingleImageShapeWarning', 'TotalDropout', 'TranslateX', 'TranslateY', 'UniformColorQuantization', 'UniformColorQuantizationToNBits', 'UniformPointsSampler', 'UniformVoronoi', 'UnnormalizedBatch', 'VerticalFlip', 'VerticalLinearGradientMaskGen', 'Voronoi', 'WithBrightnessChannels', 'WithChannels', 'WithColorspace', 'WithHueAndSaturation', 'WithPolarWarping', '__builtins__', '__cached__', '__doc__', '__file__', '__loader__', '__name__', '__package__', '__path__', '__spec__', 'absolute_import', 'abstractmethod', 'abstractproperty', 'add_elementwise', 'add_scalar', 'adjust_contrast_gamma', 'adjust_contrast_linear', 'adjust_contrast_log', 'adjust_contrast_sigmoid', 'apply_jigsaw', 'apply_jigsaw_to_coords', 'arithmetic', 'artistic', 'augm_utils', 'base', 'blend', 'blend_alpha', 'blendlib', 'blur', 'blur_gaussian_', 'blur_lib', 'blur_mean_shift_', 'change_color_temperature', 'change_color_temperatures_', 'change_colorspace_', 'change_colorspaces_', 'clip_augmented_image', 'clip_augmented_image_', 'clip_augmented_images', 'clip_augmented_images_', 'collections', 'color', 'color_lib', 'colorlib', 'compress_jpeg', 'compute_croppings_to_reach_aspect_ratio', 'compute_croppings_to_reach_multiples_of', 'compute_croppings_to_reach_powers_of', 'compute_paddings_to_reach_aspect_ratio', 'compute_paddings_to_reach_multiples_of', 'compute_paddings_to_reach_powers_of', 'contrast', 'convolutional', 'copy_arrays', 'copy_module', 'cutout', 'cutout_', 'cv2', 'debug', 'division', 'draw_debug_image', 'edges', 'estimate_max_number_of_channels', 'flip', 'fliplr', 'flipud', 'functools', 'generate_jigsaw_destinations', 'geometric', 'handle_children_list', 'ia', 'iaa_convolutional', 'iabase', 'iadt', 'iap', 'iarandom', 'imageio', 'imgaug', 'imgcorruptlike', 'invert', 'invert_', 'invert_reduce_to_nonempty', 'itertools', 'math', 'meta', 'multiply_elementwise', 'multiply_scalar', 'ndimage', 'np', 'os', 'pad', 'pad_to_aspect_ratio', 'pad_to_multiples_of', 'pillike', 'pooling', 'posterize', 'print_function', 'quantize_colors_kmeans', 'quantize_colors_uniform', 'quantize_kmeans', 'quantize_uniform', 'quantize_uniform_', 'quantize_uniform_to_n_bits', 'quantize_uniform_to_n_bits_', 're', 'reduce_to_nonempty', 'replace_elementwise_', 'segment_voronoi', 'segmentation', 'shuffle_channels', 'six', 'size', 'size_lib', 'sizelib', 'ski_exposure', 'skimage', 'sm', 'solarize', 'solarize_', 'stylize_cartoon', 'sys', 'tempfile', 'tf', 'weather']\n"
     ]
    }
   ],
   "source": [
    "print(dir(iaa)) ### clearly so many more functionalities"
   ]
  },
  {
   "cell_type": "code",
   "execution_count": 68,
   "metadata": {},
   "outputs": [],
   "source": [
    "def to_numpy(tensor):\n",
    "    return tensor.cpu().detach().numpy()"
   ]
  },
  {
   "cell_type": "code",
   "execution_count": 69,
   "metadata": {},
   "outputs": [
    {
     "data": {
      "image/png": "[encoded data removed]",
      "text/plain": [
       "<Figure size 432x288 with 1 Axes>"
      ]
     },
     "metadata": {
      "needs_background": "light"
     },
     "output_type": "display_data"
    }
   ],
   "source": [
    "plt.imshow(tr_images[0], cmap = \"gray\")\n",
    "plt.title('orginal image')\n",
    "plt.show()"
   ]
  },
  {
   "attachments": {},
   "cell_type": "markdown",
   "metadata": {},
   "source": [
    "### Augmentations with augmentors library\n",
    "\n",
    "##### Approach:\n",
    "\n",
    "\n",
    "1. Define object that will perform scaling\n",
    "\n",
    "2. Specvify that we want to augment image with augment_image method\n"
   ]
  },
  {
   "attachments": {},
   "cell_type": "markdown",
   "metadata": {},
   "source": [
    "### 1. Affine Transformations "
   ]
  },
  {
   "cell_type": "code",
   "execution_count": 70,
   "metadata": {},
   "outputs": [
    {
     "name": "stdout",
     "output_type": "stream",
     "text": [
      "\u001b[1;31mInit signature:\u001b[0m\n",
      "\u001b[0miaa\u001b[0m\u001b[1;33m.\u001b[0m\u001b[0mAffine\u001b[0m\u001b[1;33m(\u001b[0m\u001b[1;33m\n",
      "\u001b[0m    \u001b[0mscale\u001b[0m\u001b[1;33m=\u001b[0m\u001b[1;32mNone\u001b[0m\u001b[1;33m,\u001b[0m\u001b[1;33m\n",
      "\u001b[0m    \u001b[0mtranslate_percent\u001b[0m\u001b[1;33m=\u001b[0m\u001b[1;32mNone\u001b[0m\u001b[1;33m,\u001b[0m\u001b[1;33m\n",
      "\u001b[0m    \u001b[0mtranslate_px\u001b[0m\u001b[1;33m=\u001b[0m\u001b[1;32mNone\u001b[0m\u001b[1;33m,\u001b[0m\u001b[1;33m\n",
      "\u001b[0m    \u001b[0mrotate\u001b[0m\u001b[1;33m=\u001b[0m\u001b[1;32mNone\u001b[0m\u001b[1;33m,\u001b[0m\u001b[1;33m\n",
      "\u001b[0m    \u001b[0mshear\u001b[0m\u001b[1;33m=\u001b[0m\u001b[1;32mNone\u001b[0m\u001b[1;33m,\u001b[0m\u001b[1;33m\n",
      "\u001b[0m    \u001b[0morder\u001b[0m\u001b[1;33m=\u001b[0m\u001b[1;36m1\u001b[0m\u001b[1;33m,\u001b[0m\u001b[1;33m\n",
      "\u001b[0m    \u001b[0mcval\u001b[0m\u001b[1;33m=\u001b[0m\u001b[1;36m0\u001b[0m\u001b[1;33m,\u001b[0m\u001b[1;33m\n",
      "\u001b[0m    \u001b[0mmode\u001b[0m\u001b[1;33m=\u001b[0m\u001b[1;34m'constant'\u001b[0m\u001b[1;33m,\u001b[0m\u001b[1;33m\n",
      "\u001b[0m    \u001b[0mfit_output\u001b[0m\u001b[1;33m=\u001b[0m\u001b[1;32mFalse\u001b[0m\u001b[1;33m,\u001b[0m\u001b[1;33m\n",
      "\u001b[0m    \u001b[0mbackend\u001b[0m\u001b[1;33m=\u001b[0m\u001b[1;34m'auto'\u001b[0m\u001b[1;33m,\u001b[0m\u001b[1;33m\n",
      "\u001b[0m    \u001b[0mseed\u001b[0m\u001b[1;33m=\u001b[0m\u001b[1;32mNone\u001b[0m\u001b[1;33m,\u001b[0m\u001b[1;33m\n",
      "\u001b[0m    \u001b[0mname\u001b[0m\u001b[1;33m=\u001b[0m\u001b[1;32mNone\u001b[0m\u001b[1;33m,\u001b[0m\u001b[1;33m\n",
      "\u001b[0m    \u001b[0mrandom_state\u001b[0m\u001b[1;33m=\u001b[0m\u001b[1;34m'deprecated'\u001b[0m\u001b[1;33m,\u001b[0m\u001b[1;33m\n",
      "\u001b[0m    \u001b[0mdeterministic\u001b[0m\u001b[1;33m=\u001b[0m\u001b[1;34m'deprecated'\u001b[0m\u001b[1;33m,\u001b[0m\u001b[1;33m\n",
      "\u001b[0m\u001b[1;33m)\u001b[0m\u001b[1;33m\u001b[0m\u001b[1;33m\u001b[0m\u001b[0m\n",
      "\u001b[1;31mDocstring:\u001b[0m     \n",
      "Augmenter to apply affine transformations to images.\n",
      "\n",
      "This is mostly a wrapper around the corresponding classes and functions\n",
      "in OpenCV and skimage.\n",
      "\n",
      "Affine transformations involve:\n",
      "\n",
      "    - Translation (\"move\" image on the x-/y-axis)\n",
      "    - Rotation\n",
      "    - Scaling (\"zoom\" in/out)\n",
      "    - Shear (move one side of the image, turning a square into a trapezoid)\n",
      "\n",
      "All such transformations can create \"new\" pixels in the image without a\n",
      "defined content, e.g. if the image is translated to the left, pixels\n",
      "are created on the right.\n",
      "A method has to be defined to deal with these pixel values. The\n",
      "parameters `cval` and `mode` of this class deal with this.\n",
      "\n",
      "Some transformations involve interpolations between several pixels\n",
      "of the input image to generate output pixel values. The parameter `order`\n",
      "deals with the method of interpolation used for this.\n",
      "\n",
      ".. note::\n",
      "\n",
      "    While this augmenter supports segmentation maps and heatmaps that\n",
      "    have a different size than the corresponding image, it is strongly\n",
      "    recommended to use the same aspect ratios. E.g. for an image of\n",
      "    shape ``(200, 100, 3)``, good segmap/heatmap array shapes also follow\n",
      "    a ``2:1`` ratio and ideally are ``(200, 100, C)``, ``(100, 50, C)`` or\n",
      "    ``(50, 25, C)``. Otherwise, transformations involving rotations or\n",
      "    shearing will produce unaligned outputs.\n",
      "    For performance reasons, there is no explicit validation of whether\n",
      "    the aspect ratios are similar.\n",
      "\n",
      "**Supported dtypes**:\n",
      "\n",
      "if (backend=\"skimage\", order in [0, 1]):\n",
      "\n",
      "    * ``uint8``: yes; tested\n",
      "    * ``uint16``: yes; tested\n",
      "    * ``uint32``: yes; tested (1)\n",
      "    * ``uint64``: no (2)\n",
      "    * ``int8``: yes; tested\n",
      "    * ``int16``: yes; tested\n",
      "    * ``int32``: yes; tested  (1)\n",
      "    * ``int64``: no (2)\n",
      "    * ``float16``: yes; tested\n",
      "    * ``float32``: yes; tested\n",
      "    * ``float64``: yes; tested\n",
      "    * ``float128``: no (2)\n",
      "    * ``bool``: yes; tested\n",
      "\n",
      "    - (1) scikit-image converts internally to float64, which might\n",
      "          affect the accuracy of large integers. In tests this seemed\n",
      "          to not be an issue.\n",
      "    - (2) results too inaccurate\n",
      "\n",
      "if (backend=\"skimage\", order in [3, 4]):\n",
      "\n",
      "    * ``uint8``: yes; tested\n",
      "    * ``uint16``: yes; tested\n",
      "    * ``uint32``: yes; tested (1)\n",
      "    * ``uint64``: no (2)\n",
      "    * ``int8``: yes; tested\n",
      "    * ``int16``: yes; tested\n",
      "    * ``int32``: yes; tested  (1)\n",
      "    * ``int64``: no (2)\n",
      "    * ``float16``: yes; tested\n",
      "    * ``float32``: yes; tested\n",
      "    * ``float64``: limited; tested (3)\n",
      "    * ``float128``: no (2)\n",
      "    * ``bool``: yes; tested\n",
      "\n",
      "    - (1) scikit-image converts internally to float64, which might\n",
      "          affect the accuracy of large integers. In tests this seemed\n",
      "          to not be an issue.\n",
      "    - (2) results too inaccurate\n",
      "    - (3) ``NaN`` around minimum and maximum of float64 value range\n",
      "\n",
      "if (backend=\"skimage\", order=5]):\n",
      "\n",
      "        * ``uint8``: yes; tested\n",
      "        * ``uint16``: yes; tested\n",
      "        * ``uint32``: yes; tested (1)\n",
      "        * ``uint64``: no (2)\n",
      "        * ``int8``: yes; tested\n",
      "        * ``int16``: yes; tested\n",
      "        * ``int32``: yes; tested  (1)\n",
      "        * ``int64``: no (2)\n",
      "        * ``float16``: yes; tested\n",
      "        * ``float32``: yes; tested\n",
      "        * ``float64``: limited; not tested (3)\n",
      "        * ``float128``: no (2)\n",
      "        * ``bool``: yes; tested\n",
      "\n",
      "        - (1) scikit-image converts internally to ``float64``, which\n",
      "              might affect the accuracy of large integers. In tests\n",
      "              this seemed to not be an issue.\n",
      "        - (2) results too inaccurate\n",
      "        - (3) ``NaN`` around minimum and maximum of float64 value range\n",
      "\n",
      "if (backend=\"cv2\", order=0):\n",
      "\n",
      "    * ``uint8``: yes; tested\n",
      "    * ``uint16``: yes; tested\n",
      "    * ``uint32``: no (1)\n",
      "    * ``uint64``: no (2)\n",
      "    * ``int8``: yes; tested\n",
      "    * ``int16``: yes; tested\n",
      "    * ``int32``: yes; tested\n",
      "    * ``int64``: no (2)\n",
      "    * ``float16``: yes; tested (3)\n",
      "    * ``float32``: yes; tested\n",
      "    * ``float64``: yes; tested\n",
      "    * ``float128``: no (1)\n",
      "    * ``bool``: yes; tested (3)\n",
      "\n",
      "    - (1) rejected by cv2\n",
      "    - (2) changed to ``int32`` by cv2\n",
      "    - (3) mapped internally to ``float32``\n",
      "\n",
      "if (backend=\"cv2\", order=1):\n",
      "\n",
      "    * ``uint8``: yes; fully tested\n",
      "    * ``uint16``: yes; tested\n",
      "    * ``uint32``: no (1)\n",
      "    * ``uint64``: no (2)\n",
      "    * ``int8``: yes; tested (3)\n",
      "    * ``int16``: yes; tested\n",
      "    * ``int32``: no (2)\n",
      "    * ``int64``: no (2)\n",
      "    * ``float16``: yes; tested (4)\n",
      "    * ``float32``: yes; tested\n",
      "    * ``float64``: yes; tested\n",
      "    * ``float128``: no (1)\n",
      "    * ``bool``: yes; tested (4)\n",
      "\n",
      "    - (1) rejected by cv2\n",
      "    - (2) causes cv2 error: ``cv2.error: OpenCV(3.4.4)\n",
      "          (...)imgwarp.cpp:1805: error:\n",
      "          (-215:Assertion failed) ifunc != 0 in function 'remap'``\n",
      "    - (3) mapped internally to ``int16``\n",
      "    - (4) mapped internally to ``float32``\n",
      "\n",
      "if (backend=\"cv2\", order=3):\n",
      "\n",
      "    * ``uint8``: yes; tested\n",
      "    * ``uint16``: yes; tested\n",
      "    * ``uint32``: no (1)\n",
      "    * ``uint64``: no (2)\n",
      "    * ``int8``: yes; tested (3)\n",
      "    * ``int16``: yes; tested\n",
      "    * ``int32``: no (2)\n",
      "    * ``int64``: no (2)\n",
      "    * ``float16``: yes; tested (4)\n",
      "    * ``float32``: yes; tested\n",
      "    * ``float64``: yes; tested\n",
      "    * ``float128``: no (1)\n",
      "    * ``bool``: yes; tested (4)\n",
      "\n",
      "    - (1) rejected by cv2\n",
      "    - (2) causes cv2 error: ``cv2.error: OpenCV(3.4.4)\n",
      "          (...)imgwarp.cpp:1805: error:\n",
      "          (-215:Assertion failed) ifunc != 0 in function 'remap'``\n",
      "    - (3) mapped internally to ``int16``\n",
      "    - (4) mapped internally to ``float32``\n",
      "\n",
      "\n",
      "Parameters\n",
      "----------\n",
      "scale : number or tuple of number or list of number or imgaug.parameters.StochasticParameter or dict {\"x\": number/tuple/list/StochasticParameter, \"y\": number/tuple/list/StochasticParameter}, optional\n",
      "    Scaling factor to use, where ``1.0`` denotes \"no change\" and\n",
      "    ``0.5`` is zoomed out to ``50`` percent of the original size.\n",
      "\n",
      "        * If a single number, then that value will be used for all images.\n",
      "        * If a tuple ``(a, b)``, then a value will be uniformly sampled\n",
      "          per image from the interval ``[a, b]``. That value will be\n",
      "          used identically for both x- and y-axis.\n",
      "        * If a list, then a random value will be sampled from that list\n",
      "          per image (again, used for both x- and y-axis).\n",
      "        * If a ``StochasticParameter``, then from that parameter a value\n",
      "          will be sampled per image (again, used for both x- and y-axis).\n",
      "        * If a dictionary, then it is expected to have the keys ``x``\n",
      "          and/or ``y``. Each of these keys can have the same values as\n",
      "          described above. Using a dictionary allows to set different\n",
      "          values for the two axis and sampling will then happen\n",
      "          *independently* per axis, resulting in samples that differ\n",
      "          between the axes.\n",
      "\n",
      "translate_percent : None or number or tuple of number or list of number or imgaug.parameters.StochasticParameter or dict {\"x\": number/tuple/list/StochasticParameter, \"y\": number/tuple/list/StochasticParameter}, optional\n",
      "    Translation as a fraction of the image height/width (x-translation,\n",
      "    y-translation), where ``0`` denotes \"no change\" and ``0.5`` denotes\n",
      "    \"half of the axis size\".\n",
      "\n",
      "        * If ``None`` then equivalent to ``0.0`` unless `translate_px` has\n",
      "          a value other than ``None``.\n",
      "        * If a single number, then that value will be used for all images.\n",
      "        * If a tuple ``(a, b)``, then a value will be uniformly sampled\n",
      "          per image from the interval ``[a, b]``. That sampled fraction\n",
      "          value will be used identically for both x- and y-axis.\n",
      "        * If a list, then a random value will be sampled from that list\n",
      "          per image (again, used for both x- and y-axis).\n",
      "        * If a ``StochasticParameter``, then from that parameter a value\n",
      "          will be sampled per image (again, used for both x- and y-axis).\n",
      "        * If a dictionary, then it is expected to have the keys ``x``\n",
      "          and/or ``y``. Each of these keys can have the same values as\n",
      "          described above. Using a dictionary allows to set different\n",
      "          values for the two axis and sampling will then happen\n",
      "          *independently* per axis, resulting in samples that differ\n",
      "          between the axes.\n",
      "\n",
      "translate_px : None or int or tuple of int or list of int or imgaug.parameters.StochasticParameter or dict {\"x\": int/tuple/list/StochasticParameter, \"y\": int/tuple/list/StochasticParameter}, optional\n",
      "    Translation in pixels.\n",
      "\n",
      "        * If ``None`` then equivalent to ``0`` unless `translate_percent`\n",
      "          has a value other than ``None``.\n",
      "        * If a single int, then that value will be used for all images.\n",
      "        * If a tuple ``(a, b)``, then a value will be uniformly sampled\n",
      "          per image from the discrete interval ``[a..b]``. That number\n",
      "          will be used identically for both x- and y-axis.\n",
      "        * If a list, then a random value will be sampled from that list\n",
      "          per image (again, used for both x- and y-axis).\n",
      "        * If a ``StochasticParameter``, then from that parameter a value\n",
      "          will be sampled per image (again, used for both x- and y-axis).\n",
      "        * If a dictionary, then it is expected to have the keys ``x``\n",
      "          and/or ``y``. Each of these keys can have the same values as\n",
      "          described above. Using a dictionary allows to set different\n",
      "          values for the two axis and sampling will then happen\n",
      "          *independently* per axis, resulting in samples that differ\n",
      "          between the axes.\n",
      "\n",
      "rotate : number or tuple of number or list of number or imgaug.parameters.StochasticParameter, optional\n",
      "    Rotation in degrees (**NOT** radians), i.e. expected value range is\n",
      "    around ``[-360, 360]``. Rotation happens around the *center* of the\n",
      "    image, not the top left corner as in some other frameworks.\n",
      "\n",
      "        * If a number, then that value will be used for all images.\n",
      "        * If a tuple ``(a, b)``, then a value will be uniformly sampled\n",
      "          per image from the interval ``[a, b]`` and used as the rotation\n",
      "          value.\n",
      "        * If a list, then a random value will be sampled from that list\n",
      "          per image.\n",
      "        * If a ``StochasticParameter``, then this parameter will be used to\n",
      "          sample the rotation value per image.\n",
      "\n",
      "shear : number or tuple of number or list of number or imgaug.parameters.StochasticParameter or dict {\"x\": int/tuple/list/StochasticParameter, \"y\": int/tuple/list/StochasticParameter}, optional\n",
      "    Shear in degrees (**NOT** radians), i.e. expected value range is\n",
      "    around ``[-360, 360]``, with reasonable values being in the range\n",
      "    of ``[-45, 45]``.\n",
      "\n",
      "        * If a number, then that value will be used for all images as\n",
      "          the shear on the x-axis (no shear on the y-axis will be done).\n",
      "        * If a tuple ``(a, b)``, then two value will be uniformly sampled\n",
      "          per image from the interval ``[a, b]`` and be used as the\n",
      "          x- and y-shear value.\n",
      "        * If a list, then two random values will be sampled from that list\n",
      "          per image, denoting x- and y-shear.\n",
      "        * If a ``StochasticParameter``, then this parameter will be used\n",
      "          to sample the x- and y-shear values per image.\n",
      "        * If a dictionary, then similar to `translate_percent`, i.e. one\n",
      "          ``x`` key and/or one ``y`` key are expected, denoting the\n",
      "          shearing on the x- and y-axis respectively. The allowed datatypes\n",
      "          are again ``number``, ``tuple`` ``(a, b)``, ``list`` or\n",
      "          ``StochasticParameter``.\n",
      "\n",
      "order : int or iterable of int or imgaug.ALL or imgaug.parameters.StochasticParameter, optional\n",
      "    Interpolation order to use. Same meaning as in ``skimage``:\n",
      "\n",
      "        * ``0``: ``Nearest-neighbor``\n",
      "        * ``1``: ``Bi-linear`` (default)\n",
      "        * ``2``: ``Bi-quadratic`` (not recommended by skimage)\n",
      "        * ``3``: ``Bi-cubic``\n",
      "        * ``4``: ``Bi-quartic``\n",
      "        * ``5``: ``Bi-quintic``\n",
      "\n",
      "    Method ``0`` and ``1`` are fast, ``3`` is a bit slower, ``4`` and\n",
      "    ``5`` are very slow. If the backend is ``cv2``, the mapping to\n",
      "    OpenCV's interpolation modes is as follows:\n",
      "\n",
      "        * ``0`` -> ``cv2.INTER_NEAREST``\n",
      "        * ``1`` -> ``cv2.INTER_LINEAR``\n",
      "        * ``2`` -> ``cv2.INTER_CUBIC``\n",
      "        * ``3`` -> ``cv2.INTER_CUBIC``\n",
      "        * ``4`` -> ``cv2.INTER_CUBIC``\n",
      "\n",
      "    As datatypes this parameter accepts:\n",
      "\n",
      "        * If a single ``int``, then that order will be used for all images.\n",
      "        * If a list, then a random value will be sampled from that list\n",
      "          per image.\n",
      "        * If ``imgaug.ALL``, then equivalant to list ``[0, 1, 3, 4, 5]``\n",
      "          in case of ``backend=skimage`` and otherwise ``[0, 1, 3]``.\n",
      "        * If ``StochasticParameter``, then that parameter is queried per\n",
      "          image to sample the order value to use.\n",
      "\n",
      "cval : number or tuple of number or list of number or imgaug.ALL or imgaug.parameters.StochasticParameter, optional\n",
      "    The constant value to use when filling in newly created pixels.\n",
      "    (E.g. translating by 1px to the right will create a new 1px-wide\n",
      "    column of pixels on the left of the image).  The value is only used\n",
      "    when `mode=constant`. The expected value range is ``[0, 255]`` for\n",
      "    ``uint8`` images. It may be a float value.\n",
      "\n",
      "        * If this is a single number, then that value will be used\n",
      "          (e.g. 0 results in black pixels).\n",
      "        * If a tuple ``(a, b)``, then three values (for three image\n",
      "          channels) will be uniformly sampled per image from the\n",
      "          interval ``[a, b]``.\n",
      "        * If a list, then a random value will be sampled from that list\n",
      "          per image.\n",
      "        * If ``imgaug.ALL`` then equivalent to tuple ``(0, 255)`.\n",
      "        * If a ``StochasticParameter``, a new value will be sampled from\n",
      "          the parameter per image.\n",
      "\n",
      "mode : str or list of str or imgaug.ALL or imgaug.parameters.StochasticParameter, optional\n",
      "    Method to use when filling in newly created pixels.\n",
      "    Same meaning as in ``skimage`` (and :func:`numpy.pad`):\n",
      "\n",
      "        * ``constant``: Pads with a constant value\n",
      "        * ``edge``: Pads with the edge values of array\n",
      "        * ``symmetric``: Pads with the reflection of the vector mirrored\n",
      "          along the edge of the array.\n",
      "        * ``reflect``: Pads with the reflection of the vector mirrored on\n",
      "          the first and last values of the vector along each axis.\n",
      "        * ``wrap``: Pads with the wrap of the vector along the axis.\n",
      "          The first values are used to pad the end and the end values\n",
      "          are used to pad the beginning.\n",
      "\n",
      "    If ``cv2`` is chosen as the backend the mapping is as follows:\n",
      "\n",
      "        * ``constant`` -> ``cv2.BORDER_CONSTANT``\n",
      "        * ``edge`` -> ``cv2.BORDER_REPLICATE``\n",
      "        * ``symmetric`` -> ``cv2.BORDER_REFLECT``\n",
      "        * ``reflect`` -> ``cv2.BORDER_REFLECT_101``\n",
      "        * ``wrap`` -> ``cv2.BORDER_WRAP``\n",
      "\n",
      "    The datatype of the parameter may be:\n",
      "\n",
      "        * If a single string, then that mode will be used for all images.\n",
      "        * If a list of strings, then a random mode will be picked\n",
      "          from that list per image.\n",
      "        * If ``imgaug.ALL``, then a random mode from all possible modes\n",
      "          will be picked.\n",
      "        * If ``StochasticParameter``, then the mode will be sampled from\n",
      "          that parameter per image, i.e. it must return only the above\n",
      "          mentioned strings.\n",
      "\n",
      "fit_output : bool, optional\n",
      "    Whether to modify the affine transformation so that the whole output\n",
      "    image is always contained in the image plane (``True``) or accept\n",
      "    parts of the image being outside the image plane (``False``).\n",
      "    This can be thought of as first applying the affine transformation\n",
      "    and then applying a second transformation to \"zoom in\" on the new\n",
      "    image so that it fits the image plane,\n",
      "    This is useful to avoid corners of the image being outside of the image\n",
      "    plane after applying rotations. It will however negate translation\n",
      "    and scaling.\n",
      "    Note also that activating this may lead to image sizes differing from\n",
      "    the input image sizes. To avoid this, wrap ``Affine`` in\n",
      "    :class:`~imgaug.augmenters.size.KeepSizeByResize`,\n",
      "    e.g. ``KeepSizeByResize(Affine(...))``.\n",
      "\n",
      "backend : str, optional\n",
      "    Framework to use as a backend. Valid values are ``auto``, ``skimage``\n",
      "    (scikit-image's warp) and ``cv2`` (OpenCV's warp).\n",
      "    If ``auto`` is used, the augmenter will automatically try\n",
      "    to use ``cv2`` whenever possible (order must be in ``[0, 1, 3]``). It\n",
      "    will silently fall back to skimage if order/dtype is not supported by\n",
      "    cv2. cv2 is generally faster than skimage. It also supports RGB cvals,\n",
      "    while skimage will resort to intensity cvals (i.e. 3x the same value\n",
      "    as RGB). If ``cv2`` is chosen and order is ``2`` or ``4``, it will\n",
      "    automatically fall back to order ``3``.\n",
      "\n",
      "seed : None or int or imgaug.random.RNG or numpy.random.Generator or numpy.random.BitGenerator or numpy.random.SeedSequence or numpy.random.RandomState, optional\n",
      "    See :func:`~imgaug.augmenters.meta.Augmenter.__init__`.\n",
      "\n",
      "name : None or str, optional\n",
      "    See :func:`~imgaug.augmenters.meta.Augmenter.__init__`.\n",
      "\n",
      "random_state : None or int or imgaug.random.RNG or numpy.random.Generator or numpy.random.BitGenerator or numpy.random.SeedSequence or numpy.random.RandomState, optional\n",
      "    Old name for parameter `seed`.\n",
      "    Its usage will not yet cause a deprecation warning,\n",
      "    but it is still recommended to use `seed` now.\n",
      "    Outdated since 0.4.0.\n",
      "\n",
      "deterministic : bool, optional\n",
      "    Deprecated since 0.4.0.\n",
      "    See method ``to_deterministic()`` for an alternative and for\n",
      "    details about what the \"deterministic mode\" actually does.\n",
      "\n",
      "Examples\n",
      "--------\n",
      ">>> import imgaug.augmenters as iaa\n",
      ">>> aug = iaa.Affine(scale=2.0)\n",
      "\n",
      "Zoom in on all images by a factor of ``2``.\n",
      "\n",
      ">>> aug = iaa.Affine(translate_px=16)\n",
      "\n",
      "Translate all images on the x- and y-axis by 16 pixels (towards the\n",
      "bottom right) and fill up any new pixels with zero (black values).\n",
      "\n",
      ">>> aug = iaa.Affine(translate_percent=0.1)\n",
      "\n",
      "Translate all images on the x- and y-axis by ``10`` percent of their\n",
      "width/height (towards the bottom right). The pixel values are computed\n",
      "per axis based on that axis' size. Fill up any new pixels with zero\n",
      "(black values).\n",
      "\n",
      ">>> aug = iaa.Affine(rotate=35)\n",
      "\n",
      "Rotate all images by ``35`` *degrees*. Fill up any new pixels with zero\n",
      "(black values).\n",
      "\n",
      ">>> aug = iaa.Affine(shear=15)\n",
      "\n",
      "Shear all images by ``15`` *degrees*. Fill up any new pixels with zero\n",
      "(black values).\n",
      "\n",
      ">>> aug = iaa.Affine(translate_px=(-16, 16))\n",
      "\n",
      "Translate all images on the x- and y-axis by a random value\n",
      "between ``-16`` and ``16`` pixels (to the bottom right) and fill up any new\n",
      "pixels with zero (black values). The translation value is sampled once\n",
      "per image and is the same for both axis.\n",
      "\n",
      ">>> aug = iaa.Affine(translate_px={\"x\": (-16, 16), \"y\": (-4, 4)})\n",
      "\n",
      "Translate all images on the x-axis by a random value\n",
      "between ``-16`` and ``16`` pixels (to the right) and on the y-axis by a\n",
      "random value between ``-4`` and ``4`` pixels to the bottom. The sampling\n",
      "happens independently per axis, so even if both intervals were identical,\n",
      "the sampled axis-wise values would likely be different.\n",
      "This also fills up any new pixels with zero (black values).\n",
      "\n",
      ">>> aug = iaa.Affine(scale=2.0, order=[0, 1])\n",
      "\n",
      "Same as in the above `scale` example, but uses (randomly) either\n",
      "nearest neighbour interpolation or linear interpolation. If `order` is\n",
      "not specified, ``order=1`` would be used by default.\n",
      "\n",
      ">>> aug = iaa.Affine(translate_px=16, cval=(0, 255))\n",
      "\n",
      "Same as in the `translate_px` example above, but newly created pixels\n",
      "are now filled with a random color (sampled once per image and the\n",
      "same for all newly created pixels within that image).\n",
      "\n",
      ">>> aug = iaa.Affine(translate_px=16, mode=[\"constant\", \"edge\"])\n",
      "\n",
      "Similar to the previous example, but the newly created pixels are\n",
      "filled with black pixels in half of all images (mode ``constant`` with\n",
      "default `cval` being ``0``) and in the other half of all images using\n",
      "``edge`` mode, which repeats the color of the spatially closest pixel\n",
      "of the corresponding image edge.\n",
      "\n",
      ">>> aug = iaa.Affine(shear={\"y\": (-45, 45)})\n",
      "\n",
      "Shear images only on the y-axis. Set `shear` to ``shear=(-45, 45)`` to\n",
      "shear randomly on both axes, using for each image the same sample for\n",
      "both the x- and y-axis. Use ``shear={\"x\": (-45, 45), \"y\": (-45, 45)}``\n",
      "to get independent samples per axis.\n",
      "\u001b[1;31mInit docstring:\u001b[0m Create a new Augmenter instance.\n",
      "\u001b[1;31mFile:\u001b[0m           c:\\users\\rachi\\anaconda3\\lib\\site-packages\\imgaug\\augmenters\\geometric.py\n",
      "\u001b[1;31mType:\u001b[0m           ABCMeta\n",
      "\u001b[1;31mSubclasses:\u001b[0m     ScaleX, ScaleY, TranslateX, TranslateY, Rotate, ShearX, ShearY, Affine\n"
     ]
    }
   ],
   "source": [
    "iaa.Affine?"
   ]
  },
  {
   "attachments": {},
   "cell_type": "markdown",
   "metadata": {},
   "source": [
    "##### zoomed in"
   ]
  },
  {
   "cell_type": "code",
   "execution_count": 71,
   "metadata": {},
   "outputs": [],
   "source": [
    "aug = iaa.Affine(scale=2)  ### zooms in by 2x"
   ]
  },
  {
   "cell_type": "code",
   "execution_count": 72,
   "metadata": {},
   "outputs": [
    {
     "data": {
      "text/plain": [
       "Text(0.5, 1.0, 'Scaled Image')"
      ]
     },
     "execution_count": 72,
     "metadata": {},
     "output_type": "execute_result"
    },
    {
     "data": {
      "image/png": "[encoded data removed]",
      "text/plain": [
       "<Figure size 432x288 with 1 Axes>"
      ]
     },
     "metadata": {
      "needs_background": "light"
     },
     "output_type": "display_data"
    }
   ],
   "source": [
    "plt.imshow(aug.augment_image(to_numpy(tr_images[0])), cmap='gray')  \n",
    "### input needs to be numpy array \n",
    "plt.title('Scaled Image')"
   ]
  },
  {
   "attachments": {},
   "cell_type": "markdown",
   "metadata": {},
   "source": [
    "##### Translated "
   ]
  },
  {
   "cell_type": "code",
   "execution_count": 73,
   "metadata": {},
   "outputs": [
    {
     "data": {
      "text/plain": [
       "<matplotlib.image.AxesImage at 0x2649ec5cca0>"
      ]
     },
     "execution_count": 73,
     "metadata": {},
     "output_type": "execute_result"
    },
    {
     "data": {
      "image/png": "[encoded data removed]",
      "text/plain": [
       "<Figure size 432x288 with 1 Axes>"
      ]
     },
     "metadata": {
      "needs_background": "light"
     },
     "output_type": "display_data"
    }
   ],
   "source": [
    "aug = iaa.Affine(translate_px=-10)  ### by -10\n",
    "plt.imshow(aug.augment_image(to_numpy(tr_images[0])), cmap='gray')"
   ]
  },
  {
   "cell_type": "code",
   "execution_count": 74,
   "metadata": {},
   "outputs": [
    {
     "data": {
      "text/plain": [
       "<matplotlib.image.AxesImage at 0x2649ecb71f0>"
      ]
     },
     "execution_count": 74,
     "metadata": {},
     "output_type": "execute_result"
    },
    {
     "data": {
      "image/png": "[encoded data removed]",
      "text/plain": [
       "<Figure size 432x288 with 1 Axes>"
      ]
     },
     "metadata": {
      "needs_background": "light"
     },
     "output_type": "display_data"
    }
   ],
   "source": [
    "aug = iaa.Affine(translate_px=10)   ### by +10\n",
    "plt.imshow(aug.augment_image(to_numpy(tr_images[0])), cmap='gray')"
   ]
  },
  {
   "cell_type": "code",
   "execution_count": 75,
   "metadata": {},
   "outputs": [],
   "source": [
    "### Different translation in x and y direction\n",
    "\n",
    "aug = iaa.Affine(translate_px={'x':5,'y':-7})"
   ]
  },
  {
   "cell_type": "code",
   "execution_count": 76,
   "metadata": {},
   "outputs": [
    {
     "data": {
      "text/plain": [
       "<matplotlib.image.AxesImage at 0x264a18d9610>"
      ]
     },
     "execution_count": 76,
     "metadata": {},
     "output_type": "execute_result"
    },
    {
     "data": {
      "image/png": "[encoded data removed]",
      "text/plain": [
       "<Figure size 432x288 with 1 Axes>"
      ]
     },
     "metadata": {
      "needs_background": "light"
     },
     "output_type": "display_data"
    }
   ],
   "source": [
    "plt.imshow(aug.augment_image(to_numpy(tr_images[0])), cmap = 'gray')"
   ]
  },
  {
   "attachments": {},
   "cell_type": "markdown",
   "metadata": {},
   "source": [
    "##### Rotation"
   ]
  },
  {
   "cell_type": "code",
   "execution_count": 77,
   "metadata": {},
   "outputs": [],
   "source": [
    "aug = iaa.Affine(rotate=-45)"
   ]
  },
  {
   "cell_type": "code",
   "execution_count": 78,
   "metadata": {},
   "outputs": [
    {
     "data": {
      "text/plain": [
       "<matplotlib.image.AxesImage at 0x264a1926b20>"
      ]
     },
     "execution_count": 78,
     "metadata": {},
     "output_type": "execute_result"
    },
    {
     "data": {
      "image/png": "[encoded data removed]",
      "text/plain": [
       "<Figure size 432x288 with 1 Axes>"
      ]
     },
     "metadata": {
      "needs_background": "light"
     },
     "output_type": "display_data"
    }
   ],
   "source": [
    "plt.imshow(aug.augment_image(to_numpy(tr_images[0])), cmap = 'gray')"
   ]
  },
  {
   "cell_type": "code",
   "execution_count": 79,
   "metadata": {},
   "outputs": [
    {
     "data": {
      "text/plain": [
       "<matplotlib.image.AxesImage at 0x264a3b32370>"
      ]
     },
     "execution_count": 79,
     "metadata": {},
     "output_type": "execute_result"
    },
    {
     "data": {
      "image/png": "[encoded data removed]",
      "text/plain": [
       "<Figure size 432x288 with 1 Axes>"
      ]
     },
     "metadata": {
      "needs_background": "light"
     },
     "output_type": "display_data"
    }
   ],
   "source": [
    "aug = iaa.Affine(rotate=45)\n",
    "plt.imshow(aug.augment_image(to_numpy(tr_images[0])), cmap = 'gray')"
   ]
  },
  {
   "cell_type": "code",
   "execution_count": 80,
   "metadata": {},
   "outputs": [],
   "source": [
    "aug = iaa.Affine(shear=30)"
   ]
  },
  {
   "cell_type": "code",
   "execution_count": 81,
   "metadata": {},
   "outputs": [
    {
     "data": {
      "image/png": "[encoded data removed]",
      "text/plain": [
       "<Figure size 432x288 with 1 Axes>"
      ]
     },
     "metadata": {
      "needs_background": "light"
     },
     "output_type": "display_data"
    }
   ],
   "source": [
    "plt.imshow(aug.augment_image(to_numpy(tr_images[0])), cmap = \"gray\")\n",
    "plt.title(f'Shear of image by 30 degrees')\n",
    "plt.show()"
   ]
  },
  {
   "cell_type": "code",
   "execution_count": 82,
   "metadata": {},
   "outputs": [
    {
     "data": {
      "image/png": "[encoded data removed]",
      "text/plain": [
       "<Figure size 432x288 with 1 Axes>"
      ]
     },
     "metadata": {
      "needs_background": "light"
     },
     "output_type": "display_data"
    }
   ],
   "source": [
    "aug = iaa.Affine(shear=-30)\n",
    "plt.imshow(aug.augment_image(to_numpy(tr_images[0])), cmap = \"gray\")\n",
    "plt.title(f'Shear of image by 30 degrees')\n",
    "plt.show()"
   ]
  },
  {
   "attachments": {},
   "cell_type": "markdown",
   "metadata": {},
   "source": [
    "#### In the preceeding outputs, some pixels get trimmed out. Lets see how we can pad with dummy data to avoid such scenario. "
   ]
  },
  {
   "cell_type": "code",
   "execution_count": 83,
   "metadata": {},
   "outputs": [],
   "source": [
    "### fit_output is a parameter that can be utilized "
   ]
  },
  {
   "cell_type": "code",
   "execution_count": 84,
   "metadata": {},
   "outputs": [
    {
     "data": {
      "image/png": "[encoded data removed]",
      "text/plain": [
       "<Figure size 1440x1440 with 5 Axes>"
      ]
     },
     "metadata": {
      "needs_background": "light"
     },
     "output_type": "display_data"
    }
   ],
   "source": [
    "plt.figure(figsize=(20,20))\n",
    "\n",
    "\n",
    "#### original image\n",
    "plt.subplot(6,1,1)\n",
    "plt.imshow(tr_images[0], cmap='gray')\n",
    "plt.title(f'Original Image')\n",
    "plt.axis(\"off\")\n",
    "\n",
    "\n",
    "#### Scaled Image\n",
    "plt.subplot(6,1,2)\n",
    "aug = iaa.Affine(scale=2, fit_output=True)\n",
    "plt.imshow(aug.augment_image(to_numpy(tr_images[0])), cmap='gray')\n",
    "plt.title(f'Scaled Image')\n",
    "plt.axis(\"off\")\n",
    "\n",
    "\n",
    "\n",
    "#### Translation\n",
    "plt.subplot(6,1,3)\n",
    "aug = iaa.Affine(translate_px={'x':10,'y':2}, fit_output=True)\n",
    "plt.imshow(aug.augment_image(to_numpy(tr_images[0])), cmap='gray')\n",
    "plt.title(f'Translated Image')\n",
    "plt.axis(\"off\")\n",
    "\n",
    "\n",
    "\n",
    "#### Rotation\n",
    "plt.subplot(6,1,4)\n",
    "aug = iaa.Affine(rotate=45, fit_output=True)\n",
    "plt.imshow(aug.augment_image(to_numpy(tr_images[0])), cmap='gray')\n",
    "plt.title(f'Rotated Image')\n",
    "plt.axis(\"off\")\n",
    "\n",
    "\n",
    "#### Shear Image\n",
    "plt.subplot(6,1,5)\n",
    "aug = iaa.Affine(shear=30, fit_output=True)\n",
    "plt.imshow(aug.augment_image(to_numpy(tr_images[0])), cmap='gray')\n",
    "plt.title(f'Shear Image')\n",
    "plt.axis(\"off\")\n",
    "\n",
    "\n",
    "plt.show()"
   ]
  },
  {
   "attachments": {},
   "cell_type": "markdown",
   "metadata": {},
   "source": [
    "#### cval parameters : how to fill the padded pixels"
   ]
  },
  {
   "cell_type": "code",
   "execution_count": 85,
   "metadata": {},
   "outputs": [
    {
     "data": {
      "image/png": "[encoded data removed]",
      "text/plain": [
       "<Figure size 1440x1440 with 5 Axes>"
      ]
     },
     "metadata": {
      "needs_background": "light"
     },
     "output_type": "display_data"
    }
   ],
   "source": [
    "plt.figure(figsize=(20,20))\n",
    "\n",
    "\n",
    "#### original image\n",
    "plt.subplot(6,1,1)\n",
    "plt.imshow(tr_images[0], cmap='gray')\n",
    "plt.title(f'Original Image')\n",
    "plt.axis(\"off\")\n",
    "\n",
    "\n",
    "#### Scaled Image\n",
    "plt.subplot(6,1,2)\n",
    "aug = iaa.Affine(scale=2, fit_output=True, cval=255)\n",
    "plt.imshow(aug.augment_image(to_numpy(tr_images[0])), cmap='gray')\n",
    "plt.title(f'Scaled Image')\n",
    "plt.axis(\"off\")\n",
    "\n",
    "\n",
    "\n",
    "#### Translation\n",
    "plt.subplot(6,1,3)\n",
    "aug = iaa.Affine(translate_px={'x':10,'y':2}, fit_output=True, cval=255)\n",
    "plt.imshow(aug.augment_image(to_numpy(tr_images[0])), cmap='gray')\n",
    "plt.title(f'Translated Image')\n",
    "plt.axis(\"off\")\n",
    "\n",
    "\n",
    "\n",
    "#### Rotation\n",
    "plt.subplot(6,1,4)\n",
    "aug = iaa.Affine(rotate=45, fit_output=True, cval = 255)\n",
    "plt.imshow(aug.augment_image(to_numpy(tr_images[0])), cmap='gray')\n",
    "plt.title(f'Rotated Image')\n",
    "plt.axis(\"off\")\n",
    "\n",
    "\n",
    "#### Shear Image\n",
    "plt.subplot(6,1,5)\n",
    "aug = iaa.Affine(shear=30, fit_output=True, cval=255)\n",
    "plt.imshow(aug.augment_image(to_numpy(tr_images[0])), cmap='gray')\n",
    "plt.title(f'Shear Image')\n",
    "plt.axis(\"off\")\n",
    "\n",
    "\n",
    "plt.show()\n",
    "\n",
    "\n",
    "### have filled up with white pixels, by default 0 is added while augmenting."
   ]
  },
  {
   "attachments": {},
   "cell_type": "markdown",
   "metadata": {},
   "source": [
    "##### Can pad with different modes\n",
    "\n",
    "\n",
    "1. constant\n",
    "2. edge\n",
    "3. symmetric\n",
    "4. reflect\n",
    "5. wrap\n"
   ]
  },
  {
   "attachments": {},
   "cell_type": "markdown",
   "metadata": {},
   "source": [
    "#### Specifying range to perform rotation"
   ]
  },
  {
   "cell_type": "code",
   "execution_count": 86,
   "metadata": {},
   "outputs": [
    {
     "data": {
      "text/plain": [
       "<matplotlib.image.AxesImage at 0x264a565e340>"
      ]
     },
     "execution_count": 86,
     "metadata": {},
     "output_type": "execute_result"
    },
    {
     "data": {
      "image/png": "[encoded data removed]",
      "text/plain": [
       "<Figure size 1440x1440 with 4 Axes>"
      ]
     },
     "metadata": {
      "needs_background": "light"
     },
     "output_type": "display_data"
    }
   ],
   "source": [
    "\n",
    "\n",
    "plt.figure(figsize=(20,20))\n",
    "plt.subplot(151)\n",
    "aug = iaa.Affine(rotate=(-45,45), fit_output=True, cval=0, mode='constant')\n",
    "plt.imshow(aug.augment_image(to_numpy(tr_images[0])), cmap='gray')\n",
    "plt.subplot(152)\n",
    "aug = iaa.Affine(rotate=(-45,45), fit_output=True, cval=0, mode='constant')\n",
    "plt.imshow(aug.augment_image(to_numpy(tr_images[0])), cmap='gray')\n",
    "plt.subplot(153)\n",
    "aug = iaa.Affine(rotate=(-45,45), fit_output=True, cval=0, mode='constant')\n",
    "plt.imshow(aug.augment_image(to_numpy(tr_images[0])), cmap='gray')\n",
    "plt.subplot(154)\n",
    "aug = iaa.Affine(rotate=(-45,45), fit_output=True, cval=0, mode='constant')\n",
    "plt.imshow(aug.augment_image(to_numpy(tr_images[0])), cmap='gray')\n",
    "\n"
   ]
  },
  {
   "attachments": {},
   "cell_type": "markdown",
   "metadata": {},
   "source": [
    "### specifying range for translation"
   ]
  },
  {
   "cell_type": "code",
   "execution_count": 87,
   "metadata": {},
   "outputs": [
    {
     "data": {
      "text/plain": [
       "<matplotlib.image.AxesImage at 0x264ba03a970>"
      ]
     },
     "execution_count": 87,
     "metadata": {},
     "output_type": "execute_result"
    },
    {
     "data": {
      "image/png": "[encoded data removed]",
      "text/plain": [
       "<Figure size 432x288 with 1 Axes>"
      ]
     },
     "metadata": {
      "needs_background": "light"
     },
     "output_type": "display_data"
    }
   ],
   "source": [
    "aug = iaa.Affine(translate_px=(-15,15), mode='constant')\n",
    "plt.imshow(aug.augment_image(to_numpy(tr_images[0])), cmap='gray')"
   ]
  },
  {
   "attachments": {},
   "cell_type": "markdown",
   "metadata": {},
   "source": [
    "## Changing Brightness:\n",
    "\n",
    "Really helps when foreground and background are not that distinct.\n",
    "\n",
    "Two ways:\n",
    "\n",
    "1. Multiply: multiply each pixel by a given value.\n",
    "\n",
    "2. LinearContrast: adjusts each pixel on the basis of the given formula:\n",
    "            \n",
    "            127 + alpha*(pixel_value - 127). \n",
    "            \n",
    "            If alpha < 1, then low pixel values are increased and high pixel values are reduced"
   ]
  },
  {
   "cell_type": "code",
   "execution_count": 88,
   "metadata": {},
   "outputs": [
    {
     "data": {
      "image/png": "[encoded data removed]",
      "text/plain": [
       "<Figure size 432x288 with 1 Axes>"
      ]
     },
     "metadata": {
      "needs_background": "light"
     },
     "output_type": "display_data"
    }
   ],
   "source": [
    "aug = iaa.Multiply(1)\n",
    "plt.imshow(aug.augment_image(to_numpy(tr_images[0])), cmap = \"gray\", vmin = 0, vmax =255)\n",
    "plt.title(\"scale of 1 --- no change\")\n",
    "plt.show()"
   ]
  },
  {
   "cell_type": "code",
   "execution_count": 89,
   "metadata": {},
   "outputs": [
    {
     "data": {
      "image/png": "[encoded data removed]",
      "text/plain": [
       "<Figure size 432x288 with 1 Axes>"
      ]
     },
     "metadata": {
      "needs_background": "light"
     },
     "output_type": "display_data"
    }
   ],
   "source": [
    "aug = iaa.Multiply(0.5)\n",
    "plt.imshow(aug.augment_image(to_numpy(tr_images[0])), cmap = \"gray\", vmin=0, vmax = 255)\n",
    "plt.title(\"scale of 0.5 --- slightly dim\")\n",
    "plt.show()"
   ]
  },
  {
   "cell_type": "code",
   "execution_count": 90,
   "metadata": {},
   "outputs": [
    {
     "data": {
      "image/png": "[encoded data removed]",
      "text/plain": [
       "<Figure size 432x288 with 1 Axes>"
      ]
     },
     "metadata": {
      "needs_background": "light"
     },
     "output_type": "display_data"
    }
   ],
   "source": [
    "aug = iaa.Multiply(0.1)\n",
    "plt.imshow(aug.augment_image(to_numpy(tr_images[0])), cmap = \"gray\", vmin = 0, vmax = 255)\n",
    "plt.title(\"scale of 0.1 --- more dim\")\n",
    "plt.show()"
   ]
  },
  {
   "cell_type": "code",
   "execution_count": null,
   "metadata": {},
   "outputs": [],
   "source": []
  },
  {
   "cell_type": "code",
   "execution_count": 91,
   "metadata": {},
   "outputs": [
    {
     "data": {
      "image/png": "[encoded data removed]",
      "text/plain": [
       "<Figure size 432x288 with 1 Axes>"
      ]
     },
     "metadata": {
      "needs_background": "light"
     },
     "output_type": "display_data"
    }
   ],
   "source": [
    "aug = iaa.LinearContrast(0.5)\n",
    "plt.imshow(aug.augment_image(to_numpy(tr_images[0])), cmap = \"gray\", vmin = 0, vmax = 255)\n",
    "plt.title(\"Linear Contrast\")\n",
    "plt.show()"
   ]
  },
  {
   "cell_type": "code",
   "execution_count": 92,
   "metadata": {},
   "outputs": [],
   "source": [
    "###### vmin: min data value, vmax: max data value"
   ]
  },
  {
   "attachments": {},
   "cell_type": "markdown",
   "metadata": {},
   "source": [
    "### Gaussian Blur\n",
    "\n",
    "This is a a realistic scenario where image can be blurred due to motion"
   ]
  },
  {
   "cell_type": "code",
   "execution_count": 93,
   "metadata": {},
   "outputs": [
    {
     "data": {
      "image/png": "[encoded data removed]",
      "text/plain": [
       "<Figure size 432x288 with 1 Axes>"
      ]
     },
     "metadata": {
      "needs_background": "light"
     },
     "output_type": "display_data"
    }
   ],
   "source": [
    "aug = iaa.GaussianBlur(1)\n",
    "plt.imshow(aug.augment_image(to_numpy(tr_images[0])), cmap = \"gray\", vmin = 0, vmax = 255)\n",
    "\n",
    "plt.show()\n"
   ]
  },
  {
   "cell_type": "code",
   "execution_count": 94,
   "metadata": {},
   "outputs": [
    {
     "name": "stdout",
     "output_type": "stream",
     "text": [
      "\u001b[1;31mInit signature:\u001b[0m\n",
      "\u001b[0miaa\u001b[0m\u001b[1;33m.\u001b[0m\u001b[0mGaussianBlur\u001b[0m\u001b[1;33m(\u001b[0m\u001b[1;33m\n",
      "\u001b[0m    \u001b[0msigma\u001b[0m\u001b[1;33m=\u001b[0m\u001b[1;33m(\u001b[0m\u001b[1;36m0.0\u001b[0m\u001b[1;33m,\u001b[0m \u001b[1;36m3.0\u001b[0m\u001b[1;33m)\u001b[0m\u001b[1;33m,\u001b[0m\u001b[1;33m\n",
      "\u001b[0m    \u001b[0mseed\u001b[0m\u001b[1;33m=\u001b[0m\u001b[1;32mNone\u001b[0m\u001b[1;33m,\u001b[0m\u001b[1;33m\n",
      "\u001b[0m    \u001b[0mname\u001b[0m\u001b[1;33m=\u001b[0m\u001b[1;32mNone\u001b[0m\u001b[1;33m,\u001b[0m\u001b[1;33m\n",
      "\u001b[0m    \u001b[0mrandom_state\u001b[0m\u001b[1;33m=\u001b[0m\u001b[1;34m'deprecated'\u001b[0m\u001b[1;33m,\u001b[0m\u001b[1;33m\n",
      "\u001b[0m    \u001b[0mdeterministic\u001b[0m\u001b[1;33m=\u001b[0m\u001b[1;34m'deprecated'\u001b[0m\u001b[1;33m,\u001b[0m\u001b[1;33m\n",
      "\u001b[0m\u001b[1;33m)\u001b[0m\u001b[1;33m\u001b[0m\u001b[1;33m\u001b[0m\u001b[0m\n",
      "\u001b[1;31mDocstring:\u001b[0m     \n",
      "Augmenter to blur images using gaussian kernels.\n",
      "\n",
      "**Supported dtypes**:\n",
      "\n",
      "See ``~imgaug.augmenters.blur.blur_gaussian_(backend=\"auto\")``.\n",
      "\n",
      "Parameters\n",
      "----------\n",
      "sigma : number or tuple of number or list of number or imgaug.parameters.StochasticParameter, optional\n",
      "    Standard deviation of the gaussian kernel.\n",
      "    Values in the range ``0.0`` (no blur) to ``3.0`` (strong blur) are\n",
      "    common.\n",
      "\n",
      "        * If a single ``float``, that value will always be used as the\n",
      "          standard deviation.\n",
      "        * If a tuple ``(a, b)``, then a random value from the interval\n",
      "          ``[a, b]`` will be picked per image.\n",
      "        * If a list, then a random value will be sampled per image from\n",
      "          that list.\n",
      "        * If a ``StochasticParameter``, then ``N`` samples will be drawn\n",
      "          from that parameter per ``N`` input images.\n",
      "\n",
      "seed : None or int or imgaug.random.RNG or numpy.random.Generator or numpy.random.BitGenerator or numpy.random.SeedSequence or numpy.random.RandomState, optional\n",
      "    See :func:`~imgaug.augmenters.meta.Augmenter.__init__`.\n",
      "\n",
      "name : None or str, optional\n",
      "    See :func:`~imgaug.augmenters.meta.Augmenter.__init__`.\n",
      "\n",
      "random_state : None or int or imgaug.random.RNG or numpy.random.Generator or numpy.random.BitGenerator or numpy.random.SeedSequence or numpy.random.RandomState, optional\n",
      "    Old name for parameter `seed`.\n",
      "    Its usage will not yet cause a deprecation warning,\n",
      "    but it is still recommended to use `seed` now.\n",
      "    Outdated since 0.4.0.\n",
      "\n",
      "deterministic : bool, optional\n",
      "    Deprecated since 0.4.0.\n",
      "    See method ``to_deterministic()`` for an alternative and for\n",
      "    details about what the \"deterministic mode\" actually does.\n",
      "\n",
      "Examples\n",
      "--------\n",
      ">>> import imgaug.augmenters as iaa\n",
      ">>> aug = iaa.GaussianBlur(sigma=1.5)\n",
      "\n",
      "Blur all images using a gaussian kernel with a standard deviation of\n",
      "``1.5``.\n",
      "\n",
      ">>> aug = iaa.GaussianBlur(sigma=(0.0, 3.0))\n",
      "\n",
      "Blur images using a gaussian kernel with a random standard deviation\n",
      "sampled uniformly (per image) from the interval ``[0.0, 3.0]``.\n",
      "\u001b[1;31mInit docstring:\u001b[0m Create a new Augmenter instance.\n",
      "\u001b[1;31mFile:\u001b[0m           c:\\users\\rachi\\anaconda3\\lib\\site-packages\\imgaug\\augmenters\\blur.py\n",
      "\u001b[1;31mType:\u001b[0m           ABCMeta\n",
      "\u001b[1;31mSubclasses:\u001b[0m     \n"
     ]
    }
   ],
   "source": [
    "iaa.GaussianBlur?"
   ]
  },
  {
   "attachments": {},
   "cell_type": "markdown",
   "metadata": {},
   "source": [
    "## Adding noise\n",
    "\n",
    "In real world, we can get grainy pictures due to bad photography. \n",
    "\n",
    "To replicate this, we can use dropout and salt and peeper"
   ]
  },
  {
   "cell_type": "code",
   "execution_count": 95,
   "metadata": {},
   "outputs": [
    {
     "data": {
      "image/png": "[encoded data removed]",
      "text/plain": [
       "<Figure size 432x288 with 1 Axes>"
      ]
     },
     "metadata": {
      "needs_background": "light"
     },
     "output_type": "display_data"
    }
   ],
   "source": [
    "### Dropout\n",
    "\n",
    "aug = iaa.Dropout(0.25)  ## randomly selects pixels that should be made inactive(black)\n",
    "\n",
    "plt.imshow(aug.augment_image(to_numpy(tr_images[0])), cmap = \"gray\", vmin = 0, vmax = 255)\n",
    "\n",
    "plt.show()\n"
   ]
  },
  {
   "cell_type": "code",
   "execution_count": 96,
   "metadata": {},
   "outputs": [
    {
     "name": "stdout",
     "output_type": "stream",
     "text": [
      "\u001b[1;31mInit signature:\u001b[0m\n",
      "\u001b[0miaa\u001b[0m\u001b[1;33m.\u001b[0m\u001b[0mSaltAndPepper\u001b[0m\u001b[1;33m(\u001b[0m\u001b[1;33m\n",
      "\u001b[0m    \u001b[0mp\u001b[0m\u001b[1;33m=\u001b[0m\u001b[1;33m(\u001b[0m\u001b[1;36m0.0\u001b[0m\u001b[1;33m,\u001b[0m \u001b[1;36m0.03\u001b[0m\u001b[1;33m)\u001b[0m\u001b[1;33m,\u001b[0m\u001b[1;33m\n",
      "\u001b[0m    \u001b[0mper_channel\u001b[0m\u001b[1;33m=\u001b[0m\u001b[1;32mFalse\u001b[0m\u001b[1;33m,\u001b[0m\u001b[1;33m\n",
      "\u001b[0m    \u001b[0mseed\u001b[0m\u001b[1;33m=\u001b[0m\u001b[1;32mNone\u001b[0m\u001b[1;33m,\u001b[0m\u001b[1;33m\n",
      "\u001b[0m    \u001b[0mname\u001b[0m\u001b[1;33m=\u001b[0m\u001b[1;32mNone\u001b[0m\u001b[1;33m,\u001b[0m\u001b[1;33m\n",
      "\u001b[0m    \u001b[0mrandom_state\u001b[0m\u001b[1;33m=\u001b[0m\u001b[1;34m'deprecated'\u001b[0m\u001b[1;33m,\u001b[0m\u001b[1;33m\n",
      "\u001b[0m    \u001b[0mdeterministic\u001b[0m\u001b[1;33m=\u001b[0m\u001b[1;34m'deprecated'\u001b[0m\u001b[1;33m,\u001b[0m\u001b[1;33m\n",
      "\u001b[0m\u001b[1;33m)\u001b[0m\u001b[1;33m\u001b[0m\u001b[1;33m\u001b[0m\u001b[0m\n",
      "\u001b[1;31mDocstring:\u001b[0m     \n",
      "Replace pixels in images with salt/pepper noise (white/black-ish colors).\n",
      "\n",
      "**Supported dtypes**:\n",
      "\n",
      "See :class:`~imgaug.augmenters.arithmetic.ReplaceElementwise`.\n",
      "\n",
      "Parameters\n",
      "----------\n",
      "p : float or tuple of float or list of float or imgaug.parameters.StochasticParameter, optional\n",
      "    Probability of replacing a pixel to salt/pepper noise.\n",
      "\n",
      "        * If a float, then that value will always be used as the\n",
      "          probability.\n",
      "        * If a tuple ``(a, b)``, then a probability will be sampled\n",
      "          uniformly per image from the interval ``[a, b]``.\n",
      "        * If a list, then a random value will be sampled from that list\n",
      "          per image.\n",
      "        * If a ``StochasticParameter``, then a image-sized mask will be\n",
      "          sampled from that parameter per image. Any value ``>0.5`` in\n",
      "          that mask will be replaced with salt and pepper noise.\n",
      "\n",
      "per_channel : bool or float or imgaug.parameters.StochasticParameter, optional\n",
      "    Whether to use (imagewise) the same sample(s) for all\n",
      "    channels (``False``) or to sample value(s) for each channel (``True``).\n",
      "    Setting this to ``True`` will therefore lead to different\n",
      "    transformations per image *and* channel, otherwise only per image.\n",
      "    If this value is a float ``p``, then for ``p`` percent of all images\n",
      "    `per_channel` will be treated as ``True``.\n",
      "    If it is a ``StochasticParameter`` it is expected to produce samples\n",
      "    with values between ``0.0`` and ``1.0``, where values ``>0.5`` will\n",
      "    lead to per-channel behaviour (i.e. same as ``True``).\n",
      "\n",
      "seed : None or int or imgaug.random.RNG or numpy.random.Generator or numpy.random.BitGenerator or numpy.random.SeedSequence or numpy.random.RandomState, optional\n",
      "    See :func:`~imgaug.augmenters.meta.Augmenter.__init__`.\n",
      "\n",
      "name : None or str, optional\n",
      "    See :func:`~imgaug.augmenters.meta.Augmenter.__init__`.\n",
      "\n",
      "random_state : None or int or imgaug.random.RNG or numpy.random.Generator or numpy.random.BitGenerator or numpy.random.SeedSequence or numpy.random.RandomState, optional\n",
      "    Old name for parameter `seed`.\n",
      "    Its usage will not yet cause a deprecation warning,\n",
      "    but it is still recommended to use `seed` now.\n",
      "    Outdated since 0.4.0.\n",
      "\n",
      "deterministic : bool, optional\n",
      "    Deprecated since 0.4.0.\n",
      "    See method ``to_deterministic()`` for an alternative and for\n",
      "    details about what the \"deterministic mode\" actually does.\n",
      "\n",
      "Examples\n",
      "--------\n",
      ">>> import imgaug.augmenters as iaa\n",
      ">>> aug = iaa.SaltAndPepper(0.05)\n",
      "\n",
      "Replace ``5%`` of all pixels with salt and pepper noise.\n",
      "\n",
      ">>> import imgaug.augmenters as iaa\n",
      ">>> aug = iaa.SaltAndPepper(0.05, per_channel=True)\n",
      "\n",
      "Replace *channelwise* ``5%`` of all pixels with salt and pepper\n",
      "noise.\n",
      "\u001b[1;31mInit docstring:\u001b[0m Create a new Augmenter instance.\n",
      "\u001b[1;31mFile:\u001b[0m           c:\\users\\rachi\\anaconda3\\lib\\site-packages\\imgaug\\augmenters\\arithmetic.py\n",
      "\u001b[1;31mType:\u001b[0m           ABCMeta\n",
      "\u001b[1;31mSubclasses:\u001b[0m     ImpulseNoise\n"
     ]
    }
   ],
   "source": [
    "## Salt and pepper: Adds randomly whitish and blackish pixels\n",
    "\n",
    "\n",
    "iaa.SaltAndPepper?"
   ]
  },
  {
   "cell_type": "code",
   "execution_count": 97,
   "metadata": {},
   "outputs": [
    {
     "data": {
      "image/png": "[encoded data removed]",
      "text/plain": [
       "<Figure size 432x288 with 1 Axes>"
      ]
     },
     "metadata": {
      "needs_background": "light"
     },
     "output_type": "display_data"
    }
   ],
   "source": [
    "aug = iaa.SaltAndPepper(0.3)\n",
    "plt.imshow(aug.augment_image(to_numpy(tr_images[0])), cmap = \"gray\", vmin = 0, vmax = 255)\n",
    "\n",
    "plt.show()\n"
   ]
  },
  {
   "attachments": {},
   "cell_type": "markdown",
   "metadata": {},
   "source": [
    "# Sequence of Augmentations"
   ]
  },
  {
   "cell_type": "code",
   "execution_count": 98,
   "metadata": {},
   "outputs": [],
   "source": [
    "seq = iaa.Sequential(\n",
    "    [\n",
    "        iaa.Dropout(0.1),\n",
    "        iaa.Affine(translate_px=(-10,10))\n",
    "    ],\n",
    "    random_order =True\n",
    ")"
   ]
  },
  {
   "cell_type": "code",
   "execution_count": 99,
   "metadata": {},
   "outputs": [],
   "source": [
    "### random_order == True specifies that transformation will be applied randomly"
   ]
  },
  {
   "cell_type": "code",
   "execution_count": 100,
   "metadata": {},
   "outputs": [
    {
     "data": {
      "image/png": "[encoded data removed]",
      "text/plain": [
       "<Figure size 432x288 with 1 Axes>"
      ]
     },
     "metadata": {
      "needs_background": "light"
     },
     "output_type": "display_data"
    }
   ],
   "source": [
    "plt.imshow(seq.augment_image(to_numpy(tr_images[0])), cmap = \"gray\")\n",
    "plt.show()"
   ]
  },
  {
   "attachments": {},
   "cell_type": "markdown",
   "metadata": {},
   "source": [
    "# Augmentation for model training\n",
    "\n",
    "output of augmentatu=ion: numpy array\n",
    "\n",
    "Two options:\n",
    "\n",
    "1. At runtime ----> will use it here, randomly generates augmentations, to make the model learn better. __getitem_ method\n",
    "2. Before runtime ----> Can help us if we have imbalanced dataset. __init_ method.\n",
    "\n",
    "\n",
    "Runtime Augmentation:\n",
    "\n",
    "1. One image at a time: Very time consuming\n",
    "\n",
    "2. Augmenting batch of images: can be ||ised. Faster.\n",
    "\n",
    "    __getitem_ method returns index of single element only. To operate on batch of images, we utilise colate fn.\n"
   ]
  },
  {
   "attachments": {},
   "cell_type": "markdown",
   "metadata": {},
   "source": [
    "##### Writing collate fn"
   ]
  },
  {
   "cell_type": "code",
   "execution_count": 101,
   "metadata": {},
   "outputs": [],
   "source": [
    "class FMNISTdataset(Dataset):\n",
    "    \n",
    "    def __init__(self,x,y, aug =None): ## Notice aug, this specifies which augmentation pipeline should be used. None means, we will not use data augmentation\n",
    "        self.x = x\n",
    "        self.y = y\n",
    "        self.aug = aug\n",
    "        \n",
    "    def __len__(self):\n",
    "        return len(self.x)\n",
    "\n",
    "    def __getitem__(self, index):\n",
    "        return self.x[index].to(device), self.y[index].to(device)\n",
    "    \n",
    "    \n",
    "    #### This is new\n",
    "    def collate_fn(self, batch):\n",
    "        ## seperate img and classes as augmentation only to be applied on image\n",
    "        ims , classes = list(zip(*batch))\n",
    "        if self.aug: ### only apply if augmentation object has been provided. Will be passed from dataloader\n",
    "            ims = self.aug.augment_images(images = ims) ## augmentation, returns numpy array\n",
    "            ## convert to tensor\n",
    "            ims = torch.tensor(ims)[:,None,:,:].to(device)/255\n",
    "            classes = torch.tensor(classes).to(device)\n",
    "            return ims, classes\n",
    "        \n",
    "                                \n",
    "\n",
    "    \n",
    "            "
   ]
  },
  {
   "cell_type": "code",
   "execution_count": 102,
   "metadata": {},
   "outputs": [
    {
     "data": {
      "text/plain": [
       "[(1, 4), (2, 5), (3, 6)]"
      ]
     },
     "execution_count": 102,
     "metadata": {},
     "output_type": "execute_result"
    }
   ],
   "source": [
    "a = [1,2,3]\n",
    "b = [4,5,6]\n",
    "\n",
    "list(zip(a,b))"
   ]
  },
  {
   "cell_type": "code",
   "execution_count": 103,
   "metadata": {},
   "outputs": [],
   "source": [
    "batch = zip([[1,2,3,4],[4,5,6,7]])"
   ]
  },
  {
   "cell_type": "code",
   "execution_count": 104,
   "metadata": {},
   "outputs": [
    {
     "data": {
      "text/plain": [
       "[([1, 2, 3, 4],), ([4, 5, 6, 7],)]"
      ]
     },
     "execution_count": 104,
     "metadata": {},
     "output_type": "execute_result"
    }
   ],
   "source": [
    "list(batch)"
   ]
  },
  {
   "attachments": {},
   "cell_type": "markdown",
   "metadata": {},
   "source": [
    "#### We utilize collate_fn, when we want to perform heavy computations as doing so on a batch is quicker compared to doing it 1 by 1.\n",
    "\n",
    "\n",
    "Will use collate_fn while creating object of dataset. Will always have to pass collate_fn arguement in Dataloader if going via this route"
   ]
  },
  {
   "attachments": {},
   "cell_type": "markdown",
   "metadata": {},
   "source": [
    "# Data Augmentation on FMNIST "
   ]
  },
  {
   "cell_type": "code",
   "execution_count": 105,
   "metadata": {},
   "outputs": [],
   "source": [
    "import imgaug\n",
    "from imgaug import augmenters as iaa"
   ]
  },
  {
   "cell_type": "code",
   "execution_count": 106,
   "metadata": {},
   "outputs": [
    {
     "name": "stdout",
     "output_type": "stream",
     "text": [
      "\u001b[1;31mInit signature:\u001b[0m\n",
      "\u001b[0miaa\u001b[0m\u001b[1;33m.\u001b[0m\u001b[0mSequential\u001b[0m\u001b[1;33m(\u001b[0m\u001b[1;33m\n",
      "\u001b[0m    \u001b[0mchildren\u001b[0m\u001b[1;33m=\u001b[0m\u001b[1;32mNone\u001b[0m\u001b[1;33m,\u001b[0m\u001b[1;33m\n",
      "\u001b[0m    \u001b[0mrandom_order\u001b[0m\u001b[1;33m=\u001b[0m\u001b[1;32mFalse\u001b[0m\u001b[1;33m,\u001b[0m\u001b[1;33m\n",
      "\u001b[0m    \u001b[0mseed\u001b[0m\u001b[1;33m=\u001b[0m\u001b[1;32mNone\u001b[0m\u001b[1;33m,\u001b[0m\u001b[1;33m\n",
      "\u001b[0m    \u001b[0mname\u001b[0m\u001b[1;33m=\u001b[0m\u001b[1;32mNone\u001b[0m\u001b[1;33m,\u001b[0m\u001b[1;33m\n",
      "\u001b[0m    \u001b[0mrandom_state\u001b[0m\u001b[1;33m=\u001b[0m\u001b[1;34m'deprecated'\u001b[0m\u001b[1;33m,\u001b[0m\u001b[1;33m\n",
      "\u001b[0m    \u001b[0mdeterministic\u001b[0m\u001b[1;33m=\u001b[0m\u001b[1;34m'deprecated'\u001b[0m\u001b[1;33m,\u001b[0m\u001b[1;33m\n",
      "\u001b[0m\u001b[1;33m)\u001b[0m\u001b[1;33m\u001b[0m\u001b[1;33m\u001b[0m\u001b[0m\n",
      "\u001b[1;31mDocstring:\u001b[0m     \n",
      "List augmenter containing child augmenters to apply to inputs.\n",
      "\n",
      "This augmenter is simply a list of other augmenters. To augment an image\n",
      "or any other data, it iterates over its children and applies each one\n",
      "of them independently to the data. (This also means that the second\n",
      "applied augmenter will already receive augmented input data and augment\n",
      "it further.)\n",
      "\n",
      "This augmenter offers the option to apply its children in random order\n",
      "using the `random_order` parameter. This should often be activated as\n",
      "it greatly increases the space of possible augmentations.\n",
      "\n",
      ".. note::\n",
      "\n",
      "    You are *not* forced to use :class:`~imgaug.augmenters.meta.Sequential`\n",
      "    in order to use other augmenters. Each augmenter can be used on its\n",
      "    own, e.g the following defines an augmenter for horizontal flips and\n",
      "    then augments a single image:\n",
      "\n",
      "    >>> import numpy as np\n",
      "    >>> import imgaug.augmenters as iaa\n",
      "    >>> image = np.zeros((32, 32, 3), dtype=np.uint8)\n",
      "    >>> aug = iaa.Fliplr(0.5)\n",
      "    >>> image_aug = aug.augment_image(image)\n",
      "\n",
      "**Supported dtypes**:\n",
      "\n",
      "    * ``uint8``: yes; fully tested\n",
      "    * ``uint16``: yes; tested\n",
      "    * ``uint32``: yes; tested\n",
      "    * ``uint64``: yes; tested\n",
      "    * ``int8``: yes; tested\n",
      "    * ``int16``: yes; tested\n",
      "    * ``int32``: yes; tested\n",
      "    * ``int64``: yes; tested\n",
      "    * ``float16``: yes; tested\n",
      "    * ``float32``: yes; tested\n",
      "    * ``float64``: yes; tested\n",
      "    * ``float128``: yes; tested\n",
      "    * ``bool``: yes; tested\n",
      "\n",
      "Parameters\n",
      "----------\n",
      "children : imgaug.augmenters.meta.Augmenter or list of imgaug.augmenters.meta.Augmenter or None, optional\n",
      "    The augmenters to apply to images.\n",
      "\n",
      "random_order : bool, optional\n",
      "    Whether to apply the child augmenters in random order.\n",
      "    If ``True``, the order will be randomly sampled once per batch.\n",
      "\n",
      "seed : None or int or imgaug.random.RNG or numpy.random.Generator or numpy.random.BitGenerator or numpy.random.SeedSequence or numpy.random.RandomState, optional\n",
      "    See :func:`~imgaug.augmenters.meta.Augmenter.__init__`.\n",
      "\n",
      "name : None or str, optional\n",
      "    See :func:`~imgaug.augmenters.meta.Augmenter.__init__`.\n",
      "\n",
      "random_state : None or int or imgaug.random.RNG or numpy.random.Generator or numpy.random.BitGenerator or numpy.random.SeedSequence or numpy.random.RandomState, optional\n",
      "    Old name for parameter `seed`.\n",
      "    Its usage will not yet cause a deprecation warning,\n",
      "    but it is still recommended to use `seed` now.\n",
      "    Outdated since 0.4.0.\n",
      "\n",
      "deterministic : bool, optional\n",
      "    Deprecated since 0.4.0.\n",
      "    See method ``to_deterministic()`` for an alternative and for\n",
      "    details about what the \"deterministic mode\" actually does.\n",
      "\n",
      "Examples\n",
      "--------\n",
      ">>> import numpy as np\n",
      ">>> import imgaug.augmenters as iaa\n",
      ">>> imgs = [np.random.rand(10, 10)]\n",
      ">>> seq = iaa.Sequential([\n",
      ">>>     iaa.Fliplr(0.5),\n",
      ">>>     iaa.Flipud(0.5)\n",
      ">>> ])\n",
      ">>> imgs_aug = seq.augment_images(imgs)\n",
      "\n",
      "Create a :class:`~imgaug.augmenters.meta.Sequential` that always first\n",
      "applies a horizontal flip augmenter and then a vertical flip augmenter.\n",
      "Each of these two augmenters has a ``50%`` probability of actually\n",
      "flipping the image.\n",
      "\n",
      ">>> seq = iaa.Sequential([\n",
      ">>>     iaa.Fliplr(0.5),\n",
      ">>>     iaa.Flipud(0.5)\n",
      ">>> ], random_order=True)\n",
      ">>> imgs_aug = seq.augment_images(imgs)\n",
      "\n",
      "Create a :class:`~imgaug.augmenters.meta.Sequential` that sometimes first\n",
      "applies a horizontal flip augmenter (followed by a vertical flip\n",
      "augmenter) and sometimes first a vertical flip augmenter (followed by a\n",
      "horizontal flip augmenter). Again, each of them has a ``50%`` probability\n",
      "of actually flipping the image.\n",
      "\u001b[1;31mInit docstring:\u001b[0m Create a new Augmenter instance.\n",
      "\u001b[1;31mFile:\u001b[0m           c:\\users\\rachi\\anaconda3\\lib\\site-packages\\imgaug\\augmenters\\meta.py\n",
      "\u001b[1;31mType:\u001b[0m           ABCMeta\n",
      "\u001b[1;31mSubclasses:\u001b[0m     RandAugment\n"
     ]
    }
   ],
   "source": [
    "iaa.Sequential?"
   ]
  },
  {
   "cell_type": "code",
   "execution_count": 107,
   "metadata": {},
   "outputs": [],
   "source": [
    "aug = iaa.Sequential(\n",
    "    [\n",
    "        iaa.Affine(translate_px={'x':(-10,10)}, mode='constant')\n",
    "    ]\n",
    "    \n",
    ")"
   ]
  },
  {
   "cell_type": "code",
   "execution_count": 108,
   "metadata": {},
   "outputs": [],
   "source": [
    "device = \"cuda\" if torch.cuda.is_available() else \"cpu\""
   ]
  },
  {
   "cell_type": "code",
   "execution_count": 109,
   "metadata": {},
   "outputs": [
    {
     "data": {
      "text/plain": [
       "'cuda'"
      ]
     },
     "execution_count": 109,
     "metadata": {},
     "output_type": "execute_result"
    }
   ],
   "source": [
    "device"
   ]
  },
  {
   "cell_type": "code",
   "execution_count": 238,
   "metadata": {},
   "outputs": [],
   "source": [
    "class FMNISTdataset(Dataset):\n",
    "    def __init__(self, x, y, aug = None):\n",
    "        # self.x = x.float()/255\n",
    "        #self.x - self.x.view(-1,1,28,28)\n",
    "        self.x = x\n",
    "        self.y = y\n",
    "        self.aug = aug\n",
    "        \n",
    "    def __len__(self):\n",
    "        return len(self.x)\n",
    "    \n",
    "    def __getitem__(self, index):\n",
    "        return self.x[index], self.y[index]  ### dont register to device here else it will be done for each element sequentially and it will waste lot of time\n",
    "    \n",
    "    def collate_fn(self, batch):\n",
    "        ## seperate images and classes, \n",
    "        #print(list(zip(*batch)))\n",
    "        \n",
    "        #print(batch)\n",
    "        ims, classes = list(zip(*batch)) ## ims and classes are numpy arrays\n",
    "        ims = [image.numpy() for image in ims]\n",
    "        classes = [class_.numpy() for class_ in classes]        \n",
    "        \n",
    "        \n",
    "        \n",
    "        \n",
    "        #print(ims[0].numpy())\n",
    "        \n",
    "        ## apply augmentation if aug is not non\n",
    "        if self.aug: \n",
    "            ims = self.aug.augment_images(images = ims)\n",
    "        \n",
    "        #print(len(ims))\n",
    "        \n",
    "        #plt.imshow(ims[1], cmap = \"gray\")\n",
    "        #return(ims)\n",
    "        ### create tensors out of numpy arrays\n",
    "        \n",
    "        ims = np.asarray(ims)\n",
    "        classes = np.array(classes)\n",
    "        \n",
    "        ims = torch.tensor(ims)[:,None,:,:].to(device)/255\n",
    "        classes = torch.tensor(classes).to(device)\n",
    "            \n",
    "        return ims, classes\n",
    "        \n",
    "        \n",
    "        \n",
    "        #return batch    \n",
    "        \n",
    "        "
   ]
  },
  {
   "cell_type": "code",
   "execution_count": 239,
   "metadata": {},
   "outputs": [],
   "source": [
    "def get_model():\n",
    "    model = nn.Sequential(\n",
    "        nn.Conv2d(1,64,kernel_size =3),\n",
    "        nn.MaxPool2d(2),\n",
    "        nn.ReLU(),\n",
    "        \n",
    "        nn.Conv2d(64,128, kernel_size=3),\n",
    "        nn.MaxPool2d(2),\n",
    "        nn.ReLU(),\n",
    "        \n",
    "        nn.Flatten(), \n",
    "        \n",
    "        nn.Linear(3200, 256),\n",
    "        nn.ReLU(),\n",
    "        nn.Linear(256,10)\n",
    "        \n",
    "        \n",
    "    ).to(device)\n",
    "    \n",
    "    \n",
    "    loss_fn = nn.CrossEntropyLoss()\n",
    "    optimizer = torch.optim.Adam(model.parameters(), lr = 1e-3)\n",
    "    \n",
    "    return model, loss_fn, optimizer"
   ]
  },
  {
   "cell_type": "code",
   "execution_count": 240,
   "metadata": {},
   "outputs": [],
   "source": [
    "model,loss_fn,optimizer = get_model()"
   ]
  },
  {
   "cell_type": "code",
   "execution_count": 241,
   "metadata": {},
   "outputs": [],
   "source": [
    "from torchsummary import summary"
   ]
  },
  {
   "cell_type": "code",
   "execution_count": 242,
   "metadata": {},
   "outputs": [
    {
     "name": "stdout",
     "output_type": "stream",
     "text": [
      "==========================================================================================\n",
      "Layer (type:depth-idx)                   Output Shape              Param #\n",
      "==========================================================================================\n",
      "└─Conv2d: 0-1                            [-1, 64, 26, 26]          640\n",
      "==========================================================================================\n",
      "Total params: 640\n",
      "Trainable params: 640\n",
      "Non-trainable params: 0\n",
      "Total mult-adds (M): 0.39\n",
      "==========================================================================================\n",
      "Input size (MB): 0.00\n",
      "Forward/backward pass size (MB): 0.33\n",
      "Params size (MB): 0.00\n",
      "Estimated Total Size (MB): 0.34\n",
      "==========================================================================================\n"
     ]
    },
    {
     "data": {
      "text/plain": [
       "==========================================================================================\n",
       "Layer (type:depth-idx)                   Output Shape              Param #\n",
       "==========================================================================================\n",
       "└─Conv2d: 0-1                            [-1, 64, 26, 26]          640\n",
       "==========================================================================================\n",
       "Total params: 640\n",
       "Trainable params: 640\n",
       "Non-trainable params: 0\n",
       "Total mult-adds (M): 0.39\n",
       "==========================================================================================\n",
       "Input size (MB): 0.00\n",
       "Forward/backward pass size (MB): 0.33\n",
       "Params size (MB): 0.00\n",
       "Estimated Total Size (MB): 0.34\n",
       "=========================================================================================="
      ]
     },
     "execution_count": 242,
     "metadata": {},
     "output_type": "execute_result"
    }
   ],
   "source": [
    "summary(model[0], torch.zeros(1,1,28,28))"
   ]
  },
  {
   "cell_type": "code",
   "execution_count": 243,
   "metadata": {},
   "outputs": [],
   "source": [
    "def train_batch(x,y,model, optimizer, loss_fn):\n",
    "    model.train(),\n",
    "    batch_loss = loss_fn(model(x),y)\n",
    "    batch_loss.backward()\n",
    "    optimizer.step()\n",
    "    optimizer.zero_grad()\n",
    "    \n",
    "    return batch_loss.item()"
   ]
  },
  {
   "cell_type": "code",
   "execution_count": 244,
   "metadata": {},
   "outputs": [],
   "source": [
    "import torchmetrics ### install this library if not downloaded already"
   ]
  },
  {
   "cell_type": "code",
   "execution_count": 245,
   "metadata": {},
   "outputs": [],
   "source": [
    "from torchmetrics.classification import MulticlassAccuracy"
   ]
  },
  {
   "cell_type": "code",
   "execution_count": 246,
   "metadata": {},
   "outputs": [],
   "source": [
    "@torch.no_grad()\n",
    "def accuracy(x,y,model):\n",
    "    model.eval()\n",
    "    prediction = model(x)\n",
    "    max_values , argmaxes = prediction.max(-1)\n",
    "    #print(prediction)\n",
    "    \n",
    "    is_correct = argmaxes==y\n",
    "    #print(is_correct)\n",
    "    \n",
    "    return is_correct.cpu().numpy().tolist()\n",
    "    "
   ]
  },
  {
   "cell_type": "code",
   "execution_count": 247,
   "metadata": {},
   "outputs": [
    {
     "data": {
      "text/plain": [
       "10"
      ]
     },
     "execution_count": 247,
     "metadata": {},
     "output_type": "execute_result"
    }
   ],
   "source": [
    "len(val_fmnist.classes)"
   ]
  },
  {
   "cell_type": "code",
   "execution_count": 248,
   "metadata": {},
   "outputs": [],
   "source": [
    "@torch.no_grad()\n",
    "def val_loss(x,y,model, loss_fn):\n",
    "    model.eval()\n",
    "    _y = model(x)\n",
    "    val_loss = loss_fn(_y,y)\n",
    "    return val_loss.item()"
   ]
  },
  {
   "cell_type": "code",
   "execution_count": 249,
   "metadata": {},
   "outputs": [
    {
     "data": {
      "text/plain": [
       "torch.Size([60000, 28, 28])"
      ]
     },
     "execution_count": 249,
     "metadata": {},
     "output_type": "execute_result"
    }
   ],
   "source": [
    "tr_images.shape"
   ]
  },
  {
   "cell_type": "code",
   "execution_count": 250,
   "metadata": {},
   "outputs": [
    {
     "data": {
      "text/plain": [
       "torch.Size([1, 28, 28])"
      ]
     },
     "execution_count": 250,
     "metadata": {},
     "output_type": "execute_result"
    }
   ],
   "source": [
    "tr_images[:1].shape"
   ]
  },
  {
   "cell_type": "code",
   "execution_count": 251,
   "metadata": {},
   "outputs": [],
   "source": [
    "def get_data():\n",
    "    train = FMNISTdataset(tr_images,tr_targets,aug = aug) ### passing aug object\n",
    "    trn_dl = DataLoader(train, batch_size=64, shuffle=True, collate_fn=train.collate_fn) ### passing the collate function\n",
    "    \n",
    "    val = FMNISTdataset(val_images, val_targets) ## wont pass aug object\n",
    "    val_dl = DataLoader(val,batch_size=len(val_images), collate_fn=val.collate_fn,shuffle=True)\n",
    "    \n",
    "    return trn_dl, val_dl"
   ]
  },
  {
   "cell_type": "code",
   "execution_count": 252,
   "metadata": {},
   "outputs": [],
   "source": [
    "trn_dl, val_dl = get_data()"
   ]
  },
  {
   "cell_type": "code",
   "execution_count": 253,
   "metadata": {},
   "outputs": [],
   "source": [
    "#aug.augment_images?"
   ]
  },
  {
   "cell_type": "code",
   "execution_count": null,
   "metadata": {},
   "outputs": [],
   "source": []
  },
  {
   "cell_type": "code",
   "execution_count": 254,
   "metadata": {},
   "outputs": [
    {
     "name": "stdout",
     "output_type": "stream",
     "text": [
      "epoch: 0\n",
      "Current loss: 0.7038687929860564\n",
      "Current accuracy: 0.8123\n",
      "Current validation loss: 0.5144538283348083\n",
      "Current validation accuracy: 0.8128\n",
      "epoch: 1\n",
      "Current loss: 0.44991586899071107\n",
      "Current accuracy: 0.8582833333333333\n",
      "Current validation loss: 0.41976410150527954\n",
      "Current validation accuracy: 0.8521\n",
      "epoch: 2\n",
      "Current loss: 0.3771065419226059\n",
      "Current accuracy: 0.8714166666666666\n",
      "Current validation loss: 0.3896057605743408\n",
      "Current validation accuracy: 0.8648\n",
      "epoch: 3\n",
      "Current loss: 0.34126681675598314\n",
      "Current accuracy: 0.8798833333333334\n",
      "Current validation loss: 0.34515580534935\n",
      "Current validation accuracy: 0.8742\n",
      "epoch: 4\n",
      "Current loss: 0.3146599826814015\n",
      "Current accuracy: 0.89025\n",
      "Current validation loss: 0.33103179931640625\n",
      "Current validation accuracy: 0.8793\n"
     ]
    }
   ],
   "source": [
    "train_losses, train_accuracies = [], []\n",
    "val_losses, val_accuracies = [], []\n",
    "\n",
    "for epoch in range(5):\n",
    "    print(f\"epoch: {epoch}\")\n",
    "    \n",
    "    train_epoch_losses, train_epoch_accuracies = [], []\n",
    "    \n",
    "    for ix, batch in enumerate(iter(trn_dl)):\n",
    "        x, y = batch\n",
    "        \n",
    "        batch_loss = train_batch(x,y,model, optimizer,loss_fn)\n",
    "        train_epoch_losses.append(batch_loss)\n",
    "        \n",
    "    train_epoch_loss = np.array(train_epoch_losses).mean()\n",
    "    \n",
    "    for ix, batch in enumerate(iter(trn_dl)):\n",
    "        x, y = batch\n",
    "        is_correct = accuracy(x,y, model)\n",
    "        \n",
    "        train_epoch_accuracies.extend(is_correct)\n",
    "   \n",
    "    train_epoch_accuracy = np.mean(train_epoch_accuracies)\n",
    "    \n",
    "    for ix, batch in enumerate(iter(val_dl)):\n",
    "        x, y = batch\n",
    "        val_is_correct = accuracy(x,y, model)\n",
    "        validation_loss =  val_loss(x,y,model, loss_fn)\n",
    "\n",
    "    val_epoch_accuracy = np.mean(val_is_correct)\n",
    "    train_losses.append(train_epoch_loss)\n",
    "    train_accuracies.append(train_epoch_accuracy)\n",
    "    val_losses.append(validation_loss)\n",
    "    val_accuracies.append(val_epoch_accuracy)\n",
    "    \n",
    "    \n",
    "    print(f\"Current loss: {train_epoch_loss}\" )\n",
    "    print(f\"Current accuracy: {train_epoch_accuracy}\")\n",
    "    print(f\"Current validation loss: {validation_loss}\")\n",
    "    print(f\"Current validation accuracy: {val_epoch_accuracy}\")"
   ]
  },
  {
   "cell_type": "code",
   "execution_count": 255,
   "metadata": {},
   "outputs": [
    {
     "data": {
      "image/png": "[encoded data removed]",
      "text/plain": [
       "<Figure size 432x288 with 1 Axes>"
      ]
     },
     "metadata": {
      "needs_background": "light"
     },
     "output_type": "display_data"
    },
    {
     "data": {
      "image/png": "[encoded data removed]",
      "text/plain": [
       "<Figure size 432x288 with 1 Axes>"
      ]
     },
     "metadata": {
      "needs_background": "light"
     },
     "output_type": "display_data"
    }
   ],
   "source": [
    "epochs = np.arange(5)+1\n",
    "plt.subplot(211)\n",
    "plt.plot(epochs, train_losses, 'bo', label='Training loss')\n",
    "plt.plot(epochs, val_losses, 'r', label='Validation loss')\n",
    "plt.title('Training and validation loss with SGD optimizer')\n",
    "plt.xlabel('Epochs')\n",
    "plt.ylabel('Loss')\n",
    "plt.legend()\n",
    "plt.grid('off')\n",
    "plt.show()\n",
    "\n",
    "\n",
    "plt.plot(epochs, train_accuracies, 'bo', label='Training accuracy')\n",
    "plt.plot(epochs, val_accuracies, 'r', label='Validation accuracy')\n",
    "plt.title('Training and validation accuracy with SGD optimizer')\n",
    "plt.xlabel('Epochs')\n",
    "plt.ylabel('Accuracy')\n",
    "\n",
    "plt.legend()\n",
    "plt.grid('off')\n",
    "plt.show()\n",
    "\n"
   ]
  },
  {
   "attachments": {},
   "cell_type": "markdown",
   "metadata": {},
   "source": [
    "## Clearly very less overfitting"
   ]
  },
  {
   "cell_type": "code",
   "execution_count": 256,
   "metadata": {},
   "outputs": [
    {
     "data": {
      "image/png": "[encoded data removed]",
      "text/plain": [
       "<Figure size 2160x2160 with 11 Axes>"
      ]
     },
     "metadata": {
      "needs_background": "light"
     },
     "output_type": "display_data"
    }
   ],
   "source": [
    "preds = []\n",
    "ix = 4500\n",
    "\n",
    "plt.figure(figsize=(30,30))\n",
    "for px in range(-5,6):\n",
    "    img = val_images[ix]/255\n",
    "    \n",
    "    img = img.view(28,28) ### greyscale image\n",
    "    \n",
    "    img2 = np.roll(img, px, axis=1)\n",
    "    img3 =torch.tensor(img2).view(-1,1,28,28).to(device).float()\n",
    "    \n",
    "    np_output = model(img3).cpu().detach().numpy()\n",
    "    \n",
    "    pred = np.exp(np_output) / np.sum(np.exp(np_output))\n",
    "    \n",
    "    preds.append(pred)\n",
    "\n",
    "    plt.subplot(11,1,px+6)\n",
    "    plt.title(f\"Actual: {val_fmnist.classes[val_targets[ix]]} -- Prediction: {val_fmnist.classes[pred[0].argmax()]}\")\n",
    "    plt.axis(\"off\")\n",
    "    plt.imshow(img2, cmap=\"gray\")\n"
   ]
  },
  {
   "cell_type": "code",
   "execution_count": 257,
   "metadata": {},
   "outputs": [
    {
     "data": {
      "image/png": "[encoded data removed]",
      "text/plain": [
       "<Figure size 1440x1440 with 2 Axes>"
      ]
     },
     "metadata": {
      "needs_background": "light"
     },
     "output_type": "display_data"
    }
   ],
   "source": [
    "plt.figure(figsize=(20,20))\n",
    "sns.heatmap(np.array(preds).reshape(11,10), annot =True, fmt = '.2f', xticklabels=tr_fmnist.classes, yticklabels=[str(i)+str(' pixels') for i in range(-5,6)])\n",
    "plt.title('Probability of each class for various translations')\n",
    "plt.show()"
   ]
  },
  {
   "cell_type": "code",
   "execution_count": 236,
   "metadata": {},
   "outputs": [],
   "source": [
    "train2 = FMNISTdataset(tr_images[:2],tr_targets,aug = aug) ### passing aug object\n",
    "trn_dl2 = DataLoader(train2, batch_size=64, shuffle=True, collate_fn=train2.collate_fn) ### passing the collate function"
   ]
  },
  {
   "cell_type": "code",
   "execution_count": 237,
   "metadata": {},
   "outputs": [
    {
     "name": "stdout",
     "output_type": "stream",
     "text": [
      "[(tensor([[  0,   0,   0,   0,   0,   0,   0,   0,   0,   0,   0,   0,   0,   0,\n",
      "           0,   0,   0,   0,   0,   0,   0,   0,   0,   0,   0,   0,   0,   0],\n",
      "        [  0,   0,   0,   0,   0,   0,   0,   0,   0,   0,   0,   0,   0,   0,\n",
      "           0,   0,   0,   0,   0,   0,   0,   0,   0,   0,   0,   0,   0,   0],\n",
      "        [  0,   0,   0,   0,   0,   0,   0,   0,   0,   0,   0,   0,   0,   0,\n",
      "           0,   0,   0,   0,   0,   0,   0,   0,   0,   0,   0,   0,   0,   0],\n",
      "        [  0,   0,   0,   0,   0,   0,   0,   0,   0,   0,   0,   0,   1,   0,\n",
      "           0,  13,  73,   0,   0,   1,   4,   0,   0,   0,   0,   1,   1,   0],\n",
      "        [  0,   0,   0,   0,   0,   0,   0,   0,   0,   0,   0,   0,   3,   0,\n",
      "          36, 136, 127,  62,  54,   0,   0,   0,   1,   3,   4,   0,   0,   3],\n",
      "        [  0,   0,   0,   0,   0,   0,   0,   0,   0,   0,   0,   0,   6,   0,\n",
      "         102, 204, 176, 134, 144, 123,  23,   0,   0,   0,   0,  12,  10,   0],\n",
      "        [  0,   0,   0,   0,   0,   0,   0,   0,   0,   0,   0,   0,   0,   0,\n",
      "         155, 236, 207, 178, 107, 156, 161, 109,  64,  23,  77, 130,  72,  15],\n",
      "        [  0,   0,   0,   0,   0,   0,   0,   0,   0,   0,   0,   1,   0,  69,\n",
      "         207, 223, 218, 216, 216, 163, 127, 121, 122, 146, 141,  88, 172,  66],\n",
      "        [  0,   0,   0,   0,   0,   0,   0,   0,   0,   1,   1,   1,   0, 200,\n",
      "         232, 232, 233, 229, 223, 223, 215, 213, 164, 127, 123, 196, 229,   0],\n",
      "        [  0,   0,   0,   0,   0,   0,   0,   0,   0,   0,   0,   0,   0, 183,\n",
      "         225, 216, 223, 228, 235, 227, 224, 222, 224, 221, 223, 245, 173,   0],\n",
      "        [  0,   0,   0,   0,   0,   0,   0,   0,   0,   0,   0,   0,   0, 193,\n",
      "         228, 218, 213, 198, 180, 212, 210, 211, 213, 223, 220, 243, 202,   0],\n",
      "        [  0,   0,   0,   0,   0,   0,   0,   0,   0,   1,   3,   0,  12, 219,\n",
      "         220, 212, 218, 192, 169, 227, 208, 218, 224, 212, 226, 197, 209,  52],\n",
      "        [  0,   0,   0,   0,   0,   0,   0,   0,   0,   0,   6,   0,  99, 244,\n",
      "         222, 220, 218, 203, 198, 221, 215, 213, 222, 220, 245, 119, 167,  56],\n",
      "        [  0,   0,   0,   0,   0,   0,   0,   0,   0,   4,   0,   0,  55, 236,\n",
      "         228, 230, 228, 240, 232, 213, 218, 223, 234, 217, 217, 209,  92,   0],\n",
      "        [  0,   0,   1,   4,   6,   7,   2,   0,   0,   0,   0,   0, 237, 226,\n",
      "         217, 223, 222, 219, 222, 221, 216, 223, 229, 215, 218, 255,  77,   0],\n",
      "        [  0,   3,   0,   0,   0,   0,   0,   0,   0,  62, 145, 204, 228, 207,\n",
      "         213, 221, 218, 208, 211, 218, 224, 223, 219, 215, 224, 244, 159,   0],\n",
      "        [  0,   0,   0,   0,  18,  44,  82, 107, 189, 228, 220, 222, 217, 226,\n",
      "         200, 205, 211, 230, 224, 234, 176, 188, 250, 248, 233, 238, 215,   0],\n",
      "        [  0,  57, 187, 208, 224, 221, 224, 208, 204, 214, 208, 209, 200, 159,\n",
      "         245, 193, 206, 223, 255, 255, 221, 234, 221, 211, 220, 232, 246,   0],\n",
      "        [  3, 202, 228, 224, 221, 211, 211, 214, 205, 205, 205, 220, 240,  80,\n",
      "         150, 255, 229, 221, 188, 154, 191, 210, 204, 209, 222, 228, 225,   0],\n",
      "        [ 98, 233, 198, 210, 222, 229, 229, 234, 249, 220, 194, 215, 217, 241,\n",
      "          65,  73, 106, 117, 168, 219, 221, 215, 217, 223, 223, 224, 229,  29],\n",
      "        [ 75, 204, 212, 204, 193, 205, 211, 225, 216, 185, 197, 206, 198, 213,\n",
      "         240, 195, 227, 245, 239, 223, 218, 212, 209, 222, 220, 221, 230,  67],\n",
      "        [ 48, 203, 183, 194, 213, 197, 185, 190, 194, 192, 202, 214, 219, 221,\n",
      "         220, 236, 225, 216, 199, 206, 186, 181, 177, 172, 181, 205, 206, 115],\n",
      "        [  0, 122, 219, 193, 179, 171, 183, 196, 204, 210, 213, 207, 211, 210,\n",
      "         200, 196, 194, 191, 195, 191, 198, 192, 176, 156, 167, 177, 210,  92],\n",
      "        [  0,   0,  74, 189, 212, 191, 175, 172, 175, 181, 185, 188, 189, 188,\n",
      "         193, 198, 204, 209, 210, 210, 211, 188, 188, 194, 192, 216, 170,   0],\n",
      "        [  2,   0,   0,   0,  66, 200, 222, 237, 239, 242, 246, 243, 244, 221,\n",
      "         220, 193, 191, 179, 182, 182, 181, 176, 166, 168,  99,  58,   0,   0],\n",
      "        [  0,   0,   0,   0,   0,   0,   0,  40,  61,  44,  72,  41,  35,   0,\n",
      "           0,   0,   0,   0,   0,   0,   0,   0,   0,   0,   0,   0,   0,   0],\n",
      "        [  0,   0,   0,   0,   0,   0,   0,   0,   0,   0,   0,   0,   0,   0,\n",
      "           0,   0,   0,   0,   0,   0,   0,   0,   0,   0,   0,   0,   0,   0],\n",
      "        [  0,   0,   0,   0,   0,   0,   0,   0,   0,   0,   0,   0,   0,   0,\n",
      "           0,   0,   0,   0,   0,   0,   0,   0,   0,   0,   0,   0,   0,   0]],\n",
      "       device='cuda:0', dtype=torch.uint8), tensor([[  0,   0,   0,   0,   0,   1,   0,   0,   0,   0,  41, 188, 103,  54,\n",
      "          48,  43,  87, 168, 133,  16,   0,   0,   0,   0,   0,   0,   0,   0],\n",
      "        [  0,   0,   0,   1,   0,   0,   0,  49, 136, 219, 216, 228, 236, 255,\n",
      "         255, 255, 255, 217, 215, 254, 231, 160,  45,   0,   0,   0,   0,   0],\n",
      "        [  0,   0,   0,   0,   0,  14, 176, 222, 224, 212, 203, 198, 196, 200,\n",
      "         215, 204, 202, 201, 201, 201, 209, 218, 224, 164,   0,   0,   0,   0],\n",
      "        [  0,   0,   0,   0,   0, 188, 219, 200, 198, 202, 198, 199, 199, 201,\n",
      "         196, 198, 198, 200, 200, 200, 200, 201, 200, 225,  41,   0,   0,   0],\n",
      "        [  0,   0,   0,   0,  51, 219, 199, 203, 203, 212, 238, 248, 250, 245,\n",
      "         249, 246, 247, 252, 248, 235, 207, 203, 203, 222, 140,   0,   0,   0],\n",
      "        [  0,   0,   0,   0, 116, 226, 206, 204, 207, 204, 101,  75,  47,  73,\n",
      "          48,  50,  45,  51,  63, 113, 222, 202, 206, 220, 224,   0,   0,   0],\n",
      "        [  0,   0,   0,   0, 200, 222, 209, 203, 215, 200,   0,  70,  98,   0,\n",
      "         103,  59,  68,  71,  49,   0, 219, 206, 214, 210, 250,  38,   0,   0],\n",
      "        [  0,   0,   0,   0, 247, 218, 212, 210, 215, 214,   0, 254, 243, 139,\n",
      "         255, 174, 251, 255, 205,   0, 215, 217, 214, 208, 220,  95,   0,   0],\n",
      "        [  0,   0,   0,  45, 226, 214, 214, 215, 224, 205,   0,  42,  35,  60,\n",
      "          16,  17,  12,  13,  70,   0, 189, 216, 212, 206, 212, 156,   0,   0],\n",
      "        [  0,   0,   0, 164, 235, 214, 211, 220, 216, 201,  52,  71,  89,  94,\n",
      "          83,  78,  70,  76,  92,  87, 206, 207, 222, 213, 219, 208,   0,   0],\n",
      "        [  0,   0,   0, 106, 187, 223, 237, 248, 211, 198, 252, 250, 248, 245,\n",
      "         248, 252, 253, 250, 252, 239, 201, 212, 225, 215, 193, 113,   0,   0],\n",
      "        [  0,   0,   0,   0,   0,  17,  54, 159, 222, 193, 208, 192, 197, 200,\n",
      "         200, 200, 200, 201, 203, 195, 210, 165,   0,   0,   0,   0,   0,   0],\n",
      "        [  0,   0,   0,   0,   0,   0,   0,  47, 225, 192, 214, 203, 206, 204,\n",
      "         204, 205, 206, 204, 212, 197, 218, 107,   0,   0,   0,   0,   0,   0],\n",
      "        [  0,   0,   0,   0,   1,   6,   0,  46, 212, 195, 212, 202, 206, 205,\n",
      "         204, 205, 206, 204, 212, 200, 218,  91,   0,   3,   1,   0,   0,   0],\n",
      "        [  0,   0,   0,   0,   0,   1,   0,  11, 197, 199, 205, 202, 205, 206,\n",
      "         204, 205, 207, 204, 205, 205, 218,  77,   0,   5,   0,   0,   0,   0],\n",
      "        [  0,   0,   0,   0,   0,   3,   0,   2, 191, 198, 201, 205, 206, 205,\n",
      "         205, 206, 209, 206, 199, 209, 219,  74,   0,   5,   0,   0,   0,   0],\n",
      "        [  0,   0,   0,   0,   0,   2,   0,   0, 188, 197, 200, 207, 207, 204,\n",
      "         207, 207, 210, 208, 198, 207, 221,  72,   0,   4,   0,   0,   0,   0],\n",
      "        [  0,   0,   0,   0,   0,   2,   0,   0, 215, 198, 203, 206, 208, 205,\n",
      "         207, 207, 210, 208, 200, 202, 222,  75,   0,   4,   0,   0,   0,   0],\n",
      "        [  0,   0,   0,   0,   0,   1,   0,   0, 212, 198, 209, 206, 209, 206,\n",
      "         208, 207, 211, 206, 205, 198, 221,  80,   0,   3,   0,   0,   0,   0],\n",
      "        [  0,   0,   0,   0,   0,   1,   0,   0, 204, 201, 205, 208, 207, 205,\n",
      "         211, 205, 210, 210, 209, 195, 221,  96,   0,   3,   0,   0,   0,   0],\n",
      "        [  0,   0,   0,   0,   0,   1,   0,   0, 202, 201, 205, 209, 207, 205,\n",
      "         213, 206, 210, 209, 210, 194, 217, 105,   0,   2,   0,   0,   0,   0],\n",
      "        [  0,   0,   0,   0,   0,   1,   0,   0, 204, 204, 205, 208, 207, 205,\n",
      "         215, 207, 210, 208, 211, 193, 213, 115,   0,   2,   0,   0,   0,   0],\n",
      "        [  0,   0,   0,   0,   0,   0,   0,   0, 204, 207, 207, 208, 206, 206,\n",
      "         215, 210, 210, 207, 212, 195, 210, 118,   0,   2,   0,   0,   0,   0],\n",
      "        [  0,   0,   0,   0,   0,   1,   0,   0, 198, 208, 208, 208, 204, 207,\n",
      "         212, 212, 210, 207, 211, 196, 207, 121,   0,   1,   0,   0,   0,   0],\n",
      "        [  0,   0,   0,   0,   0,   1,   0,   0, 198, 210, 207, 208, 206, 209,\n",
      "         213, 212, 211, 207, 210, 197, 207, 124,   0,   1,   0,   0,   0,   0],\n",
      "        [  0,   0,   0,   0,   0,   0,   0,   0, 172, 210, 203, 201, 199, 204,\n",
      "         207, 205, 204, 201, 205, 197, 206, 127,   0,   0,   0,   0,   0,   0],\n",
      "        [  0,   0,   0,   0,   0,   0,   0,   0, 188, 221, 214, 234, 236, 238,\n",
      "         244, 244, 244, 240, 243, 214, 224, 162,   0,   2,   0,   0,   0,   0],\n",
      "        [  0,   0,   0,   0,   0,   1,   0,   0, 139, 146, 130, 135, 135, 137,\n",
      "         125, 124, 125, 121, 119, 114, 130,  76,   0,   0,   0,   0,   0,   0]],\n",
      "       device='cuda:0', dtype=torch.uint8)), (tensor(9, device='cuda:0'), tensor(0, device='cuda:0'))]\n",
      "(0, None)\n"
     ]
    }
   ],
   "source": [
    "for x in enumerate(iter(trn_dl2)):\n",
    "    print(x)"
   ]
  },
  {
   "cell_type": "code",
   "execution_count": null,
   "metadata": {},
   "outputs": [],
   "source": []
  }
 ],
 "metadata": {
  "kernelspec": {
   "display_name": "base",
   "language": "python",
   "name": "python3"
  },
  "language_info": {
   "codemirror_mode": {
    "name": "ipython",
    "version": 3
   },
   "file_extension": ".py",
   "mimetype": "text/x-python",
   "name": "python",
   "nbconvert_exporter": "python",
   "pygments_lexer": "ipython3",
   "version": "3.8.8"
  },
  "orig_nbformat": 4,
  "vscode": {
   "interpreter": {
    "hash": "d9d52e4e42d889ef44fdd960ad7523bff2f529da33eef29f47a98bbc470680c4"
   }
  }
 },
 "nbformat": 4,
 "nbformat_minor": 2
}
